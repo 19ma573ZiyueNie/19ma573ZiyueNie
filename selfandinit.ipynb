{
  "nbformat": 4,
  "nbformat_minor": 0,
  "metadata": {
    "colab": {
      "name": "selfandinit.ipynb",
      "version": "0.3.2",
      "provenance": [],
      "include_colab_link": true
    },
    "kernelspec": {
      "name": "python3",
      "display_name": "Python 3"
    }
  },
  "cells": [
    {
      "cell_type": "markdown",
      "metadata": {
        "id": "view-in-github",
        "colab_type": "text"
      },
      "source": [
        "<a href=\"https://colab.research.google.com/github/ZiyueNie/19ma573ZiyueNie/blob/master/selfandinit.ipynb\" target=\"_parent\"><img src=\"https://colab.research.google.com/assets/colab-badge.svg\" alt=\"Open In Colab\"/></a>"
      ]
    },
    {
      "metadata": {
        "id": "XfBA0HrYp8kt",
        "colab_type": "code",
        "colab": {}
      },
      "cell_type": "code",
      "source": [
        "name='zoe'; \n",
        "\n",
        "class Person:\n",
        "   #name=\"class global name\"\n",
        "  name='nie'\n",
        "  \n",
        "  def __init__(self, newPersonName):\n",
        "     \n",
        "      #self.name=newPersonName #全局变量\n",
        "      name=newPersonName #局部变量\n",
        "\n",
        "  def sayYourName(self):\n",
        "      print(\"My person name is\" +self.name) #由后面调用 如果前面定义是name，则此处直接调用的是Person.name,nie\n",
        "      print(\"My actual name is\" +name) #zoe"
      ],
      "execution_count": 0,
      "outputs": []
    },
    {
      "metadata": {
        "id": "36cLz93DrLij",
        "colab_type": "code",
        "colab": {
          "base_uri": "https://localhost:8080/",
          "height": 52
        },
        "outputId": "7fc79695-45e7-4c0e-f0fa-6334234e6f81"
      },
      "cell_type": "code",
      "source": [
        "#def test():此处可以不用定义一个函数\n",
        "  aa=Person('Zoe')\n",
        "  aa.sayYourName()"
      ],
      "execution_count": 43,
      "outputs": [
        {
          "output_type": "stream",
          "text": [
            "My person name isnie\n",
            "My actual name iszoe\n"
          ],
          "name": "stdout"
        }
      ]
    },
    {
      "metadata": {
        "id": "JuelQBxMtuiv",
        "colab_type": "code",
        "colab": {
          "base_uri": "https://localhost:8080/",
          "height": 52
        },
        "outputId": "b8b09d1b-2bea-4295-eb67-6c738a12ddce"
      },
      "cell_type": "code",
      "source": [
        "test()"
      ],
      "execution_count": 42,
      "outputs": [
        {
          "output_type": "stream",
          "text": [
            "My person name isnie\n",
            "My actual name iszoe\n"
          ],
          "name": "stdout"
        }
      ]
    },
    {
      "metadata": {
        "id": "KdanXqx7vlsZ",
        "colab_type": "code",
        "colab": {}
      },
      "cell_type": "code",
      "source": [
        ""
      ],
      "execution_count": 0,
      "outputs": []
    }
  ]
}