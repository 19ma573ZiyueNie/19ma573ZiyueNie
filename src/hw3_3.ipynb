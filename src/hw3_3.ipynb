{
  "nbformat": 4,
  "nbformat_minor": 0,
  "metadata": {
    "colab": {
      "name": "hw3-3.ipynb",
      "version": "0.3.2",
      "provenance": [],
      "include_colab_link": true
    },
    "kernelspec": {
      "name": "python3",
      "display_name": "Python 3"
    }
  },
  "cells": [
    {
      "cell_type": "markdown",
      "metadata": {
        "id": "view-in-github",
        "colab_type": "text"
      },
      "source": [
        "<a href=\"https://colab.research.google.com/github/ZiyueNie/19ma573ZiyueNie/blob/master/src/hw3_3.ipynb\" target=\"_parent\"><img src=\"https://colab.research.google.com/assets/colab-badge.svg\" alt=\"Open In Colab\"/></a>"
      ]
    },
    {
      "metadata": {
        "id": "R3uJxJbwtZjp",
        "colab_type": "text"
      },
      "cell_type": "markdown",
      "source": [
        "Consider an european option with\n",
        "- call type\n",
        "- strike = 110\n",
        "- maturity = T\n",
        "underlying a Gbm stock with\n",
        "- initial: 100\n",
        "- interest rate: 4.75%\n",
        "- vol ratio: $\\sigma$\n",
        "\n",
        "We denote this bsm price by $f(\\sigma, T)$.\n",
        "\n",
        "- Let $\\sigma = 20\\%$ fixed. plot $T \\mapsto f(0.2, T)$ when $T$ is ranging over $(0.5, 2)$.\n",
        "\n",
        "- Let $T = 1$ fixed. plot $\\sigma \\mapsto f(\\sigma, 1)$ when $\\sigma$ is ranging over $(.05, 0.5)$\n",
        "\n",
        "- Describe your observations. Do you think the same behavior is also true for put?\n",
        "\n",
        "- Could you prove your observations?  "
      ]
    },
    {
      "metadata": {
        "id": "0fTzWLcUtaOK",
        "colab_type": "code",
        "colab": {}
      },
      "cell_type": "code",
      "source": [
        "import numpy as np\n",
        "import scipy.stats as ss"
      ],
      "execution_count": 0,
      "outputs": []
    },
    {
      "metadata": {
        "id": "bYqXEoojusR9",
        "colab_type": "code",
        "colab": {
          "base_uri": "https://localhost:8080/",
          "height": 141
        },
        "outputId": "1bfeed19-7d41-4d32-9d87-a8246d582212"
      },
      "cell_type": "code",
      "source": [
        "!git clone https://github.com/ZiyueNie/19ma573ZiyueNie"
      ],
      "execution_count": 17,
      "outputs": [
        {
          "output_type": "stream",
          "text": [
            "Cloning into '19ma573ZiyueNie'...\n",
            "remote: Enumerating objects: 134, done.\u001b[K\n",
            "remote: Counting objects: 100% (134/134), done.\u001b[K\n",
            "remote: Compressing objects: 100% (131/131), done.\u001b[K\n",
            "remote: Total 134 (delta 49), reused 0 (delta 0), pack-reused 0\u001b[K\n",
            "Receiving objects: 100% (134/134), 204.17 KiB | 1.63 MiB/s, done.\n",
            "Resolving deltas: 100% (49/49), done.\n"
          ],
          "name": "stdout"
        }
      ]
    },
    {
      "metadata": {
        "id": "rhrusFxGvHNG",
        "colab_type": "code",
        "colab": {
          "base_uri": "https://localhost:8080/",
          "height": 35
        },
        "outputId": "9794803f-8831-4128-c7b1-4d89b41b9ae3"
      },
      "cell_type": "code",
      "source": [
        "cd/content/19ma573ZiyueNie/src/"
      ],
      "execution_count": 18,
      "outputs": [
        {
          "output_type": "stream",
          "text": [
            "/content/19ma573ZiyueNie/src\n"
          ],
          "name": "stdout"
        }
      ]
    },
    {
      "metadata": {
        "id": "CJhw9E49wPmg",
        "colab_type": "code",
        "colab": {
          "base_uri": "https://localhost:8080/",
          "height": 35
        },
        "outputId": "43e12f3f-95b1-47e7-adea-66a69342b986"
      },
      "cell_type": "code",
      "source": [
        "ls european_options.py"
      ],
      "execution_count": 19,
      "outputs": [
        {
          "output_type": "stream",
          "text": [
            "european_options.py\n"
          ],
          "name": "stdout"
        }
      ]
    },
    {
      "metadata": {
        "id": "vYSeDOKZw1V8",
        "colab_type": "code",
        "colab": {}
      },
      "cell_type": "code",
      "source": [
        "from european_options import VanillaOption"
      ],
      "execution_count": 0,
      "outputs": []
    },
    {
      "metadata": {
        "id": "WWdrt6Ncxypd",
        "colab_type": "code",
        "colab": {
          "base_uri": "https://localhost:8080/",
          "height": 35
        },
        "outputId": "87e1f370-a5f9-4c96-dbba-ada6b30431f8"
      },
      "cell_type": "code",
      "source": [
        "ls Gbm.py"
      ],
      "execution_count": 21,
      "outputs": [
        {
          "output_type": "stream",
          "text": [
            "ls: cannot access 'Gbm.py': No such file or directory\n"
          ],
          "name": "stdout"
        }
      ]
    }
  ]
}