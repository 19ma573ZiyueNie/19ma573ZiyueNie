{
  "nbformat": 4,
  "nbformat_minor": 0,
  "metadata": {
    "colab": {
      "name": "hw7_3.ipynb",
      "version": "0.3.2",
      "provenance": [],
      "include_colab_link": true
    },
    "kernelspec": {
      "name": "python3",
      "display_name": "Python 3"
    }
  },
  "cells": [
    {
      "cell_type": "markdown",
      "metadata": {
        "id": "view-in-github",
        "colab_type": "text"
      },
      "source": [
        "<a href=\"https://colab.research.google.com/github/ZiyueNie/19ma573ZiyueNie/blob/master/src/hw7_3.ipynb\" target=\"_parent\"><img src=\"https://colab.research.google.com/assets/colab-badge.svg\" alt=\"Open In Colab\"/></a>"
      ]
    },
    {
      "metadata": {
        "id": "854qMx8wAvZn",
        "colab_type": "text"
      },
      "cell_type": "markdown",
      "source": [
        "**1**.**Verify the explicit form of** $r_{t}$ **given by**\n",
        "\n",
        "$$r_t = r_0e^{-\\kappa t} + \\mu(1 - e^{-\\kappa t}) + \\sigma e^{-\\kappa t}\\int_{0}^{t}e^{\\kappa s} dW_s$$ **is the solution to the original vasicek model**\n",
        "$$\n",
        "dr_t = \\kappa(\\mu - r_t)dt + \\sigma dW_t\n",
        "$$ \n",
        "<br>**Proof**\n",
        "<br>\n",
        "$$\n",
        "\\begin{align*}\n",
        "&dr_t = \\kappa(\\mu - r_t)dt + \\sigma dW_t \\\\\n",
        "&dr_t+\\kappa r_t dt=\\kappa \\mu dt+\\sigma dW_t\\\\\n",
        "&e^{\\kappa t}dr_t+ e^{\\kappa t}\\kappa r_t dt=e^{\\kappa t}\\kappa \\mu dt+e^{\\kappa t}\\sigma dW_t\\\\\n",
        "&d(e^{\\kappa t}r_t)=e^{\\kappa t}\\kappa \\mu dt+e^{\\kappa t}\\sigma dW_t\\\\\n",
        "&\\int_0^t d(e^{\\kappa t}r_t)=\\mu\\int_0^t \\kappa e^{\\kappa t}  dt +\\sigma\\int_0^t e^{\\kappa s}dW_s \\\\\n",
        "&e^{\\kappa t}r_t-r_0=\\mu(e^{\\kappa t}-1)+\\sigma\\int_0^t e^{\\kappa s}dW_s \\\\\n",
        "&r_t = r_0e^{-\\kappa t} + \\mu(1 - e^{-\\kappa t}) + \\sigma e^{-\\kappa t}\\int_{0}^{t}e^{\\kappa s} dW_s\n",
        "\\end{align*}\n",
        "$$"
      ]
    },
    {
      "metadata": {
        "id": "LNppwkd_HFlf",
        "colab_type": "text"
      },
      "cell_type": "markdown",
      "source": [
        "**2.** **Design pricing engine of ZCB P(0,T) using explicit form**\n",
        "$$r_t = r_0e^{-\\kappa t} + \\mu(1 - e^{-\\kappa t}) + \\sigma e^{-\\kappa t}\\int_{0}^{t}e^{\\kappa s} dW_s$$"
      ]
    },
    {
      "metadata": {
        "id": "1wNmu2kDIUeH",
        "colab_type": "code",
        "colab": {}
      },
      "cell_type": "code",
      "source": [
        "import numpy as np\n",
        "import scipy.stats as ss\n",
        "import scipy.optimize as so\n",
        "import pandas as pd\n",
        "import matplotlib.pyplot as plt"
      ],
      "execution_count": 0,
      "outputs": []
    },
    {
      "metadata": {
        "id": "H5Cjz0zxItm8",
        "colab_type": "code",
        "colab": {}
      },
      "cell_type": "code",
      "source": [
        "def zcb_explicit(T,kappa,sigma,mu,r0):\n",
        "  B=(1-np.exp(-kappa*(T)))/kappa\n",
        "  A=(mu-sigma**2/(2*kappa**2))*(B-T)-sigma**2/(4*kappa)*(B**2)\n",
        "  return np.exp(A-B*r0)"
      ],
      "execution_count": 0,
      "outputs": []
    },
    {
      "metadata": {
        "id": "wSULV1D4KdZQ",
        "colab_type": "text"
      },
      "cell_type": "markdown",
      "source": [
        "**3.** **Design alternative pricing engine of ZCB P(0,T) using exact sampling**"
      ]
    },
    {
      "metadata": {
        "id": "FHAKSXjgU4kl",
        "colab_type": "code",
        "colab": {}
      },
      "cell_type": "code",
      "source": [
        "def zcb_exactsampling(T,kappa,mu,sigma,r0,n):\n",
        "  mu=(mu*T)+((r0-mu)*(1-np.exp(-kappa*T))/kappa)\n",
        "  var=((sigma**2)/(2*(kappa**3)))*((2*kappa*T)-3+(4*np.exp(-kappa*T))-np.exp(-2*kappa*T))\n",
        "  r= np.random.normal(mu,var,n)\n",
        "  r_=np.exp(-r)\n",
        "  return np.mean(r_)"
      ],
      "execution_count": 0,
      "outputs": []
    },
    {
      "metadata": {
        "id": "pXMbzuKIWuyK",
        "colab_type": "text"
      },
      "cell_type": "markdown",
      "source": [
        "**4.** **Compute ZCB P(0,1) Libor L(0,1) with the following parameters using above two different pricing engines.**"
      ]
    },
    {
      "metadata": {
        "id": "vAaZTBRmXt-I",
        "colab_type": "code",
        "colab": {}
      },
      "cell_type": "code",
      "source": [
        "theta=[0.1,0.05,0.003,0.03]\n",
        "kappa,mu,sigma,r0=theta\n",
        "T=1\n",
        "n=100"
      ],
      "execution_count": 0,
      "outputs": []
    },
    {
      "metadata": {
        "id": "qOxahdikXI2C",
        "colab_type": "code",
        "colab": {
          "base_uri": "https://localhost:8080/",
          "height": 52
        },
        "outputId": "ee5b9465-aaf2-41fd-b94a-f94b6006ac0e"
      },
      "cell_type": "code",
      "source": [
        "P_explicit=zcb_explicit(T,kappa,sigma,mu,r0)\n",
        "print('ZCB P(0,1) price using explicit form is '+ str(P_explicit))\n",
        "P_exactsampling=zcb_exactsampling(T,kappa,mu,sigma,r0,n)\n",
        "print('ZCB P(0,1) price using exact sampling is '+ str(P_exactsampling))"
      ],
      "execution_count": 7,
      "outputs": [
        {
          "output_type": "stream",
          "text": [
            "ZCB P(0,1) price using explicit form is 0.9695084475425054\n",
            "ZCB P(0,1) price using exact sampling is 0.9695070194401448\n"
          ],
          "name": "stdout"
        }
      ]
    },
    {
      "metadata": {
        "id": "RaR6fUIvYQCz",
        "colab_type": "code",
        "colab": {}
      },
      "cell_type": "code",
      "source": [
        "def Libor(T,P):\n",
        "  return 100/T*(1/P-1)\n",
        "  "
      ],
      "execution_count": 0,
      "outputs": []
    },
    {
      "metadata": {
        "id": "8PP2HEHHaLCw",
        "colab_type": "code",
        "colab": {
          "base_uri": "https://localhost:8080/",
          "height": 52
        },
        "outputId": "1e42792d-8f6a-4e22-bceb-9ef73addac13"
      },
      "cell_type": "code",
      "source": [
        "L_explicit=Libor(T,P_explicit)\n",
        "print('ZCB L(0,1) price using explicit form is '+ str(L_explicit))\n",
        "L_exactsampling=Libor(T,P_exactsampling)\n",
        "print('ZCB L(0,1) price using exact sampling is '+ str(L_exactsampling))"
      ],
      "execution_count": 9,
      "outputs": [
        {
          "output_type": "stream",
          "text": [
            "ZCB L(0,1) price using explicit form is 3.145052787810565\n",
            "ZCB L(0,1) price using exact sampling is 3.1452047224437507\n"
          ],
          "name": "stdout"
        }
      ]
    },
    {
      "metadata": {
        "id": "nNOMCfVcbUsN",
        "colab_type": "text"
      },
      "cell_type": "markdown",
      "source": [
        "**5.** **Find 10 term swap rates with term length 1/2 year** "
      ]
    },
    {
      "metadata": {
        "id": "nqzh9APXahwf",
        "colab_type": "code",
        "colab": {}
      },
      "cell_type": "code",
      "source": [
        "P1=[]\n",
        "P2=[]\n",
        "def Swap(T,N,kappa,sigma,mu,r0):\n",
        "  delta=T/N\n",
        "  for j in range(N):\n",
        "    P1.append(zcb_explicit((j+1)*delta,kappa,sigma,mu,r0)) # using explicit form\n",
        "    P2.append(zcb_exactsampling((j+1)*delta,kappa,mu,sigma,r0,n)) # using exact sampling\n",
        "  S1=100*(1-zcb_explicit(T,kappa,sigma,mu,r0))/(delta*sum(P1))\n",
        "  S2=100*(1-zcb_exactsampling(T,kappa,mu,sigma,r0,n))/(delta*sum(P2))\n",
        "  return S1,S2  "
      ],
      "execution_count": 0,
      "outputs": []
    },
    {
      "metadata": {
        "id": "MQgWIP_wdzYl",
        "colab_type": "code",
        "colab": {
          "base_uri": "https://localhost:8080/",
          "height": 52
        },
        "outputId": "924a6660-a9dd-4cf6-d000-b95dfe5171bf"
      },
      "cell_type": "code",
      "source": [
        "S1,S2=Swap(5,10,kappa,sigma,mu,r0)\n",
        "print('10 term swap rates with term length 1/2 year using explicit form is '+ str(S1))\n",
        "print('10 term swap rates with term length 1/2 year using exact sampling is '+ str(S2))\n"
      ],
      "execution_count": 11,
      "outputs": [
        {
          "output_type": "stream",
          "text": [
            "10 term swap rates with term length 1/2 year using explicit form is 3.441821396389877\n",
            "10 term swap rates with term length 1/2 year using exact sampling is 3.4446715222424995\n"
          ],
          "name": "stdout"
        }
      ]
    },
    {
      "metadata": {
        "id": "eq5RfepyiWeh",
        "colab_type": "text"
      },
      "cell_type": "markdown",
      "source": [
        " **6.** **Pick a date, and using Libor market data of that data, calibrate Vasicek model. Then compare market rate and calibrated rate in a plot**"
      ]
    },
    {
      "metadata": {
        "id": "BuYrE5Dssg1k",
        "colab_type": "code",
        "colab": {}
      },
      "cell_type": "code",
      "source": [
        "dfLiborRate = pd.DataFrame({'maturity (months)': [1, 2, 3, 6, 12],\n",
        "                           '20081029 rate(%)': [3.1175, 3.2738, 3.4200, 3.4275, 3.4213],\n",
        "                           '20110214 rate(%)': [0.2647, 0.2890, 0.3140, 0.4657, 0.7975]\n",
        "                           })\n",
        "\n",
        "libor_2008_10_29 = [3.1175, 3.2738, 3.4200, 3.4275, 3.4213]\n",
        "libor_2011_02_14 = [0.2647, 0.2890, 0.3140, 0.4657, 0.7975]\n",
        "libor_maturities = [1/12, 2/12, 3/12, 6/12, 12/12]"
      ],
      "execution_count": 0,
      "outputs": []
    },
    {
      "metadata": {
        "id": "rxEzi8WEtdw3",
        "colab_type": "code",
        "colab": {}
      },
      "cell_type": "code",
      "source": [
        "def err_function(x,libor_2008_10_29,libor_maturities):\n",
        "  kappa,mu,sigma,r0=x\n",
        "  P1=[]\n",
        "  for T in libor_maturities:\n",
        "    P1.append(zcb_explicit(T,kappa,sigma,mu,r0))\n",
        "  P1=np.array(P1)\n",
        "  return sum((P1-libor_2008_10_29)**2)"
      ],
      "execution_count": 0,
      "outputs": []
    },
    {
      "metadata": {
        "id": "16EdFPRHv6xl",
        "colab_type": "code",
        "colab": {
          "base_uri": "https://localhost:8080/",
          "height": 34
        },
        "outputId": "0043c4a2-bc9f-476f-f128-56303ad2b12d"
      },
      "cell_type": "code",
      "source": [
        "x=np.array([kappa,mu,sigma,r0])\n",
        "err_function(x, libor_2008_10_29,libor_maturities)"
      ],
      "execution_count": 14,
      "outputs": [
        {
          "output_type": "execute_result",
          "data": {
            "text/plain": [
              "27.55805596080814"
            ]
          },
          "metadata": {
            "tags": []
          },
          "execution_count": 14
        }
      ]
    },
    {
      "metadata": {
        "id": "q95JGVy8v67L",
        "colab_type": "code",
        "colab": {}
      },
      "cell_type": "code",
      "source": [
        "def calibration(libor_maturities,libor_2008_10_29):\n",
        "  init_guess=np.array([0.1, 0.05, 0.003, 0.03])\n",
        "  return so.fmin(err_function, init_guess, args =(libor_2008_10_29,libor_maturities), disp =0)"
      ],
      "execution_count": 0,
      "outputs": []
    },
    {
      "metadata": {
        "id": "Hw8tPkNOxecK",
        "colab_type": "code",
        "colab": {}
      },
      "cell_type": "code",
      "source": [
        "kappa_cali,mu_cali,sigma_cali,r_cali=calibration(libor_maturities,libor_2008_10_29)\n",
        "x_cali=[]\n",
        "for T in libor_maturities:\n",
        "  x_cali.append(zcb_exactsampling(T,kappa_cali,mu_cali,sigma_cali,r_cali,n))"
      ],
      "execution_count": 0,
      "outputs": []
    },
    {
      "metadata": {
        "id": "My6JvkOc0NZ3",
        "colab_type": "code",
        "colab": {
          "base_uri": "https://localhost:8080/",
          "height": 361
        },
        "outputId": "87382353-8251-4995-a5f5-983032520080"
      },
      "cell_type": "code",
      "source": [
        "plt.scatter(libor_maturities,x_cali,color='b',label='calibrated rate')\n",
        "plt.scatter(libor_maturities,libor_2008_10_29,color='r',label='market rate')\n",
        "plt.legend()\n",
        "plt.xlabel('maturities')\n",
        "plt.ylabel('rate')\n",
        "plt.show()\n"
      ],
      "execution_count": 17,
      "outputs": [
        {
          "output_type": "display_data",
          "data": {
            "image/png": "[encoded data removed]",
            "text/plain": [
              "<Figure size 576x396 with 1 Axes>"
            ]
          },
          "metadata": {
            "tags": []
          }
        }
      ]
    },
    {
      "metadata": {
        "id": "U05WeZdN1u73",
        "colab_type": "text"
      },
      "cell_type": "markdown",
      "source": [
        "**7.Pick a date, and using Swap market data of that data, calibrate Vasicek model. Then compare market rate and calibrated rate in a plot**"
      ]
    },
    {
      "metadata": {
        "id": "OXGLxoVz2Ec_",
        "colab_type": "code",
        "colab": {}
      },
      "cell_type": "code",
      "source": [
        "dfSwapRate = pd.DataFrame({'term (year)': [2, 3, 5, 7, 10, 15, 30],\n",
        "                          '20081029 rate(%)': [2.6967, 3.1557, 3.8111, 4.1497, 4.3638, 4.3753, 4.2772],\n",
        "                          '20110214 rate(%)': [1.0481, 1.5577, 2.5569, 3.1850, 3.7225, 4.1683, 4.4407]\n",
        "                          })\n",
        "\n",
        "swap_2008_10_29 = [2.6967, 3.1557, 3.8111, 4.1497, 4.3638, 4.3753, 4.2772]\n",
        "swap_2011_02_14 = [1.0481, 1.5577, 2.5569, 3.1850, 3.7225, 4.1683, 4.4407]\n",
        "swap_maturities = [2, 3, 5, 7, 10, 15, 30]\n",
        "swap_terms = [4, 6, 10, 14, 20, 30, 60]"
      ],
      "execution_count": 0,
      "outputs": []
    },
    {
      "metadata": {
        "id": "fcyemKNA3JBD",
        "colab_type": "code",
        "colab": {}
      },
      "cell_type": "code",
      "source": [
        "def err1_function(x,swap_terms,swap_2008_10_29):\n",
        "  kappa,mu,sigma,r0=x\n",
        "  s=[]\n",
        "  for N in swap_terms:\n",
        "    s.append(Swap(N/2,N,kappa,sigma,mu,r0)[0])\n",
        "  s=np.array(s)\n",
        "  return sum((s-swap_2008_10_29)**2)\n",
        " "
      ],
      "execution_count": 0,
      "outputs": []
    },
    {
      "metadata": {
        "id": "BZ7OghJ73L4H",
        "colab_type": "code",
        "colab": {
          "base_uri": "https://localhost:8080/",
          "height": 34
        },
        "outputId": "354e3ef9-2a7b-4723-a1aa-cc0862ebdbf5"
      },
      "cell_type": "code",
      "source": [
        "err1_function(x,swap_terms,swap_2008_10_29)\n"
      ],
      "execution_count": 34,
      "outputs": [
        {
          "output_type": "execute_result",
          "data": {
            "text/plain": [
              "105.45556705000001"
            ]
          },
          "metadata": {
            "tags": []
          },
          "execution_count": 34
        }
      ]
    },
    {
      "metadata": {
        "id": "X1yZnZsd5-Ol",
        "colab_type": "code",
        "colab": {}
      },
      "cell_type": "code",
      "source": [
        "def calibration1(swap_terms,swap_2008_10_29):\n",
        "  init_guess=np.array([.1, .05, .003, .03])\n",
        "  return so.fmin(err1_function, init_guess, args = (swap_terms,swap_2008_10_29), disp = 0)"
      ],
      "execution_count": 0,
      "outputs": []
    },
    {
      "metadata": {
        "id": "U6H4cEF-6DIU",
        "colab_type": "code",
        "colab": {}
      },
      "cell_type": "code",
      "source": [
        "kappa_cali,mu_cali,sigma_cali,r_cali=calibration1(swap_terms,swap_2008_10_29)"
      ],
      "execution_count": 0,
      "outputs": []
    },
    {
      "metadata": {
        "id": "kRMkBQ9s8GtF",
        "colab_type": "code",
        "colab": {
          "base_uri": "https://localhost:8080/",
          "height": 361
        },
        "outputId": "753ac228-7c71-400b-850e-51315a959d09"
      },
      "cell_type": "code",
      "source": [
        "x_swap_cali=[]\n",
        "for N in swap_terms:\n",
        "  x_swap_cali.append(Swap(N/2,N,kappa_cali,mu_cali,sigma_cali,r_cali)[0])\n",
        "plt.plot(swap_terms,x_swap_cali,color='b',label='calibrated rate') \n",
        "plt.scatter(swap_terms,swap_2008_10_29,color='r',label='market rate')\n",
        "plt.legend()\n",
        "plt.xlabel('terms')\n",
        "plt.ylabel('Rate')\n",
        "plt.show()"
      ],
      "execution_count": 37,
      "outputs": [
        {
          "output_type": "display_data",
          "data": {
            "image/png": "[encoded data removed]",
            "text/plain": [
              "<Figure size 576x396 with 1 Axes>"
            ]
          },
          "metadata": {
            "tags": []
          }
        }
      ]
    }
  ]
}