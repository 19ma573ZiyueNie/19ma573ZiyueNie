{
  "nbformat": 4,
  "nbformat_minor": 0,
  "metadata": {
    "colab": {
      "name": "hw7_3.ipynb",
      "version": "0.3.2",
      "provenance": [],
      "include_colab_link": true
    },
    "kernelspec": {
      "name": "python3",
      "display_name": "Python 3"
    }
  },
  "cells": [
    {
      "cell_type": "markdown",
      "metadata": {
        "id": "view-in-github",
        "colab_type": "text"
      },
      "source": [
        "<a href=\"https://colab.research.google.com/github/ZiyueNie/19ma573ZiyueNie/blob/master/src/hw7_3.ipynb\" target=\"_parent\"><img src=\"https://colab.research.google.com/assets/colab-badge.svg\" alt=\"Open In Colab\"/></a>"
      ]
    },
    {
      "metadata": {
        "id": "854qMx8wAvZn",
        "colab_type": "text"
      },
      "cell_type": "markdown",
      "source": [
        "**1**.Verify the explicit form of $r_{t}$ given by\n",
        "\n",
        "$$r_t = r_0e^{-\\kappa t} + \\mu(1 - e^{-\\kappa t}) + \\sigma e^{-\\kappa t}\\int_{0}^{t}e^{\\kappa s} dW_s$$ is the solution to the original vasicek model\n",
        "$$\n",
        "dr_t = \\kappa(\\mu - r_t)dt + \\sigma dW_t\n",
        "$$\n",
        "<br>**Proof**\n",
        "<br>\n",
        "$$\n",
        "\\begin{align*}\n",
        "&dr_t = \\kappa(\\mu - r_t)dt + \\sigma dW_t \\\\\n",
        "&dr_t+\\kappa r_t dt=\\kappa \\mu dt+\\sigma dW_t\\\\\n",
        "&e^{\\kappa t}dr_t+ e^{\\kappa t}\\kappa r_t dt=e^{\\kappa t}\\kappa \\mu dt+e^{\\kappa t}\\sigma dW_t\\\\\n",
        "&d(e^{\\kappa t}r_t)=e^{\\kappa t}\\kappa \\mu dt+e^{\\kappa t}\\sigma dW_t\\\\\n",
        "&\\int_0^t d(e^{\\kappa t}r_t)=\\mu\\int_0^t \\kappa e^{\\kappa t}  dt +\\sigma\\int_0^t e^{\\kappa s}dW_s \\\\\n",
        "&e^{\\kappa t}r_t-r_0=\\mu(e^{\\kappa t}-1)+\\sigma\\int_0^t e^{\\kappa s}dW_s \\\\\n",
        "&r_t = r_0e^{-\\kappa t} + \\mu(1 - e^{-\\kappa t}) + \\sigma e^{-\\kappa t}\\int_{0}^{t}e^{\\kappa s} dW_s\n",
        "\\end{align*}\n",
        "$$"
      ]
    },
    {
      "metadata": {
        "id": "LNppwkd_HFlf",
        "colab_type": "text"
      },
      "cell_type": "markdown",
      "source": [
        "**2.** Design pricing engine of ZCB P(0,T) using explicit form\n",
        "$$r_t = r_0e^{-\\kappa t} + \\mu(1 - e^{-\\kappa t}) + \\sigma e^{-\\kappa t}\\int_{0}^{t}e^{\\kappa s} dW_s$$"
      ]
    },
    {
      "metadata": {
        "id": "1wNmu2kDIUeH",
        "colab_type": "code",
        "colab": {}
      },
      "cell_type": "code",
      "source": [
        "import numpy as np\n",
        "import scipy.stats as ss\n",
        "import scipy.optimize as so\n",
        "import pandas as pd\n",
        "import matplotlib.pyplot as plt"
      ],
      "execution_count": 0,
      "outputs": []
    },
    {
      "metadata": {
        "id": "H5Cjz0zxItm8",
        "colab_type": "code",
        "colab": {}
      },
      "cell_type": "code",
      "source": [
        "def zcb_explicit(T,kappa,sigma,mu,r0):\n",
        "  B=(1-np.exp(-kappa*(T)))/kappa\n",
        "  A=(mu-sigma**2/(2*kappa**2))*(B-T)-sigma**2/(4*kappa)*(B**2)\n",
        "  return np.exp(A-B*r0)"
      ],
      "execution_count": 0,
      "outputs": []
    },
    {
      "metadata": {
        "id": "wSULV1D4KdZQ",
        "colab_type": "text"
      },
      "cell_type": "markdown",
      "source": [
        "**3.** Design alternative pricing engine of ZCB P(0,T) using exact sampling"
      ]
    },
    {
      "metadata": {
        "id": "FHAKSXjgU4kl",
        "colab_type": "code",
        "colab": {}
      },
      "cell_type": "code",
      "source": [
        "def zcb_exactsampling(T,kappa,mu,sigma,r0,n):\n",
        "  mu=(mu*T)+((r0-mu)*(1-np.exp(-kappa*T))/kappa)\n",
        "  var=((sigma**2)/(2*(kappa**3)))*((2*kappa*T)-3+(4*np.exp(-kappa*T))-np.exp(-2*kappa*T))\n",
        "  r= np.random.normal(mu,var,n)\n",
        "  r_=np.exp(-r)\n",
        "  return np.mean(r_)"
      ],
      "execution_count": 0,
      "outputs": []
    },
    {
      "metadata": {
        "id": "pXMbzuKIWuyK",
        "colab_type": "text"
      },
      "cell_type": "markdown",
      "source": [
        "**4.** Compute ZCB P(0,1) Libor L(0,1) with the following parameters using above two different pricing engines."
      ]
    },
    {
      "metadata": {
        "id": "vAaZTBRmXt-I",
        "colab_type": "code",
        "colab": {}
      },
      "cell_type": "code",
      "source": [
        "theta=[0.1,0.05,0.003,0.03]\n",
        "kappa,mu,sigma,r0=theta\n",
        "T=1\n",
        "n=100"
      ],
      "execution_count": 0,
      "outputs": []
    },
    {
      "metadata": {
        "id": "qOxahdikXI2C",
        "colab_type": "code",
        "colab": {
          "base_uri": "https://localhost:8080/",
          "height": 52
        },
        "outputId": "cbf2abd8-6cd3-4e9b-91ab-4055854c1710"
      },
      "cell_type": "code",
      "source": [
        "P_explicit=zcb_explicit(T,kappa,sigma,mu,r0)\n",
        "print('ZCB P(0,1) price using explicit form is '+ str(P_explicit))\n",
        "P_exactsampling=zcb_exactsampling(T,kappa,mu,sigma,r0,n)\n",
        "print('ZCB P(0,1) price using exact sampling is '+ str(P_exactsampling))"
      ],
      "execution_count": 16,
      "outputs": [
        {
          "output_type": "stream",
          "text": [
            "ZCB P(0,1) price using explicit form is 0.9695084475425054\n",
            "ZCB P(0,1) price using exact sampling is 0.9695071856352797\n"
          ],
          "name": "stdout"
        }
      ]
    },
    {
      "metadata": {
        "id": "RaR6fUIvYQCz",
        "colab_type": "code",
        "colab": {}
      },
      "cell_type": "code",
      "source": [
        "def Libor(T,P):\n",
        "  return 100/T*(1/P-1)\n",
        "  "
      ],
      "execution_count": 0,
      "outputs": []
    },
    {
      "metadata": {
        "id": "8PP2HEHHaLCw",
        "colab_type": "code",
        "colab": {
          "base_uri": "https://localhost:8080/",
          "height": 52
        },
        "outputId": "41b77cf8-732c-4fb1-9ba9-8dcef4c8bb3b"
      },
      "cell_type": "code",
      "source": [
        "L_explicit=Libor(T,P_explicit)\n",
        "print('ZCB L(0,1) price using explicit form is '+ str(L_explicit))\n",
        "L_exactsampling=Libor(T,P_exactsampling)\n",
        "print('ZCB L(0,1) price using exact sampling is '+ str(L_exactsampling))"
      ],
      "execution_count": 21,
      "outputs": [
        {
          "output_type": "stream",
          "text": [
            "ZCB L(0,1) price using explicit form is 3.145052787810565\n",
            "ZCB L(0,1) price using exact sampling is 3.1452035092872643\n"
          ],
          "name": "stdout"
        }
      ]
    },
    {
      "metadata": {
        "id": "nNOMCfVcbUsN",
        "colab_type": "text"
      },
      "cell_type": "markdown",
      "source": [
        "**5.** Find 10 term swap rates with term length 1/2 year"
      ]
    },
    {
      "metadata": {
        "id": "nqzh9APXahwf",
        "colab_type": "code",
        "colab": {}
      },
      "cell_type": "code",
      "source": [
        "P1=[]\n",
        "P2=[]\n",
        "def Swap(T,N,kappa,sigma,mu,r0):\n",
        "  delta=T/N\n",
        "  for j in range(N):\n",
        "    P1.append(zcb_explicit((j+1)*delta,kappa,sigma,mu,r0)) # using explicit form\n",
        "    P2.append(zcb_exactsampling((j+1)*delta,kappa,mu,sigma,r0,n)) # using exact sampling\n",
        "  S1=100*(1-zcb_explicit(T,kappa,sigma,mu,r0))/(delta*sum(P1))\n",
        "  S2=100*(1-zcb_exactsampling(T,kappa,mu,sigma,r0,n))/(delta*sum(P2))\n",
        "  return S1,S2  "
      ],
      "execution_count": 0,
      "outputs": []
    },
    {
      "metadata": {
        "id": "MQgWIP_wdzYl",
        "colab_type": "code",
        "colab": {
          "base_uri": "https://localhost:8080/",
          "height": 52
        },
        "outputId": "c7f439cc-ad05-4508-eb59-ecdf7f86bbcd"
      },
      "cell_type": "code",
      "source": [
        "S1,S2=Swap(5,10,kappa,sigma,mu,r0)\n",
        "print('10 term swap rates with term length 1/2 year using explicit form is '+ str(S1))\n",
        "print('10 term swap rates with term length 1/2 year using exact sampling is '+ str(S2))\n"
      ],
      "execution_count": 37,
      "outputs": [
        {
          "output_type": "stream",
          "text": [
            "10 term swap rates with term length 1/2 year using explicit form is 3.441821396389877\n",
            "10 term swap rates with term length 1/2 year using exact sampling is 3.4439531251932243\n"
          ],
          "name": "stdout"
        }
      ]
    },
    {
      "metadata": {
        "id": "eq5RfepyiWeh",
        "colab_type": "text"
      },
      "cell_type": "markdown",
      "source": [
        "**6.** Pick a date, and using Libor market data of that data, calibrate Vasicek model. Then compare market rate and calibrated rate in a plot"
      ]
    }
  ]
}