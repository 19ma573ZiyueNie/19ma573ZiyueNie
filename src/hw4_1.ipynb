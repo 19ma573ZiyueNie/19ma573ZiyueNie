{
  "nbformat": 4,
  "nbformat_minor": 0,
  "metadata": {
    "colab": {
      "name": "hw4_1.ipynb",
      "version": "0.3.2",
      "provenance": [],
      "include_colab_link": true
    },
    "kernelspec": {
      "name": "python3",
      "display_name": "Python 3"
    }
  },
  "cells": [
    {
      "cell_type": "markdown",
      "metadata": {
        "id": "view-in-github",
        "colab_type": "text"
      },
      "source": [
        "<a href=\"https://colab.research.google.com/github/ZiyueNie/19ma573ZiyueNie/blob/master/src/hw4_1.ipynb\" target=\"_parent\"><img src=\"https://colab.research.google.com/assets/colab-badge.svg\" alt=\"Open In Colab\"/></a>"
      ]
    },
    {
      "metadata": {
        "id": "rULOYWJrdGe8",
        "colab_type": "text"
      },
      "cell_type": "markdown",
      "source": [
        "The objective is to get familiar with model calibration.\n",
        "- download  today's call option prices of your favorite stock with maturity $T_1$ and several near the money strikes $(K_1, \\ldots, K_n)$.\n",
        "- compute IV with your bsm price engine for each option price. You are going to use USD Libor 3-month for your interest rate input. \n",
        "- plot a figure of strike v.s. IV. Do you find any volatility smile? \n",
        "- calibrate bsm volatility for the option prices, denote it by $\\hat \\sigma$. You may use any error function for the calibration purpose.\n",
        "- reproduce option prices using your price engine with calibrated volatility, then compare how close they are to the market prices.\n"
      ]
    },
    {
      "metadata": {
        "id": "VgXkK5X2aAPU",
        "colab_type": "text"
      },
      "cell_type": "markdown",
      "source": [
        ""
      ]
    },
    {
      "metadata": {
        "id": "Q6Z73aDt9jgv",
        "colab_type": "code",
        "colab": {
          "base_uri": "https://localhost:8080/",
          "height": 140
        },
        "outputId": "e4c0390b-40de-46f3-f7f9-3a44cf2f0c8a"
      },
      "cell_type": "code",
      "source": [
        "!git clone https://github.com/ZiyueNie/19ma573ZiyueNie"
      ],
      "execution_count": 3,
      "outputs": [
        {
          "output_type": "stream",
          "text": [
            "Cloning into '19ma573ZiyueNie'...\n",
            "remote: Enumerating objects: 38, done.\u001b[K\n",
            "remote: Counting objects: 100% (38/38), done.\u001b[K\n",
            "remote: Compressing objects: 100% (38/38), done.\u001b[K\n",
            "remote: Total 193 (delta 13), reused 0 (delta 0), pack-reused 155\u001b[K\n",
            "Receiving objects: 100% (193/193), 309.45 KiB | 16.29 MiB/s, done.\n",
            "Resolving deltas: 100% (74/74), done.\n"
          ],
          "name": "stdout"
        }
      ]
    },
    {
      "metadata": {
        "id": "A-BhVnN49jvJ",
        "colab_type": "code",
        "colab": {
          "base_uri": "https://localhost:8080/",
          "height": 34
        },
        "outputId": "49e8a97e-bcaa-46ee-fc3a-a029abcd2409"
      },
      "cell_type": "code",
      "source": [
        "cd 19ma573ZiyueNie/src/"
      ],
      "execution_count": 4,
      "outputs": [
        {
          "output_type": "stream",
          "text": [
            "/content/19ma573ZiyueNie/src\n"
          ],
          "name": "stdout"
        }
      ]
    },
    {
      "metadata": {
        "id": "InYwzfb19j6g",
        "colab_type": "code",
        "colab": {}
      },
      "cell_type": "code",
      "source": [
        "from european_options import VanillaOption\n",
        "from gbm import Gbm"
      ],
      "execution_count": 0,
      "outputs": []
    },
    {
      "metadata": {
        "id": "joZ7S57iaE_d",
        "colab_type": "code",
        "colab": {}
      },
      "cell_type": "code",
      "source": [
        "import matplotlib.pyplot as plt\n",
        "import numpy as np\n",
        "import scipy.optimize as so\n",
        "import pandas as pd\n",
        "import math\n"
      ],
      "execution_count": 0,
      "outputs": []
    },
    {
      "metadata": {
        "id": "MBE5UNfWaFVB",
        "colab_type": "code",
        "colab": {
          "base_uri": "https://localhost:8080/",
          "height": 510
        },
        "outputId": "0b28e16f-0b42-4198-d659-a8dde19ad4ef"
      },
      "cell_type": "code",
      "source": [
        "'''======\n",
        "Read data\n",
        "========='''\n",
        "#Read four-column data\n",
        "#columns are otype, maturity, strike, option_price\n",
        "call_option_data1 = pd.read_csv('SBUX_call.csv')\n",
        "\n",
        "print('>>>>>>Starbucks_call data')\n",
        "print(call_option_data1)"
      ],
      "execution_count": 7,
      "outputs": [
        {
          "output_type": "stream",
          "text": [
            ">>>>>>Starbucks_call data\n",
            "          Contract Name         Last Trade Date  Strike  Last Price  Bid  Ask  \\\n",
            "0   SBUX190315C00050000  2019-02-04 10:17AM EST    50.0       17.38    0    0   \n",
            "1   SBUX190315C00052500   2019-01-25 9:30AM EST    52.5       14.67    0    0   \n",
            "2   SBUX190315C00055000   2019-02-04 2:21PM EST    55.0       12.46    0    0   \n",
            "3   SBUX190315C00057500   2019-01-25 3:50PM EST    57.5        9.50    0    0   \n",
            "4   SBUX190315C00060000   2019-02-04 2:28PM EST    60.0        7.52    0    0   \n",
            "5   SBUX190315C00062500  2019-02-04 12:35PM EST    62.5        4.92    0    0   \n",
            "6   SBUX190315C00065000   2019-02-04 3:56PM EST    65.0        3.15    0    0   \n",
            "7   SBUX190315C00067500   2019-02-04 3:52PM EST    67.5        1.48    0    0   \n",
            "8   SBUX190315C00070000   2019-02-04 3:55PM EST    70.0        0.55    0    0   \n",
            "9   SBUX190315C00072500   2019-02-04 3:58PM EST    72.5        0.14    0    0   \n",
            "10  SBUX190315C00075000   2019-02-04 3:19PM EST    75.0        0.04    0    0   \n",
            "11  SBUX190315C00080000   2019-02-04 9:41AM EST    80.0        0.03    0    0   \n",
            "\n",
            "    Change % Change  Volume  Open Interest Implied Volatility  \n",
            "0        0        -       8              0              0.00%  \n",
            "1        0        -       1              0              0.00%  \n",
            "2        0        -      52              0              0.00%  \n",
            "3        0        -       3              0              0.00%  \n",
            "4        0        -      18              0              0.00%  \n",
            "5        0        -      32              0              0.00%  \n",
            "6        0        -     248              0              0.00%  \n",
            "7        0        -     630              0              0.00%  \n",
            "8        0        -     625              0              3.13%  \n",
            "9        0        -     399              0              6.25%  \n",
            "10       0        -      61              0              6.25%  \n",
            "11       0        -       1              0             12.50%  \n"
          ],
          "name": "stdout"
        }
      ]
    },
    {
      "metadata": {
        "id": "P5iIxFcJj5jv",
        "colab_type": "code",
        "outputId": "52b720a3-2650-47d8-c7f6-f96281b1342b",
        "colab": {
          "base_uri": "https://localhost:8080/",
          "height": 34
        }
      },
      "cell_type": "code",
      "source": [
        "'''=========\n",
        "Tips for time length\n",
        "============='''\n",
        "\n",
        "today = np.datetime64('2019-02-04')\n",
        "maturity = np.datetime64('2019-06-21')\n",
        "time_to_maturity_days = maturity - today\n",
        "\n",
        "time_to_maturity_years = time_to_maturity_days/np.timedelta64(1,'D')/365\n",
        "T_1=time_to_maturity_years \n",
        "print('--->>>>>time to maturity in years is ' + str(time_to_maturity_years))"
      ],
      "execution_count": 9,
      "outputs": [
        {
          "output_type": "stream",
          "text": [
            "--->>>>>time to maturity in years is 0.37534246575342467\n"
          ],
          "name": "stdout"
        }
      ]
    },
    {
      "metadata": {
        "id": "ehYlWS1PIvCC",
        "colab_type": "code",
        "colab": {
          "base_uri": "https://localhost:8080/",
          "height": 246
        },
        "outputId": "77c9c1aa-b334-4622-beb4-b95d4380f35a"
      },
      "cell_type": "code",
      "source": [
        "data2 = call_option_data1.drop(['Contract Name','Last Trade Date','Bid','Ask','Change','% Change', 'Volume','Open Interest', 'Implied Volatility'], axis=1,inplace=False) \n",
        "print(data2)\n"
      ],
      "execution_count": 22,
      "outputs": [
        {
          "output_type": "stream",
          "text": [
            "    Strike  Last Price\n",
            "0     50.0       17.38\n",
            "1     52.5       14.67\n",
            "2     55.0       12.46\n",
            "3     57.5        9.50\n",
            "4     60.0        7.52\n",
            "5     62.5        4.92\n",
            "6     65.0        3.15\n",
            "7     67.5        1.48\n",
            "8     70.0        0.55\n",
            "9     72.5        0.14\n",
            "10    75.0        0.04\n",
            "11    80.0        0.03\n"
          ],
          "name": "stdout"
        }
      ]
    },
    {
      "metadata": {
        "id": "uPeXajT1aFl3",
        "colab_type": "code",
        "colab": {}
      },
      "cell_type": "code",
      "source": [
        "'''==============\n",
        "below are from the market data for underlying process\n",
        "================='''\n",
        "Int_rates=2.73263/100.0   #3 month US Dollar LIBOR interest rate\n",
        "gbm1 = Gbm(\n",
        "    init_state = 67.58, #today's starbucks stock price\n",
        "    drift_ratio =Int_rates, \n",
        "    vol_ratio = .1 #initial guess\n",
        ")"
      ],
      "execution_count": 0,
      "outputs": []
    },
    {
      "metadata": {
        "id": "F9VpwzgVbmI2",
        "colab_type": "code",
        "colab": {}
      },
      "cell_type": "code",
      "source": [
        "option_list = []\n",
        "#for i in range(len(data2['Strike'])):\n",
        "for i in range(len(call_option_data1['Strike'])):\n",
        "    option1= VanillaOption(\n",
        "      otype = 1,\n",
        "     strike = call_option_data1['Strike'][i], \n",
        "      maturity = T_1,\n",
        "      market_price=call_option_data1['Last Price'][i] \n",
        "      )\n",
        "    option_list.append(option1)"
      ],
      "execution_count": 0,
      "outputs": []
    },
    {
      "metadata": {
        "id": "kVx24pnagTHQ",
        "colab_type": "code",
        "colab": {}
      },
      "cell_type": "code",
      "source": [
        "'''================\n",
        "define an error function\n",
        "===================='''\n",
        "def error_function(vol, gbm, option):\n",
        "  gbm.vol_ratio = vol\n",
        "  return np.abs(option.market_price - gbm.bsm_price(option))\n",
        "\n",
        "'''==========\n",
        "define a method to seek for an implied volatility\n",
        "============'''\n",
        "\n",
        "def implied_volatility(gbm, option):\n",
        "  init_vol = .1 #initial guess\n",
        "  return so.fmin(error_function, init_vol, args = (gbm, option), disp = 0)[0]"
      ],
      "execution_count": 0,
      "outputs": []
    },
    {
      "metadata": {
        "id": "RfxA8R7XhMJ3",
        "colab_type": "code",
        "colab": {
          "base_uri": "https://localhost:8080/",
          "height": 54
        },
        "outputId": "3bd41e5e-02fd-45d2-93b5-8a8d127a0359"
      },
      "cell_type": "code",
      "source": [
        "data3=[]\n",
        "for i in range(len(call_option_data1['Strike'])):\n",
        "  a = implied_volatility(gbm1, option_list[i])\n",
        "  data3.append(a)\n",
        "print(data3)\n",
        "#data2=data2.append(data3)\n",
        "\n"
      ],
      "execution_count": 74,
      "outputs": [
        {
          "output_type": "stream",
          "text": [
            "[0.0500000000000001, 0.0500000000000001, 0.030000000000000138, 0.03500000000000013, 0.010000000000000175, 0.010000000000000175, 1.942890293094024e-16, 0.06401367187500008, 0.07279296875000006, 0.07447265625000005, 0.08117187500000005, 0.12007812500000006]\n"
          ],
          "name": "stdout"
        }
      ]
    },
    {
      "metadata": {
        "id": "UzRyj6rzgXhZ",
        "colab_type": "code",
        "colab": {
          "base_uri": "https://localhost:8080/",
          "height": 378
        },
        "outputId": "6bb19db5-f261-46c8-af8e-27aefeb1bc6b"
      },
      "cell_type": "code",
      "source": [
        "plt.plot(call_option_data1['Strike'],data3,label='call implied volatility')\n",
        "plt.ylabel('implied vol')\n",
        "plt.xlabel('strike')\n",
        "plt.legend()"
      ],
      "execution_count": 75,
      "outputs": [
        {
          "output_type": "execute_result",
          "data": {
            "text/plain": [
              "<matplotlib.legend.Legend at 0x7ffa48a41d30>"
            ]
          },
          "metadata": {
            "tags": []
          },
          "execution_count": 75
        },
        {
          "output_type": "display_data",
          "data": {
            "image/png": "[encoded data removed]",
            "text/plain": [
              "<Figure size 576x396 with 1 Axes>"
            ]
          },
          "metadata": {
            "tags": []
          }
        }
      ]
    }
  ]
}