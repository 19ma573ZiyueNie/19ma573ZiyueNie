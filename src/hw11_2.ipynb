{
  "nbformat": 4,
  "nbformat_minor": 0,
  "metadata": {
    "colab": {
      "name": "hw11_2.ipynb",
      "version": "0.3.2",
      "provenance": [],
      "include_colab_link": true
    },
    "kernelspec": {
      "name": "python3",
      "display_name": "Python 3"
    }
  },
  "cells": [
    {
      "cell_type": "markdown",
      "metadata": {
        "id": "view-in-github",
        "colab_type": "text"
      },
      "source": [
        "<a href=\"https://colab.research.google.com/github/ZiyueNie/19ma573ZiyueNie/blob/master/src/hw11_2.ipynb\" target=\"_parent\"><img src=\"https://colab.research.google.com/assets/colab-badge.svg\" alt=\"Open In Colab\"/></a>"
      ]
    },
    {
      "metadata": {
        "id": "mZgRP32DiEl8",
        "colab_type": "code",
        "colab": {}
      },
      "cell_type": "code",
      "source": [
        "import numpy as np\n",
        "import matplotlib.pyplot as plt\n",
        "from array import array\n"
      ],
      "execution_count": 0,
      "outputs": []
    },
    {
      "metadata": {
        "id": "BAonrJvg1e5d",
        "colab_type": "code",
        "colab": {}
      },
      "cell_type": "code",
      "source": [
        "rho=1\n",
        "alpha=1\n",
        "dx=0.2\n",
        "dt=rho*(dx**2)/alpha\n",
        "a=0\n",
        "b=1"
      ],
      "execution_count": 0,
      "outputs": []
    },
    {
      "metadata": {
        "id": "j1H59wqV-9qe",
        "colab_type": "code",
        "colab": {}
      },
      "cell_type": "code",
      "source": [
        "def f(x):\n",
        "  return np.sin(np.pi*x)"
      ],
      "execution_count": 0,
      "outputs": []
    },
    {
      "metadata": {
        "id": "pLa81JGGFbDf",
        "colab_type": "code",
        "colab": {}
      },
      "cell_type": "code",
      "source": [
        "def exact_solution(x,t):\n",
        "  return np.exp((-np.pi**2)*t)*np.sin(np.pi*x)"
      ],
      "execution_count": 0,
      "outputs": []
    },
    {
      "metadata": {
        "id": "3zpiD6czE1OF",
        "colab_type": "code",
        "colab": {}
      },
      "cell_type": "code",
      "source": [
        "def error(M,dx,dt,u):\n",
        "  N = int((b-a)/dx)\n",
        "  E = np.zeros((M+1,N+1))\n",
        "  for t in range(M+1):\n",
        "    for x in range(N+1):\n",
        "      E[t][x] = np.abs(u[t][x]-exact_solution(a+x*dx,t*dt))\n",
        "  sup=np.max(E)\n",
        "  return E,sup"
      ],
      "execution_count": 0,
      "outputs": []
    },
    {
      "metadata": {
        "id": "RDx2UNEu8F8K",
        "colab_type": "code",
        "colab": {}
      },
      "cell_type": "code",
      "source": [
        "def ftcs(M,rho,dx,dt):\n",
        "  N = int((b-a)/dx)\n",
        "  U = np.zeros((M+1,N+1))\n",
        "  for x in range(1,N): # here is (1,N) since u(a,t)=0 u(b,t)=0\n",
        "    U[0][x] = f(a+x*dx)\n",
        "  for t in range(0,M):\n",
        "    for x in range(1,N):\n",
        "      U[t+1][x]=rho*(U[t][x+1])+(1-2*rho)*(U[t][x])+rho*(U[t][x-1])\n",
        "  return U"
      ],
      "execution_count": 0,
      "outputs": []
    },
    {
      "metadata": {
        "id": "aYSziDhd_GNU",
        "colab_type": "code",
        "colab": {}
      },
      "cell_type": "code",
      "source": [
        "u1=ftcs(100,1,0.2,dt) #M=100\n",
        "#print(u1)\n"
      ],
      "execution_count": 0,
      "outputs": []
    },
    {
      "metadata": {
        "id": "uYZ-YeXfHzzw",
        "colab_type": "code",
        "colab": {
          "base_uri": "https://localhost:8080/",
          "height": 34
        },
        "outputId": "e66f0f13-1415-48c6-8f09-5581fc94f916"
      },
      "cell_type": "code",
      "source": [
        "e1,s1=error(100,0.2,dt,u1) #M=100\n",
        "#print(e)\n",
        "print(\"Using ftcs, the supnorm of error function is \"+str(s1))"
      ],
      "execution_count": 99,
      "outputs": [
        {
          "output_type": "stream",
          "text": [
            "Using ftcs, the supnorm of error function is 1.5574828815118633e+25\n"
          ],
          "name": "stdout"
        }
      ]
    },
    {
      "metadata": {
        "id": "als-OYF5dRmI",
        "colab_type": "code",
        "colab": {
          "base_uri": "https://localhost:8080/",
          "height": 122
        },
        "outputId": "b9ca4152-0292-4796-e453-77dd9e380f96"
      },
      "cell_type": "code",
      "source": [
        "'''\n",
        "a=np.zeros(4)\n",
        "for i in range(0,4):\n",
        "  a[i]=2\n",
        "print(a)\n",
        "A=np.diag(a,-1)\n",
        "print(A)\n",
        "'''"
      ],
      "execution_count": 75,
      "outputs": [
        {
          "output_type": "stream",
          "text": [
            "[2. 2. 2. 2.]\n",
            "[[0. 0. 0. 0. 0.]\n",
            " [2. 0. 0. 0. 0.]\n",
            " [0. 2. 0. 0. 0.]\n",
            " [0. 0. 2. 0. 0.]\n",
            " [0. 0. 0. 2. 0.]]\n"
          ],
          "name": "stdout"
        }
      ]
    },
    {
      "metadata": {
        "id": "kiAdNjHzZF6f",
        "colab_type": "code",
        "colab": {}
      },
      "cell_type": "code",
      "source": [
        "def btcs(M,rho,dx, dt):\n",
        "  N = int((b-a)/dx)\n",
        "  U = np.zeros((M+1,N+1))\n",
        "  array1=np.zeros(N)\n",
        "  array2=np.zeros(N+1)\n",
        "  for i in range(0,N):\n",
        "    array1[i]=-rho\n",
        "    array2[i]=2*rho+1\n",
        "  \n",
        "  A = np.diag(array1,-1) + np.diag(array2,0) + np.diag(array1,1)\n",
        "  \n",
        "  for x in range(0,N+1):\n",
        "    U[0][x] = f(a+x*dx)\n",
        "  \n",
        "  for t in range(0,M):\n",
        "    U[t+1][:] = np.linalg.inv(A).dot(U[t][:])\n",
        "  \n",
        "  return U"
      ],
      "execution_count": 0,
      "outputs": []
    },
    {
      "metadata": {
        "id": "95tVz-RUaodz",
        "colab_type": "code",
        "colab": {}
      },
      "cell_type": "code",
      "source": [
        "u2 = btcs(100,rho,dx,dt)\n"
      ],
      "execution_count": 0,
      "outputs": []
    },
    {
      "metadata": {
        "id": "5J65R2VjebqP",
        "colab_type": "code",
        "colab": {
          "base_uri": "https://localhost:8080/",
          "height": 34
        },
        "outputId": "6e287162-c4b3-413b-cc92-8cda13e8c8b6"
      },
      "cell_type": "code",
      "source": [
        "e2,s2=error(100,dx,dt,u2) #M=100\n",
        "#print(e)\n",
        "print(\"Using btcs, the supnorm of error function is \"+str(s2))"
      ],
      "execution_count": 103,
      "outputs": [
        {
          "output_type": "stream",
          "text": [
            "Using btcs, the supnorm of error function is 1.577710673143973e+47\n"
          ],
          "name": "stdout"
        }
      ]
    },
    {
      "metadata": {
        "id": "RG9hifUmY9K3",
        "colab_type": "code",
        "colab": {
          "base_uri": "https://localhost:8080/",
          "height": 311
        },
        "outputId": "bf59cdd3-1e2a-441f-d64f-dfdb015c5965"
      },
      "cell_type": "code",
      "source": [
        "xx = np.arange(0,1.2,.2)\n",
        "print(xx)\n",
        "error1 = np.zeros(6)\n",
        "error2 = np.zeros(6)\n",
        "error3 = np.zeros(6)\n",
        "for i in range(len(error1)):\n",
        "    error1[i] = exact_solution(xx[i],1.94)-u2[int(1.94/dt)][i]\n",
        "    error2[i] = exact_solution(xx[i],1.96)-u2[int(1.96/dt)][i]\n",
        "    error3[i] = exact_solution(xx[i],1.98)-u2[int(1.98/dt)][i]\n",
        "\n",
        "plt.plot(xx,error1)\n",
        "plt.plot(xx,error2)\n",
        "plt.plot(xx,error3)\n",
        "plt.legend([\"1.94\", \"1.96\", \"1.98\"])"
      ],
      "execution_count": 117,
      "outputs": [
        {
          "output_type": "stream",
          "text": [
            "[0.  0.2 0.4 0.6 0.8 1. ]\n"
          ],
          "name": "stdout"
        },
        {
          "output_type": "execute_result",
          "data": {
            "text/plain": [
              "<matplotlib.legend.Legend at 0x7fa144350e48>"
            ]
          },
          "metadata": {
            "tags": []
          },
          "execution_count": 117
        },
        {
          "output_type": "display_data",
          "data": {
            "image/png": "[encoded data removed]",
            "text/plain": [
              "<Figure size 432x288 with 1 Axes>"
            ]
          },
          "metadata": {
            "tags": []
          }
        }
      ]
    }
  ]
}