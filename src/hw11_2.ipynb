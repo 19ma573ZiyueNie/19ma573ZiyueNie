{
  "nbformat": 4,
  "nbformat_minor": 0,
  "metadata": {
    "colab": {
      "name": "hw11_2.ipynb",
      "version": "0.3.2",
      "provenance": [],
      "include_colab_link": true
    },
    "kernelspec": {
      "name": "python3",
      "display_name": "Python 3"
    }
  },
  "cells": [
    {
      "cell_type": "markdown",
      "metadata": {
        "id": "view-in-github",
        "colab_type": "text"
      },
      "source": [
        "<a href=\"https://colab.research.google.com/github/ZiyueNie/19ma573ZiyueNie/blob/master/src/hw11_2.ipynb\" target=\"_parent\"><img src=\"https://colab.research.google.com/assets/colab-badge.svg\" alt=\"Open In Colab\"/></a>"
      ]
    },
    {
      "metadata": {
        "id": "mZgRP32DiEl8",
        "colab_type": "code",
        "colab": {}
      },
      "cell_type": "code",
      "source": [
        "import numpy as np\n",
        "import matplotlib.pyplot as plt"
      ],
      "execution_count": 0,
      "outputs": []
    },
    {
      "metadata": {
        "id": "BAonrJvg1e5d",
        "colab_type": "code",
        "colab": {}
      },
      "cell_type": "code",
      "source": [
        "rho=1\n",
        "alpha=1\n",
        "dx=0.2\n",
        "dt=rho*(dx**2)/alpha\n",
        "a=0\n",
        "b=1"
      ],
      "execution_count": 0,
      "outputs": []
    },
    {
      "metadata": {
        "id": "j1H59wqV-9qe",
        "colab_type": "code",
        "colab": {}
      },
      "cell_type": "code",
      "source": [
        "def f(x):\n",
        "  return np.sin(np.pi*x)"
      ],
      "execution_count": 0,
      "outputs": []
    },
    {
      "metadata": {
        "id": "pLa81JGGFbDf",
        "colab_type": "code",
        "colab": {}
      },
      "cell_type": "code",
      "source": [
        "def exact_solution(x,t):\n",
        "  return np.exp((-np.pi**2)*t)*np.sin(np.pi*x)"
      ],
      "execution_count": 0,
      "outputs": []
    },
    {
      "metadata": {
        "id": "3zpiD6czE1OF",
        "colab_type": "code",
        "colab": {}
      },
      "cell_type": "code",
      "source": [
        "def error(M,dx,dt,u):\n",
        "  N = int((b-a)/dx)\n",
        "  E = np.zeros((M+1,N+1))\n",
        "  for t in range(M+1):\n",
        "    for x in range(N+1):\n",
        "      E[t][x] = np.abs(u[t][x]-exact_solution(a+x*dx,t*dt))\n",
        "  sup=np.max(E)\n",
        "  return E,sup"
      ],
      "execution_count": 0,
      "outputs": []
    },
    {
      "metadata": {
        "id": "RDx2UNEu8F8K",
        "colab_type": "code",
        "colab": {}
      },
      "cell_type": "code",
      "source": [
        "def ftcs(M,rho,dx,dt):\n",
        "  N = int((b-a)/dx)\n",
        "  U = np.zeros((M+1,N+1))\n",
        "  for x in range(1,N): # here is (1,N) since u(a,t)=0 u(b,t)=0\n",
        "    U[0][x] = f(a+x*dx)\n",
        "  for t in range(0,M):\n",
        "    for x in range(1,N):\n",
        "      U[t+1][x]=rho*(U[t][x+1])+(1-2*rho)*(U[t][x])+rho*(U[t][x-1])\n",
        "  return U"
      ],
      "execution_count": 0,
      "outputs": []
    },
    {
      "metadata": {
        "id": "aYSziDhd_GNU",
        "colab_type": "code",
        "colab": {}
      },
      "cell_type": "code",
      "source": [
        "u1=ftcs(100,1,0.2,dt) #M=100\n",
        "#print(u1)\n"
      ],
      "execution_count": 0,
      "outputs": []
    },
    {
      "metadata": {
        "id": "uYZ-YeXfHzzw",
        "colab_type": "code",
        "colab": {
          "base_uri": "https://localhost:8080/",
          "height": 34
        },
        "outputId": "0c8abfeb-c6e2-4482-c77e-781345f4e820"
      },
      "cell_type": "code",
      "source": [
        "e,s=error(100,0.2,dt,u1) #M=100\n",
        "#print(e)\n",
        "print(\"Using ftcs, the supnorm of error function is \"+str(s))"
      ],
      "execution_count": 47,
      "outputs": [
        {
          "output_type": "stream",
          "text": [
            "the supnorm of error function is 1.5574828815118633e+25\n"
          ],
          "name": "stdout"
        }
      ]
    },
    {
      "metadata": {
        "id": "SVZLgNe0_wKE",
        "colab_type": "code",
        "colab": {}
      },
      "cell_type": "code",
      "source": [
        "def btcs(M,rho,dx,dt):\n",
        "  N = int((b-a)/dx)\n",
        "  U = np.zeros((M+1,N+1))\n",
        "  for x in range(1,N): # here is (1,N) since u(a,t)=0 u(b,t)=0\n",
        "    U[0][x] = f(a+x*dx)\n",
        "  for t in range(1,M+1):\n",
        "    for x in range(1,N):\n",
        "      U[t-1][x]=-rho*(U[t][x+1])+(1+2*rho)*(U[t][x])-rho*(U[t][x-1])\n",
        "  return U"
      ],
      "execution_count": 0,
      "outputs": []
    }
  ]
}