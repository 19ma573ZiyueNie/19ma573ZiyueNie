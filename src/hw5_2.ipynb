{
  "nbformat": 4,
  "nbformat_minor": 0,
  "metadata": {
    "colab": {
      "name": "hw5_2.ipynb",
      "version": "0.3.2",
      "provenance": [],
      "include_colab_link": true
    },
    "kernelspec": {
      "name": "python3",
      "display_name": "Python 3"
    }
  },
  "cells": [
    {
      "cell_type": "markdown",
      "metadata": {
        "id": "view-in-github",
        "colab_type": "text"
      },
      "source": [
        "<a href=\"https://colab.research.google.com/github/ZiyueNie/19ma573ZiyueNie/blob/master/src/hw5_2.ipynb\" target=\"_parent\"><img src=\"https://colab.research.google.com/assets/colab-badge.svg\" alt=\"Open In Colab\"/></a>"
      ]
    },
    {
      "metadata": {
        "id": "7fCs3sM263bR",
        "colab_type": "text"
      },
      "cell_type": "markdown",
      "source": [
        "- Desgin a python function pi_mc(N, m) with\n",
        "  - Input: Two integer numbers $N$ and $m$\n",
        "  - Output: An array of length $m$, where all componets are independent, and computed from ordinary monte carlo method for $\\pi$ with $N$ simulations (random shots).\n",
        "- For $N \\in \\{2^n: n = 5, \\ldots, 10\\}$: Run pi_mc(N, 100) and find its variance\n",
        "- Plot log-log chart for $N \\to RMSE(N)$ using the array above and find convergence rate\n",
        "- Can you propose a deterministic approximation to $\\pi$?"
      ]
    },
    {
      "metadata": {
        "id": "uRRWcdOQ7nYt",
        "colab_type": "code",
        "colab": {}
      },
      "cell_type": "code",
      "source": [
        "import numpy as np\n",
        "import scipy.stats as ss\n",
        "import matplotlib.pyplot as plt\n",
        "import seaborn as sns\n",
        "sns.set_style('white')\n",
        "sns.set_context('talk')"
      ],
      "execution_count": 0,
      "outputs": []
    },
    {
      "metadata": {
        "id": "1r64bCYJkwx3",
        "colab_type": "code",
        "colab": {}
      },
      "cell_type": "code",
      "source": [
        "def pi_mc(N,m):\n",
        "#area of the bounding box\n",
        "  box_area = 4.0    \n",
        "\n",
        "#number of samples\n",
        "  N_total = N\n",
        "  array = []\n",
        "\n",
        "#drawing random points uniform between -1 and 1\n",
        "  for i in range(m):\n",
        "    X = np.random.uniform(low=-1, high=1, size=N_total)  \n",
        "    Y = np.random.uniform(low=-1, high=1, size=N_total)   \n",
        "\n",
        "# calculate the distance of the point from the center \n",
        "    distance = np.sqrt(X**2+Y**2);  \n",
        " \n",
        "# check if point is inside the circle    \n",
        "    is_point_inside = distance<1.0\n",
        "\n",
        "# sum up the hits inside the circle\n",
        "    N_inside=np.sum(is_point_inside)\n",
        "\n",
        "# estimate the circle area\n",
        "    circle_area = box_area * N_inside/N_total\n",
        "    array.append(circle_area)\n",
        "  return array\n",
        "\n",
        "#array1=pi_mc(1000,10)\n",
        "#print(array1)\n"
      ],
      "execution_count": 0,
      "outputs": []
    },
    {
      "metadata": {
        "id": "JI_dhfe9Bc-M",
        "colab_type": "text"
      },
      "cell_type": "markdown",
      "source": [
        "Input two integer numbers  𝑁  and  𝑚 <br>\n",
        "Output an array of length  𝑚 , where all componets are independent, and computed from ordinary monte carlo method for  𝜋  "
      ]
    },
    {
      "metadata": {
        "id": "MqO98QMYpqMI",
        "colab_type": "code",
        "colab": {
          "base_uri": "https://localhost:8080/",
          "height": 69
        },
        "outputId": "3a654518-d42b-4e9e-fe49-7de522446558"
      },
      "cell_type": "code",
      "source": [
        "N=int(input(\"input N:\"))\n",
        "m=int(input(\"input m:\"))\n",
        "array_1 = pi_mc(N,m)\n",
        "print(array_1)\n"
      ],
      "execution_count": 116,
      "outputs": [
        {
          "output_type": "stream",
          "text": [
            "input N:1000\n",
            "input m:10\n",
            "[3.152, 3.048, 3.132, 3.0, 3.144, 3.084, 3.164, 3.18, 3.092, 3.136]\n"
          ],
          "name": "stdout"
        }
      ]
    },
    {
      "metadata": {
        "id": "cObCweqDBybS",
        "colab_type": "text"
      },
      "cell_type": "markdown",
      "source": [
        "For  𝑁∈{2𝑛:𝑛=5,…,10} : Run pi_mc(N, 100) and find its variance"
      ]
    },
    {
      "metadata": {
        "id": "p5jXnLwqj7Ix",
        "colab_type": "code",
        "colab": {
          "base_uri": "https://localhost:8080/",
          "height": 121
        },
        "outputId": "24385e23-a6c8-436c-fffb-e13198d1e8fc"
      },
      "cell_type": "code",
      "source": [
        "var=[]\n",
        "for i in range(5,11):\n",
        "  N=2**i\n",
        "  array2=pi_mc(N,100)\n",
        "  #print(array2)\n",
        "  var_N=np.var(array2)\n",
        "  var.append(var_N)\n",
        "  print(\"Variance for N=2^\" +str(i)+ \" is \" +str(var_N))\n",
        "\n",
        " \n"
      ],
      "execution_count": 117,
      "outputs": [
        {
          "output_type": "stream",
          "text": [
            "Variance for N=2^5 is 0.09632968750000001\n",
            "Variance for N=2^6 is 0.054326171875000016\n",
            "Variance for N=2^7 is 0.01787109375\n",
            "Variance for N=2^8 is 0.0111496826171875\n",
            "Variance for N=2^9 is 0.0054330810546874995\n",
            "Variance for N=2^10 is 0.0024541305541992183\n"
          ],
          "name": "stdout"
        }
      ]
    },
    {
      "metadata": {
        "id": "K5KNe2Y4B3PB",
        "colab_type": "text"
      },
      "cell_type": "markdown",
      "source": [
        "Plot log-log chart for  𝑁→𝑅𝑀𝑆𝐸(𝑁)  using the array above and find convergence rate"
      ]
    },
    {
      "metadata": {
        "id": "IwvzePqNy2NY",
        "colab_type": "code",
        "colab": {
          "base_uri": "https://localhost:8080/",
          "height": 477
        },
        "outputId": "70084e05-6a6a-4944-de5f-39325b73b1d5"
      },
      "cell_type": "code",
      "source": [
        "#print(var)\n",
        "N=[2**i for i in range(5,11)]\n",
        "xx=np.log2(N)\n",
        "yy=np.log2(np.sqrt(var))\n",
        "plt.plot(xx,yy,label=\"log-log for RMSE\")\n",
        "plt.xlabel(\"log2(N)\")\n",
        "plt.ylabel(\"log2(RMSE)\")\n",
        "plt.legend()"
      ],
      "execution_count": 118,
      "outputs": [
        {
          "output_type": "execute_result",
          "data": {
            "text/plain": [
              "<matplotlib.legend.Legend at 0x7f36525b69b0>"
            ]
          },
          "metadata": {
            "tags": []
          },
          "execution_count": 118
        },
        {
          "output_type": "display_data",
          "data": {
            "image/png": "[encoded data removed]",
            "text/plain": [
              "<Figure size 748.8x514.8 with 1 Axes>"
            ]
          },
          "metadata": {
            "tags": []
          }
        }
      ]
    },
    {
      "metadata": {
        "id": "jBOHmMegzVkA",
        "colab_type": "code",
        "colab": {
          "base_uri": "https://localhost:8080/",
          "height": 35
        },
        "outputId": "b75456a5-4e08-4ac1-e6d0-5ec06646637b"
      },
      "cell_type": "code",
      "source": [
        "out = ss.linregress(xx,yy)\n",
        "print('----->>>the convergence order is ' + str(-out[0]))"
      ],
      "execution_count": 119,
      "outputs": [
        {
          "output_type": "stream",
          "text": [
            "----->>>the convergence order is 0.5302788991521237\n"
          ],
          "name": "stdout"
        }
      ]
    },
    {
      "metadata": {
        "id": "EdMWpuyU_WDg",
        "colab_type": "text"
      },
      "cell_type": "markdown",
      "source": [
        " propose a deterministic approximation to  𝜋\n",
        " <br>\n",
        " since $$\\sum_{i=1}^\\infty \\frac{1}{n^2}=\\frac{\\pi^2}{6}$$\n",
        " then $$\\pi=\\sqrt{6\\sum_{i=1}^\\infty \\frac{1}{n^2}}$$"
      ]
    },
    {
      "metadata": {
        "id": "_oqzHCzmpSPE",
        "colab_type": "code",
        "colab": {}
      },
      "cell_type": "code",
      "source": [
        "def Pi_math(n):\n",
        "  sum=0\n",
        "  for i in range(1,n+1):\n",
        "      sum += 1.0/(i*i)\n",
        "  pi=np.sqrt(sum*6)\n",
        "  return pi"
      ],
      "execution_count": 0,
      "outputs": []
    },
    {
      "metadata": {
        "id": "z5rqw4tf-eog",
        "colab_type": "code",
        "colab": {
          "base_uri": "https://localhost:8080/",
          "height": 52
        },
        "outputId": "84ec01e8-55aa-4bc5-bc9f-0a8b4d54debe"
      },
      "cell_type": "code",
      "source": [
        "n=int(input(\"input n:\"))\n",
        "pi=Pi_math(n)\n",
        "print(\"approximation of pi is \"+str(pi))"
      ],
      "execution_count": 121,
      "outputs": [
        {
          "output_type": "stream",
          "text": [
            "input n:100000\n",
            "approximation of pi is 3.141583104326456\n"
          ],
          "name": "stdout"
        }
      ]
    }
  ]
}