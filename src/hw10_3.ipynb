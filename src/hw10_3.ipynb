{
  "nbformat": 4,
  "nbformat_minor": 0,
  "metadata": {
    "colab": {
      "name": "hw10_3.ipynb",
      "version": "0.3.2",
      "provenance": [],
      "include_colab_link": true
    },
    "kernelspec": {
      "name": "python3",
      "display_name": "Python 3"
    }
  },
  "cells": [
    {
      "cell_type": "markdown",
      "metadata": {
        "id": "view-in-github",
        "colab_type": "text"
      },
      "source": [
        "<a href=\"https://colab.research.google.com/github/ZiyueNie/19ma573ZiyueNie/blob/master/src/hw10_3.ipynb\" target=\"_parent\"><img src=\"https://colab.research.google.com/assets/colab-badge.svg\" alt=\"Open In Colab\"/></a>"
      ]
    },
    {
      "metadata": {
        "id": "fRP8bzz8eqUF",
        "colab_type": "text"
      },
      "cell_type": "markdown",
      "source": [
        "$$dX_1(t)=b_1dt+\\sigma_{11}dW_t^1+\\sigma_{12}dW_t^2$$\n",
        "$$dX_2(t)=b_2dt+\\sigma_{21}dW_t^1+\\sigma_{22}dW_t^2$$"
      ]
    },
    {
      "metadata": {
        "id": "P-BYwVcUfXgP",
        "colab_type": "text"
      },
      "cell_type": "markdown",
      "source": [
        "Apply 2-dim Ito's formula \n",
        "\n",
        "$$f(X_1(t),X_2(t))=f(X_2(0),X_2(0))+\\int_0^t \\frac{\\partial f}{\\partial X_{1}}dX_1+\\int_0^t \\frac{\\partial f}{\\partial X_{2}}dX_2+\\int_0^t\\frac{\\partial f}{\\partial X_{2s}\\partial X_{1s}}d\\langle X_1,X_2\\rangle_t+\\frac{1}{2}\\frac{\\partial f}{\\partial X_{1}^2}d\\langle X_1\\rangle_t+\\frac{1}{2}\\frac{\\partial f}{\\partial X_{2}^2}\\langle X_2\\rangle_t$$\n",
        "$$=f(X_2(0),X_2(0))+\\int_0^t (\\frac{\\partial f}{\\partial X_{1}}b_1+\\frac{\\partial f}{\\partial X_{2}}b_2+\\frac{\\partial f}{\\partial X_{1}\\partial X_{2}}(\\sigma_{11}\\sigma_{21}+\\sigma_{22}\\sigma_{12})+\\frac{1}{2}\\frac{\\partial f}{\\partial X_{1}^2}\\sigma^2_{11}+\\frac{1}{2}\\frac{\\partial f}{\\partial X_{2}^2}\\sigma^2_{22})ds+\\int_0^t(\\frac{\\partial f}{\\partial X_{1}}\\sigma_{11}+\\frac{\\partial f}{\\partial X_{2}}\\sigma_{21})dW_t^1+\\int_0^t(\\frac{\\partial f}{\\partial X_{1}}\\sigma_{12}+\\frac{\\partial f}{\\partial X_{2}}\\sigma_{22})dW_t^2$$"
      ]
    }
  ]
}