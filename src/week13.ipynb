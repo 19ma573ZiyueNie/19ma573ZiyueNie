{
  "nbformat": 4,
  "nbformat_minor": 0,
  "metadata": {
    "colab": {
      "name": "Untitled19.ipynb",
      "version": "0.3.2",
      "provenance": [],
      "include_colab_link": true
    },
    "kernelspec": {
      "name": "python3",
      "display_name": "Python 3"
    }
  },
  "cells": [
    {
      "cell_type": "markdown",
      "metadata": {
        "id": "view-in-github",
        "colab_type": "text"
      },
      "source": [
        "<a href=\"https://colab.research.google.com/github/ZiyueNie/19ma573ZiyueNie/blob/master/src/week13.ipynb\" target=\"_parent\"><img src=\"https://colab.research.google.com/assets/colab-badge.svg\" alt=\"Open In Colab\"/></a>"
      ]
    },
    {
      "metadata": {
        "id": "jXTMfzc_rn4D",
        "colab_type": "code",
        "colab": {}
      },
      "cell_type": "code",
      "source": [
        ""
      ],
      "execution_count": 0,
      "outputs": []
    },
    {
      "metadata": {
        "id": "eVjmnTxOrpq3",
        "colab_type": "text"
      },
      "cell_type": "markdown",
      "source": [
        "**important sampling**\n",
        "$$\\alpha=E^f[h(x)]=\\int h(x)f(x) dx=\\int h(x) \\frac{f(x)}{g(x)} g(x) dx=E^g[h(x)\\frac{f(x)}{g(x)} ]$$ \n",
        "$\\frac{f(x)}{g(x)}$ is called likelyhood ratio \n",
        "with g(x)>=0, $\\int g(x) dx=1$\n",
        "To find alpha, one wants to choose g, s.t. the new second moment "
      ]
    }
  ]
}