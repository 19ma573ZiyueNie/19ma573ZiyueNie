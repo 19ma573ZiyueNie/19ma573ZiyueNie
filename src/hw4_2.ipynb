{
  "nbformat": 4,
  "nbformat_minor": 0,
  "metadata": {
    "colab": {
      "name": "HW4_2.ipynb",
      "version": "0.3.2",
      "provenance": [],
      "include_colab_link": true
    },
    "kernelspec": {
      "name": "python3",
      "display_name": "Python 3"
    }
  },
  "cells": [
    {
      "cell_type": "markdown",
      "metadata": {
        "id": "view-in-github",
        "colab_type": "text"
      },
      "source": [
        "<a href=\"https://colab.research.google.com/github/ZiyueNie/19ma573ZiyueNie/blob/master/src/HW4_2.ipynb\" target=\"_parent\"><img src=\"https://colab.research.google.com/assets/colab-badge.svg\" alt=\"Open In Colab\"/></a>"
      ]
    },
    {
      "metadata": {
        "id": "cIq0hgAepmY1",
        "colab_type": "code",
        "outputId": "51946f33-1e7f-457e-814d-ef26b8a93f88",
        "colab": {
          "base_uri": "https://localhost:8080/",
          "height": 139
        }
      },
      "cell_type": "code",
      "source": [
        "!git clone https://github.com/ZiyueNie/19ma573ZiyueNie"
      ],
      "execution_count": 1,
      "outputs": [
        {
          "output_type": "stream",
          "text": [
            "Cloning into '19ma573ZiyueNie'...\n",
            "remote: Enumerating objects: 135, done.\u001b[K\n",
            "remote: Counting objects: 100% (135/135), done.\u001b[K\n",
            "remote: Compressing objects: 100% (135/135), done.\u001b[K\n",
            "remote: Total 290 (delta 51), reused 0 (delta 0), pack-reused 155\u001b[K\n",
            "Receiving objects: 100% (290/290), 424.07 KiB | 15.71 MiB/s, done.\n",
            "Resolving deltas: 100% (112/112), done.\n"
          ],
          "name": "stdout"
        }
      ]
    },
    {
      "metadata": {
        "id": "ZJ8N2yVSqAsC",
        "colab_type": "code",
        "outputId": "8fbf52b3-4dff-489e-a03d-baf7fb560497",
        "colab": {
          "base_uri": "https://localhost:8080/",
          "height": 35
        }
      },
      "cell_type": "code",
      "source": [
        "cd 19ma573ZiyueNie/src/"
      ],
      "execution_count": 2,
      "outputs": [
        {
          "output_type": "stream",
          "text": [
            "/content/19ma573ZiyueNie/src\n"
          ],
          "name": "stdout"
        }
      ]
    },
    {
      "metadata": {
        "id": "5YcPbCa4pkWC",
        "colab_type": "code",
        "colab": {}
      },
      "cell_type": "code",
      "source": [
        "import numpy as np\n",
        "import matplotlib.pyplot as plt\n",
        "import scipy.stats as ss\n",
        "import scipy.optimize as so\n",
        "from contract_v01 import VanillaOption\n",
        "#from test002 import VanillaOption\n",
        "from sde_1d_v01 import Sde_1d, Gbm_1d\n"
      ],
      "execution_count": 0,
      "outputs": []
    },
    {
      "metadata": {
        "id": "WK2dLRa0qHOk",
        "colab_type": "code",
        "outputId": "f6d1b024-8846-4572-970c-2202ee18a153",
        "colab": {
          "base_uri": "https://localhost:8080/",
          "height": 35
        }
      },
      "cell_type": "code",
      "source": [
        "'''==============\n",
        "Test BSM geometric asian option price\n",
        "==============='''\n",
        "gbm1 = Gbm_1d(init_state=100., drift_ratio=0.0475, vol_ratio=.2)\n",
        "gao1 = gbm1.bsm_geometric_asian_price(otype = 1,strike = 110.,maturity=1,num_step=4)\n",
        "print('>>>>>> geometric call option value is ' + str(gao1))"
      ],
      "execution_count": 4,
      "outputs": [
        {
          "output_type": "stream",
          "text": [
            ">>>>>> geometric call option value is 1.607164727431734\n"
          ],
          "name": "stdout"
        }
      ]
    },
    {
      "metadata": {
        "id": "9CXvq0J-8W10",
        "colab_type": "code",
        "colab": {}
      },
      "cell_type": "code",
      "source": [
        "'''===============\n",
        "market available data\n",
        "=================='''\n",
        "#paras for stock price\n",
        "spot = 100\n",
        "rate = .05\n",
        "#paras for geometric asian options\n",
        "otype = 1\n",
        "maturity = 2/12\n",
        "num_step = 8\n",
        "strike_list = [97, 99, 101, 103]\n",
        "market_price_list = [\n",
        "3.7925736094875964,\n",
        "2.5429985313737244,\n",
        "1.6026613800895042,\n",
        "0.9366198675047346]"
      ],
      "execution_count": 0,
      "outputs": []
    },
    {
      "metadata": {
        "id": "B67XNtQ-ATwe",
        "colab_type": "code",
        "outputId": "8ee2d763-f0af-4615-c8b7-19a117c1ef94",
        "colab": {
          "base_uri": "https://localhost:8080/",
          "height": 121
        }
      },
      "cell_type": "code",
      "source": [
        "\n",
        "'''================\n",
        "calibrated volatility based on vanilla options\n",
        "=================='''\n",
        "calibarated_vol = 0.18109375000000028\n",
        "calibrated_price=[]\n",
        "gbm1 = Gbm_1d(init_state=spot, drift_ratio=rate, vol_ratio=calibarated_vol)\n",
        "for i in range(len(strike_list)):\n",
        "  calibrated_price.append(gbm1.bsm_geometric_asian_price(otype=1, strike=strike_list[i],maturity=maturity, num_step=num_step))\n",
        "print('>>>>>>>>> calibrated price are:\\n ')\n",
        "for a in calibrated_price:\n",
        "  print(a)\n",
        "#calibrated_price"
      ],
      "execution_count": 6,
      "outputs": [
        {
          "output_type": "stream",
          "text": [
            ">>>>>>>>> calibrated price are:\n",
            " \n",
            "3.807571582023542\n",
            "2.4020600269716677\n",
            "1.3571851322662047\n",
            "0.6779174887750915\n"
          ],
          "name": "stdout"
        }
      ]
    },
    {
      "metadata": {
        "id": "zdZZBI87Ftjl",
        "colab_type": "code",
        "outputId": "764f595d-7d45-4c87-d589-ba814b137b1a",
        "colab": {
          "base_uri": "https://localhost:8080/",
          "height": 361
        }
      },
      "cell_type": "code",
      "source": [
        "#compare market price and calibrated price in terms of strike\n",
        "x_co = strike_list\n",
        "y_co = market_price_list\n",
        "plt.plot(x_co, y_co,'o', label='market price')\n",
        "y_co = calibrated_price\n",
        "plt.plot(x_co, y_co, label='calibrated price')\n",
        "\n",
        "plt.ylabel('option price')\n",
        "plt.xlabel('strike')\n",
        "plt.legend()\n",
        "plt.show()"
      ],
      "execution_count": 7,
      "outputs": [
        {
          "output_type": "display_data",
          "data": {
            "image/png": "[encoded data removed]",
            "text/plain": [
              "<Figure size 576x396 with 1 Axes>"
            ]
          },
          "metadata": {
            "tags": []
          }
        }
      ]
    }
  ]
}
