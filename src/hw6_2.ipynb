{
  "nbformat": 4,
  "nbformat_minor": 0,
  "metadata": {
    "colab": {
      "name": "hw6_2.ipynb",
      "version": "0.3.2",
      "provenance": [],
      "include_colab_link": true
    },
    "kernelspec": {
      "name": "python3",
      "display_name": "Python 3"
    }
  },
  "cells": [
    {
      "cell_type": "markdown",
      "metadata": {
        "id": "view-in-github",
        "colab_type": "text"
      },
      "source": [
        "<a href=\"https://colab.research.google.com/github/ZiyueNie/19ma573ZiyueNie/blob/master/src/hw6_2.ipynb\" target=\"_parent\"><img src=\"https://colab.research.google.com/assets/colab-badge.svg\" alt=\"Open In Colab\"/></a>"
      ]
    },
    {
      "metadata": {
        "id": "xNY2u-g9KjuH",
        "colab_type": "text"
      },
      "cell_type": "markdown",
      "source": [
        "**Given**\n",
        "$$p_1(x) =\\frac{1}{C} (2\\cdot I_{(0,\\frac{1}{100}]}(x)+1\\cdot I_{(\\frac{1}{100},1)}(x))$$\n",
        "**1.Find $F_1$**\n",
        "<br>Since $p_1$ is a PDF, then we have\n",
        "$$\\int_{-\\infty}^{\\infty}p_1(x)dx=\\frac{1}{C}(2\\cdot\\frac{1}{100}+(1-\\frac{1}{100}))=\\frac{101}{100C}=1 $$\n",
        "So  $C=\\frac{101}{100}$. \n",
        "<br>\n",
        "Since if $x\\leq0$,$F_1=0$,\n",
        "<br>\n",
        "if $0<x\\leq\\frac{1}{100}$,$F_1=\\int_{0}^{x}\\frac{2}{C}dx=\\frac{200}{101}x$,\n",
        "<br>\n",
        "if $\\frac{1}{100}<x\\leq1$,$F_1=\\int_{0}^{1/100}\\frac{2}{C}dx+\\int_{1/100}^{1}\\frac{x}{C}dx=\\frac{100}{101}x+\\frac{1}{101}$.\n",
        "<br>\n",
        "So we have\n",
        "<br>\n",
        "$$F_1(x)=\\begin{cases}0\\quad&\\text{if $x\\leq0$}\\\\\n",
        "\\frac{200}{101}x&\\text{if $0<x\\leq\\frac{1}{100}$}\\\\\n",
        "\\frac{100}{101}x+\\frac{1}{101}&\\text{if $\\frac{1}{100}<x\\leq1$}\n",
        "\\end{cases} $$\n",
        "**2.Find $F_1^{-1}$**\n",
        "<br>\n",
        "$$F_1^{-1}(x)=\\begin{cases}\n",
        "\\frac{101}{200}x&\\text{if $0<x\\leq\\frac{2}{101}$}\\\\\n",
        "\\frac{101}{100}x-\\frac{1}{100}&\\text{if $\\frac{2}{101}<x\\leq1$}\n",
        "\\end{cases}$$"
      ]
    },
    {
      "metadata": {
        "id": "R_L4O2b6Khzj",
        "colab_type": "code",
        "colab": {}
      },
      "cell_type": "code",
      "source": [
        "import numpy as np\n",
        "import matplotlib.pyplot as plt\n",
        "import scipy.stats as ss\n"
      ],
      "execution_count": 0,
      "outputs": []
    },
    {
      "metadata": {
        "id": "83Nj1_4pKi6Z",
        "colab_type": "code",
        "colab": {}
      },
      "cell_type": "code",
      "source": [
        "def h(x):\n",
        "  if x>0 and x<=1/100:\n",
        "    return 100\n",
        "  else:\n",
        "    return 1\n",
        "\n",
        "def p1(x):\n",
        "  if x>0 and x<=1/100:\n",
        "    return 200/101\n",
        "  if x>1/100 and x<1:\n",
        "    return 100/101\n",
        "  \n",
        "def F_inverse(x):\n",
        "  if 0<x and x<=2/101:\n",
        "    return 101*x/200\n",
        "  else:\n",
        "    return (101/100)*x-1/100\n",
        "\n",
        "  "
      ],
      "execution_count": 0,
      "outputs": []
    },
    {
      "metadata": {
        "id": "CSkK1lITXsVv",
        "colab_type": "text"
      },
      "cell_type": "markdown",
      "source": [
        "**3.Define inverse_transform_sampling function**"
      ]
    },
    {
      "metadata": {
        "id": "d9Nah5EtSWV0",
        "colab_type": "code",
        "colab": {}
      },
      "cell_type": "code",
      "source": [
        "def inverse_transform_sampling(n):\n",
        "  Y=np.random.uniform(0,1,n)\n",
        "  X=[]\n",
        "  for Y_i in Y:\n",
        "    X.append(F_inverse(Y_i))\n",
        "  return X\n",
        " "
      ],
      "execution_count": 0,
      "outputs": []
    },
    {
      "metadata": {
        "id": "NCNEmA4KVRgs",
        "colab_type": "text"
      },
      "cell_type": "markdown",
      "source": [
        "**4.Define importance_sampling_integral  function**\n",
        "<br>\n",
        "Since \n",
        "$$\\bar \\alpha_n=\\frac{1}{n}\\sum_{i=1}^{n}h(X_i)\\cdot\\frac{p(X_i)}{p_1(X_i)}$$\n",
        "<br>and $p(x)=1$"
      ]
    },
    {
      "metadata": {
        "id": "wcZ4snBzSwm2",
        "colab_type": "code",
        "colab": {}
      },
      "cell_type": "code",
      "source": [
        "def importance_sampling_integral(n):\n",
        "  X=inverse_transform_sampling(n)\n",
        "  Sum=0\n",
        "  for X_i in X:\n",
        "    Sum=Sum+h(X_i)/p1(X_i)\n",
        "  return Sum/n"
      ],
      "execution_count": 0,
      "outputs": []
    },
    {
      "metadata": {
        "id": "NJQO_BBmWjGC",
        "colab_type": "code",
        "colab": {}
      },
      "cell_type": "code",
      "source": [
        "#use the similar method in hw6_1\n",
        "m=100 #fix m =100\n",
        "alpha_ij=[]\n",
        "for i in range(5,10):\n",
        "  alpha_i=[]\n",
        "  for j in range(m): #run m times of omc_integral(n=2^i)\n",
        "    alpha_i.append(importance_sampling_integral(2**i))\n",
        "  alpha_ij.append(alpha_i) #store it into alpha_ij\n",
        "#Compute standard deviation of alpha_ij, save it to sigma_i\n",
        "sigma_i=[]\n",
        "for alpha_i in alpha_ij:\n",
        "  sigma_i.append(np.std(alpha_i))\n"
      ],
      "execution_count": 0,
      "outputs": []
    },
    {
      "metadata": {
        "id": "CY_15D1MYUBC",
        "colab_type": "text"
      },
      "cell_type": "markdown",
      "source": [
        "**5.Demonstrate the convergence rate of the above important sampling**"
      ]
    },
    {
      "metadata": {
        "id": "Oc69ehuyW-6h",
        "colab_type": "code",
        "outputId": "62e30121-6977-44a6-9e71-db12a86b684c",
        "colab": {
          "base_uri": "https://localhost:8080/",
          "height": 365
        }
      },
      "cell_type": "code",
      "source": [
        "xx=[i for i in range(5,10)]\n",
        "yy=-np.log2(sigma_i)\n",
        "plt.plot(xx,yy)\n",
        "out = ss.linregress(xx,yy)\n",
        "print('----->>>the convergence order is ' + str(out[0]))"
      ],
      "execution_count": 6,
      "outputs": [
        {
          "output_type": "stream",
          "text": [
            "----->>>the convergence order is 0.5573482670624575\n"
          ],
          "name": "stdout"
        },
        {
          "output_type": "display_data",
          "data": {
            "image/png": "[encoded data removed]",
            "text/plain": [
              "<Figure size 576x396 with 1 Axes>"
            ]
          },
          "metadata": {
            "tags": []
          }
        }
      ]
    },
    {
      "metadata": {
        "id": "XnbpRmTMx4NM",
        "colab_type": "text"
      },
      "cell_type": "markdown",
      "source": [
        "**6.Find a pdf $p_2$ better than $p_1$**\n",
        "<br>let $$p_2(x) =\\frac{1}{C} (100\\cdot I_{(0,\\frac{1}{100}]}(x)+1\\cdot I_{(\\frac{1}{100},1)}(x))$$\n",
        "<br> where $C=\\frac{199}{100}$\n",
        "<br>then\n",
        "$$F_2(x)=\\begin{cases}0\\quad&\\text{if $x\\leq0$}\\\\\n",
        "\\frac{100}{199}100x&\\text{if $0<x\\leq\\frac{1}{100}$}\\\\\n",
        "\\frac{100}{199}x+\\frac{99}{199}&\\text{if $\\frac{1}{100}<x\\leq1$}\n",
        "\\end{cases} $$\n",
        "\n",
        "<br>\n",
        "$$F_2^{-1}(x)=\\begin{cases}\n",
        "\\frac{199}{10000}x&\\text{if $0<x\\leq\\frac{100}{199}$}\\\\\n",
        "\\frac{199}{100}x-\\frac{99}{100}&\\text{if $\\frac{100}{199}<x\\leq1$}\n",
        "\\end{cases}$$"
      ]
    },
    {
      "metadata": {
        "id": "E0QC3zQ51rYb",
        "colab_type": "code",
        "colab": {
          "base_uri": "https://localhost:8080/",
          "height": 365
        },
        "outputId": "766885f4-3cc1-4bc9-f314-1ce4294a7a14"
      },
      "cell_type": "code",
      "source": [
        "def p2(x):\n",
        "  if x>0 and x<=1/100:\n",
        "    return 10000/199\n",
        "  if x>1/100 and x<1:\n",
        "    return 100/199\n",
        "  \n",
        "def F2_inverse(x):\n",
        "  if 0<x and x<=100/199:\n",
        "    return 199*x/10000\n",
        "  else:\n",
        "    return (199/100)*x-99/100\n",
        "\n",
        "def importance_sampling_integral_2(n):\n",
        "  X=inverse_transform_sampling(n)\n",
        "  Sum=0\n",
        "  for X_i in X:\n",
        "    Sum=Sum+h(X_i)/p2(X_i)\n",
        "  return Sum/n\n",
        "\n",
        "m=100 #fix m =100\n",
        "alpha_ij_2=[]\n",
        "for i in range(5,10):\n",
        "  alpha_i_2=[]\n",
        "  for j in range(m): #run m times of omc_integral(n=2^i)\n",
        "    alpha_i_2.append(importance_sampling_integral_2(2**i))\n",
        "  alpha_ij_2.append(alpha_i_2) #store it into alpha_ij\n",
        "#Compute standard deviation of alpha_ij, save it to sigma_i\n",
        "sigma_i_2=[]\n",
        "for alpha_i_2 in alpha_ij_2:\n",
        "  sigma_i_2.append(np.std(alpha_i_2))\n",
        "\n",
        "  \n",
        "xx=[i for i in range(5,10)]\n",
        "yy=-np.log2(sigma_i_2)\n",
        "plt.plot(xx,yy)\n",
        "out = ss.linregress(xx,yy)\n",
        "print('----->>>the convergence order is ' + str(out[0]))"
      ],
      "execution_count": 9,
      "outputs": [
        {
          "output_type": "stream",
          "text": [
            "----->>>the convergence order is 0.1327687364176043\n"
          ],
          "name": "stdout"
        },
        {
          "output_type": "display_data",
          "data": {
            "image/png": "[encoded data removed]",
            "text/plain": [
              "<Figure size 576x396 with 1 Axes>"
            ]
          },
          "metadata": {
            "tags": []
          }
        }
      ]
    }
  ]
}