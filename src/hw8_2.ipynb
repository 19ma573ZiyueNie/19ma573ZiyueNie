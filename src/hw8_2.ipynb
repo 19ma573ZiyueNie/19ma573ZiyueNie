{
  "nbformat": 4,
  "nbformat_minor": 0,
  "metadata": {
    "colab": {
      "name": "hw8_2.ipynb",
      "version": "0.3.2",
      "provenance": [],
      "include_colab_link": true
    },
    "kernelspec": {
      "name": "python3",
      "display_name": "Python 3"
    }
  },
  "cells": [
    {
      "cell_type": "markdown",
      "metadata": {
        "id": "view-in-github",
        "colab_type": "text"
      },
      "source": [
        "<a href=\"https://colab.research.google.com/github/ZiyueNie/19ma573ZiyueNie/blob/master/src/hw8_2.ipynb\" target=\"_parent\"><img src=\"https://colab.research.google.com/assets/colab-badge.svg\" alt=\"Open In Colab\"/></a>"
      ]
    },
    {
      "metadata": {
        "id": "gAHTTKEB5ks7",
        "colab_type": "text"
      },
      "cell_type": "markdown",
      "source": [
        "**Price call for heston model **"
      ]
    },
    {
      "metadata": {
        "id": "8jZDXh2w5ti1",
        "colab_type": "text"
      },
      "cell_type": "markdown",
      "source": [
        "By material in lecture,  we have\n",
        "$$ \\begin{align*}\n",
        "&dS_{t} = rS_{t}dt + \\sqrt{v_{t}}S_{t}dW_{1,t} \\\\\n",
        "&dv_{t} = \\kappa (\\theta - v_{t})dt + \\xi \\sqrt{v_{t}} (\\rho dW_{1,t} + \\bar \\rho dW_{2,t})\n",
        "\\end{align*}$$\n",
        "<br>\n",
        "$$C = S_{0}I_{1} - Ke^{-rT}I_{2}$$\n",
        "\n",
        "where\n",
        "\n",
        "$$I_{1}(\\phi,\\ln(K)) = \\frac{1}{2} + \\frac{1}{\\pi}\\int_{0}^{\\infty}Re(\\frac{e^{-iu\\ln(K)}\\phi(u-i)}{iu\\phi(-i)})du$$\n",
        "\n",
        "and\n",
        "$$I_{2}(\\phi,\\ln(K)) = \\frac{1}{2} + \\frac{1}{\\pi}\\int_{0}^{\\infty}Re(\\frac{e^{-iu\\ln(K)}\\phi(u)}{iu})du$$\n",
        "\n",
        "<br>By Ali Hirsa's book Computational Methods in Finance, Chapter 2.3.4.2, use $\\xi$ in stead of $\\sigma$, and let $q=0$, we have\n",
        "$$ \\begin{align*}\n",
        "\\phi(u) \n",
        "&= E(e^{iu\\ln S_t}) \\\\\n",
        "&=\\frac{\\exp({iu\\ln S_{0} + iurt + \\frac{\\kappa \\theta t (\\kappa - i\\rho\\xi u)}{\\xi^{2}}})} {(\\cosh(\\frac{\\gamma t}{2})+ \\frac{\\kappa - i\\rho\\xi u}{\\gamma}\\sinh(\\frac{\\gamma t}{2}))^{\\frac{2\\kappa\\theta}{\\xi^{2}}}} * exp({\\frac{-(u^{2}+iu)v_{0}} {\\gamma coth(\\frac{\\gamma t}{2})+\\kappa - i\\rho\\xi u}})\n",
        "\\end{align*} $$\n",
        "\n",
        "Where $\\gamma = \\sqrt{\\xi^{2}(u^{2}+iu) + (\\kappa - i\\rho\\xi u)^{2}}$.\n",
        "\n"
      ]
    },
    {
      "metadata": {
        "id": "3oWbLnao0Shu",
        "colab_type": "code",
        "colab": {
          "base_uri": "https://localhost:8080/",
          "height": 140
        },
        "outputId": "eebd428a-f89e-43bf-9781-b4d2baa9dec3"
      },
      "cell_type": "code",
      "source": [
        "!git clone https://github.com/ZiyueNie/19ma573ZiyueNie"
      ],
      "execution_count": 34,
      "outputs": [
        {
          "output_type": "stream",
          "text": [
            "Cloning into '19ma573ZiyueNie'...\n",
            "remote: Enumerating objects: 123, done.\u001b[K\n",
            "remote: Counting objects:   0% (1/123)   \u001b[K\rremote: Counting objects:   1% (2/123)   \u001b[K\rremote: Counting objects:   2% (3/123)   \u001b[K\rremote: Counting objects:   3% (4/123)   \u001b[K\rremote: Counting objects:   4% (5/123)   \u001b[K\rremote: Counting objects:   5% (7/123)   \u001b[K\rremote: Counting objects:   6% (8/123)   \u001b[K\rremote: Counting objects:   7% (9/123)   \u001b[K\rremote: Counting objects:   8% (10/123)   \u001b[K\rremote: Counting objects:   9% (12/123)   \u001b[K\rremote: Counting objects:  10% (13/123)   \u001b[K\rremote: Counting objects:  11% (14/123)   \u001b[K\rremote: Counting objects:  12% (15/123)   \u001b[K\rremote: Counting objects:  13% (16/123)   \u001b[K\rremote: Counting objects:  14% (18/123)   \u001b[K\rremote: Counting objects:  15% (19/123)   \u001b[K\rremote: Counting objects:  16% (20/123)   \u001b[K\rremote: Counting objects:  17% (21/123)   \u001b[K\rremote: Counting objects:  18% (23/123)   \u001b[K\rremote: Counting objects:  19% (24/123)   \u001b[K\rremote: Counting objects:  20% (25/123)   \u001b[K\rremote: Counting objects:  21% (26/123)   \u001b[K\rremote: Counting objects:  22% (28/123)   \u001b[K\rremote: Counting objects:  23% (29/123)   \u001b[K\rremote: Counting objects:  24% (30/123)   \u001b[K\rremote: Counting objects:  25% (31/123)   \u001b[K\rremote: Counting objects:  26% (32/123)   \u001b[K\rremote: Counting objects:  27% (34/123)   \u001b[K\rremote: Counting objects:  28% (35/123)   \u001b[K\rremote: Counting objects:  29% (36/123)   \u001b[K\rremote: Counting objects:  30% (37/123)   \u001b[K\rremote: Counting objects:  31% (39/123)   \u001b[K\rremote: Counting objects:  32% (40/123)   \u001b[K\rremote: Counting objects:  33% (41/123)   \u001b[K\rremote: Counting objects:  34% (42/123)   \u001b[K\rremote: Counting objects:  35% (44/123)   \u001b[K\rremote: Counting objects:  36% (45/123)   \u001b[K\rremote: Counting objects:  37% (46/123)   \u001b[K\rremote: Counting objects:  38% (47/123)   \u001b[K\rremote: Counting objects:  39% (48/123)   \u001b[K\rremote: Counting objects:  40% (50/123)   \u001b[K\rremote: Counting objects:  41% (51/123)   \u001b[K\rremote: Counting objects:  42% (52/123)   \u001b[K\rremote: Counting objects:  43% (53/123)   \u001b[K\rremote: Counting objects:  44% (55/123)   \u001b[K\rremote: Counting objects:  45% (56/123)   \u001b[K\rremote: Counting objects:  46% (57/123)   \u001b[K\rremote: Counting objects:  47% (58/123)   \u001b[K\rremote: Counting objects:  48% (60/123)   \u001b[K\rremote: Counting objects:  49% (61/123)   \u001b[K\rremote: Counting objects:  50% (62/123)   \u001b[K\rremote: Counting objects:  51% (63/123)   \u001b[K\rremote: Counting objects:  52% (64/123)   \u001b[K\rremote: Counting objects:  53% (66/123)   \u001b[K\rremote: Counting objects:  54% (67/123)   \u001b[K\rremote: Counting objects:  55% (68/123)   \u001b[K\rremote: Counting objects:  56% (69/123)   \u001b[K\rremote: Counting objects:  57% (71/123)   \u001b[K\rremote: Counting objects:  58% (72/123)   \u001b[K\rremote: Counting objects:  59% (73/123)   \u001b[K\rremote: Counting objects:  60% (74/123)   \u001b[K\rremote: Counting objects:  61% (76/123)   \u001b[K\rremote: Counting objects:  62% (77/123)   \u001b[K\rremote: Counting objects:  63% (78/123)   \u001b[K\rremote: Counting objects:  64% (79/123)   \u001b[K\rremote: Counting objects:  65% (80/123)   \u001b[K\rremote: Counting objects:  66% (82/123)   \u001b[K\rremote: Counting objects:  67% (83/123)   \u001b[K\rremote: Counting objects:  68% (84/123)   \u001b[K\rremote: Counting objects:  69% (85/123)   \u001b[K\rremote: Counting objects:  70% (87/123)   \u001b[K\rremote: Counting objects:  71% (88/123)   \u001b[K\rremote: Counting objects:  72% (89/123)   \u001b[K\rremote: Counting objects:  73% (90/123)   \u001b[K\rremote: Counting objects:  74% (92/123)   \u001b[K\rremote: Counting objects:  75% (93/123)   \u001b[K\rremote: Counting objects:  76% (94/123)   \u001b[K\rremote: Counting objects:  77% (95/123)   \u001b[K\rremote: Counting objects:  78% (96/123)   \u001b[K\rremote: Counting objects:  79% (98/123)   \u001b[K\rremote: Counting objects:  80% (99/123)   \u001b[K\rremote: Counting objects:  81% (100/123)   \u001b[K\rremote: Counting objects:  82% (101/123)   \u001b[K\rremote: Counting objects:  83% (103/123)   \u001b[K\rremote: Counting objects:  84% (104/123)   \u001b[K\rremote: Counting objects:  85% (105/123)   \u001b[K\rremote: Counting objects:  86% (106/123)   \u001b[K\rremote: Counting objects:  87% (108/123)   \u001b[K\rremote: Counting objects:  88% (109/123)   \u001b[K\rremote: Counting objects:  89% (110/123)   \u001b[K\rremote: Counting objects:  90% (111/123)   \u001b[K\rremote: Counting objects:  91% (112/123)   \u001b[K\rremote: Counting objects:  92% (114/123)   \u001b[K\rremote: Counting objects:  93% (115/123)   \u001b[K\rremote: Counting objects:  94% (116/123)   \u001b[K\rremote: Counting objects:  95% (117/123)   \u001b[K\rremote: Counting objects:  96% (119/123)   \u001b[K\rremote: Counting objects:  97% (120/123)   \u001b[K\rremote: Counting objects:  98% (121/123)   \u001b[K\rremote: Counting objects:  99% (122/123)   \u001b[K\rremote: Counting objects: 100% (123/123)   \u001b[K\rremote: Counting objects: 100% (123/123), done.\u001b[K\n",
            "remote: Compressing objects:   0% (1/123)   \u001b[K\rremote: Compressing objects:   1% (2/123)   \u001b[K\rremote: Compressing objects:   2% (3/123)   \u001b[K\rremote: Compressing objects:   3% (4/123)   \u001b[K\rremote: Compressing objects:   4% (5/123)   \u001b[K\rremote: Compressing objects:   5% (7/123)   \u001b[K\rremote: Compressing objects:   6% (8/123)   \u001b[K\rremote: Compressing objects:   7% (9/123)   \u001b[K\rremote: Compressing objects:   8% (10/123)   \u001b[K\rremote: Compressing objects:   9% (12/123)   \u001b[K\rremote: Compressing objects:  10% (13/123)   \u001b[K\rremote: Compressing objects:  11% (14/123)   \u001b[K\rremote: Compressing objects:  12% (15/123)   \u001b[K\rremote: Compressing objects:  13% (16/123)   \u001b[K\rremote: Compressing objects:  14% (18/123)   \u001b[K\rremote: Compressing objects:  15% (19/123)   \u001b[K\rremote: Compressing objects:  16% (20/123)   \u001b[K\rremote: Compressing objects:  17% (21/123)   \u001b[K\rremote: Compressing objects:  18% (23/123)   \u001b[K\rremote: Compressing objects:  19% (24/123)   \u001b[K\rremote: Compressing objects:  20% (25/123)   \u001b[K\rremote: Compressing objects:  21% (26/123)   \u001b[K\rremote: Compressing objects:  22% (28/123)   \u001b[K\rremote: Compressing objects:  23% (29/123)   \u001b[K\rremote: Compressing objects:  24% (30/123)   \u001b[K\rremote: Compressing objects:  25% (31/123)   \u001b[K\rremote: Compressing objects:  26% (32/123)   \u001b[K\rremote: Compressing objects:  27% (34/123)   \u001b[K\rremote: Compressing objects:  28% (35/123)   \u001b[K\rremote: Compressing objects:  29% (36/123)   \u001b[K\rremote: Compressing objects:  30% (37/123)   \u001b[K\rremote: Compressing objects:  31% (39/123)   \u001b[K\rremote: Compressing objects:  32% (40/123)   \u001b[K\rremote: Compressing objects:  33% (41/123)   \u001b[K\rremote: Compressing objects:  34% (42/123)   \u001b[K\rremote: Compressing objects:  35% (44/123)   \u001b[K\rremote: Compressing objects:  36% (45/123)   \u001b[K\rremote: Compressing objects:  37% (46/123)   \u001b[K\rremote: Compressing objects:  38% (47/123)   \u001b[K\rremote: Compressing objects:  39% (48/123)   \u001b[K\rremote: Compressing objects:  40% (50/123)   \u001b[K\rremote: Compressing objects:  41% (51/123)   \u001b[K\rremote: Compressing objects:  42% (52/123)   \u001b[K\rremote: Compressing objects:  43% (53/123)   \u001b[K\rremote: Compressing objects:  44% (55/123)   \u001b[K\rremote: Compressing objects:  45% (56/123)   \u001b[K\rremote: Compressing objects:  46% (57/123)   \u001b[K\rremote: Compressing objects:  47% (58/123)   \u001b[K\rremote: Compressing objects:  48% (60/123)   \u001b[K\rremote: Compressing objects:  49% (61/123)   \u001b[K\rremote: Compressing objects:  50% (62/123)   \u001b[K\rremote: Compressing objects:  51% (63/123)   \u001b[K\rremote: Compressing objects:  52% (64/123)   \u001b[K\rremote: Compressing objects:  53% (66/123)   \u001b[K\rremote: Compressing objects:  54% (67/123)   \u001b[K\rremote: Compressing objects:  55% (68/123)   \u001b[K\rremote: Compressing objects:  56% (69/123)   \u001b[K\rremote: Compressing objects:  57% (71/123)   \u001b[K\rremote: Compressing objects:  58% (72/123)   \u001b[K\rremote: Compressing objects:  59% (73/123)   \u001b[K\rremote: Compressing objects:  60% (74/123)   \u001b[K\rremote: Compressing objects:  61% (76/123)   \u001b[K\rremote: Compressing objects:  62% (77/123)   \u001b[K\rremote: Compressing objects:  63% (78/123)   \u001b[K\rremote: Compressing objects:  64% (79/123)   \u001b[K\rremote: Compressing objects:  65% (80/123)   \u001b[K\rremote: Compressing objects:  66% (82/123)   \u001b[K\rremote: Compressing objects:  67% (83/123)   \u001b[K\rremote: Compressing objects:  68% (84/123)   \u001b[K\rremote: Compressing objects:  69% (85/123)   \u001b[K\rremote: Compressing objects:  70% (87/123)   \u001b[K\rremote: Compressing objects:  71% (88/123)   \u001b[K\rremote: Compressing objects:  72% (89/123)   \u001b[K\rremote: Compressing objects:  73% (90/123)   \u001b[K\rremote: Compressing objects:  74% (92/123)   \u001b[K\rremote: Compressing objects:  75% (93/123)   \u001b[K\rremote: Compressing objects:  76% (94/123)   \u001b[K\rremote: Compressing objects:  77% (95/123)   \u001b[K\rremote: Compressing objects:  78% (96/123)   \u001b[K\rremote: Compressing objects:  79% (98/123)   \u001b[K\rremote: Compressing objects:  80% (99/123)   \u001b[K\rremote: Compressing objects:  81% (100/123)   \u001b[K\rremote: Compressing objects:  82% (101/123)   \u001b[K\rremote: Compressing objects:  83% (103/123)   \u001b[K\rremote: Compressing objects:  84% (104/123)   \u001b[K\rremote: Compressing objects:  85% (105/123)   \u001b[K\rremote: Compressing objects:  86% (106/123)   \u001b[K\rremote: Compressing objects:  87% (108/123)   \u001b[K\rremote: Compressing objects:  88% (109/123)   \u001b[K\rremote: Compressing objects:  89% (110/123)   \u001b[K\rremote: Compressing objects:  90% (111/123)   \u001b[K\rremote: Compressing objects:  91% (112/123)   \u001b[K\rremote: Compressing objects:  92% (114/123)   \u001b[K\rremote: Compressing objects:  93% (115/123)   \u001b[K\rremote: Compressing objects:  94% (116/123)   \u001b[K\rremote: Compressing objects:  95% (117/123)   \u001b[K\rremote: Compressing objects:  96% (119/123)   \u001b[K\rremote: Compressing objects:  97% (120/123)   \u001b[K\rremote: Compressing objects:  98% (121/123)   \u001b[K\rremote: Compressing objects:  99% (122/123)   \u001b[K\rremote: Compressing objects: 100% (123/123)   \u001b[K\rremote: Compressing objects: 100% (123/123), done.\u001b[K\n",
            "Receiving objects:   0% (1/424)   \rReceiving objects:   1% (5/424)   \rReceiving objects:   2% (9/424)   \rReceiving objects:   3% (13/424)   \rReceiving objects:   4% (17/424)   \rReceiving objects:   5% (22/424)   \rReceiving objects:   6% (26/424)   \rReceiving objects:   7% (30/424)   \rReceiving objects:   8% (34/424)   \rReceiving objects:   9% (39/424)   \rReceiving objects:  10% (43/424)   \rReceiving objects:  11% (47/424)   \rReceiving objects:  12% (51/424)   \rReceiving objects:  13% (56/424)   \rReceiving objects:  14% (60/424)   \rReceiving objects:  15% (64/424)   \rReceiving objects:  16% (68/424)   \rReceiving objects:  17% (73/424)   \rReceiving objects:  18% (77/424)   \rReceiving objects:  19% (81/424)   \rReceiving objects:  20% (85/424)   \rReceiving objects:  21% (90/424)   \rReceiving objects:  22% (94/424)   \rReceiving objects:  23% (98/424)   \rReceiving objects:  24% (102/424)   \rReceiving objects:  25% (106/424)   \rReceiving objects:  26% (111/424)   \rReceiving objects:  27% (115/424)   \rReceiving objects:  28% (119/424)   \rReceiving objects:  29% (123/424)   \rReceiving objects:  30% (128/424)   \rReceiving objects:  31% (132/424)   \rReceiving objects:  32% (136/424)   \rReceiving objects:  33% (140/424)   \rReceiving objects:  34% (145/424)   \rReceiving objects:  35% (149/424)   \rReceiving objects:  36% (153/424)   \rReceiving objects:  37% (157/424)   \rReceiving objects:  38% (162/424)   \rReceiving objects:  39% (166/424)   \rReceiving objects:  40% (170/424)   \rReceiving objects:  41% (174/424)   \rReceiving objects:  42% (179/424)   \rReceiving objects:  43% (183/424)   \rReceiving objects:  44% (187/424)   \rReceiving objects:  45% (191/424)   \rReceiving objects:  46% (196/424)   \rReceiving objects:  47% (200/424)   \rReceiving objects:  48% (204/424)   \rReceiving objects:  49% (208/424)   \rReceiving objects:  50% (212/424)   \rReceiving objects:  51% (217/424)   \rReceiving objects:  52% (221/424)   \rReceiving objects:  53% (225/424)   \rReceiving objects:  54% (229/424)   \rReceiving objects:  55% (234/424)   \rReceiving objects:  56% (238/424)   \rReceiving objects:  57% (242/424)   \rReceiving objects:  58% (246/424)   \rReceiving objects:  59% (251/424)   \rReceiving objects:  60% (255/424)   \rReceiving objects:  61% (259/424)   \rReceiving objects:  62% (263/424)   \rReceiving objects:  63% (268/424)   \rReceiving objects:  64% (272/424)   \rReceiving objects:  65% (276/424)   \rReceiving objects:  66% (280/424)   \rReceiving objects:  67% (285/424)   \rReceiving objects:  68% (289/424)   \rReceiving objects:  69% (293/424)   \rReceiving objects:  70% (297/424)   \rReceiving objects:  71% (302/424)   \rReceiving objects:  72% (306/424)   \rReceiving objects:  73% (310/424)   \rReceiving objects:  74% (314/424)   \rReceiving objects:  75% (318/424)   \rReceiving objects:  76% (323/424)   \rReceiving objects:  77% (327/424)   \rReceiving objects:  78% (331/424)   \rReceiving objects:  79% (335/424)   \rReceiving objects:  80% (340/424)   \rremote: Total 424 (delta 48), reused 0 (delta 0), pack-reused 301\u001b[K\n",
            "Receiving objects:  81% (344/424)   \rReceiving objects:  82% (348/424)   \rReceiving objects:  83% (352/424)   \rReceiving objects:  84% (357/424)   \rReceiving objects:  85% (361/424)   \rReceiving objects:  86% (365/424)   \rReceiving objects:  87% (369/424)   \rReceiving objects:  88% (374/424)   \rReceiving objects:  89% (378/424)   \rReceiving objects:  90% (382/424)   \rReceiving objects:  91% (386/424)   \rReceiving objects:  92% (391/424)   \rReceiving objects:  93% (395/424)   \rReceiving objects:  94% (399/424)   \rReceiving objects:  95% (403/424)   \rReceiving objects:  96% (408/424)   \rReceiving objects:  97% (412/424)   \rReceiving objects:  98% (416/424)   \rReceiving objects:  99% (420/424)   \rReceiving objects: 100% (424/424)   \rReceiving objects: 100% (424/424), 585.09 KiB | 30.79 MiB/s, done.\n",
            "Resolving deltas:   0% (0/170)   \rResolving deltas:   1% (2/170)   \rResolving deltas:  11% (20/170)   \rResolving deltas:  41% (71/170)   \rResolving deltas:  42% (72/170)   \rResolving deltas:  47% (80/170)   \rResolving deltas:  49% (84/170)   \rResolving deltas:  50% (85/170)   \rResolving deltas:  52% (89/170)   \rResolving deltas:  53% (91/170)   \rResolving deltas:  55% (94/170)   \rResolving deltas:  57% (97/170)   \rResolving deltas:  62% (107/170)   \rResolving deltas:  63% (108/170)   \rResolving deltas:  64% (109/170)   \rResolving deltas:  68% (116/170)   \rResolving deltas:  69% (118/170)   \rResolving deltas:  70% (119/170)   \rResolving deltas:  71% (122/170)   \rResolving deltas:  73% (125/170)   \rResolving deltas:  88% (151/170)   \rResolving deltas:  94% (160/170)   \rResolving deltas:  95% (162/170)   \rResolving deltas:  97% (165/170)   \rResolving deltas:  98% (167/170)   \rResolving deltas:  99% (169/170)   \rResolving deltas: 100% (170/170)   \rResolving deltas: 100% (170/170), done.\n"
          ],
          "name": "stdout"
        }
      ]
    },
    {
      "metadata": {
        "id": "z03LEvU9AkAe",
        "colab_type": "code",
        "colab": {
          "base_uri": "https://localhost:8080/",
          "height": 34
        },
        "outputId": "8428735a-6587-4f62-8d74-b39ed3f772fe"
      },
      "cell_type": "code",
      "source": [
        "cd 19ma573ZiyueNie/src/"
      ],
      "execution_count": 35,
      "outputs": [
        {
          "output_type": "stream",
          "text": [
            "/content/19ma573ZiyueNie/src/19ma573ZiyueNie/src\n"
          ],
          "name": "stdout"
        }
      ]
    },
    {
      "metadata": {
        "id": "7HVRnP2vAkM7",
        "colab_type": "code",
        "colab": {}
      },
      "cell_type": "code",
      "source": [
        "import numpy as np\n",
        "import matplotlib.pyplot as plt\n",
        "import scipy.stats as ss\n",
        "import scipy.optimize as so\n",
        "import scipy.integrate as integrate\n",
        "from contract_v01 import VanillaOption\n",
        "from sde_1d_v01 import *"
      ],
      "execution_count": 0,
      "outputs": []
    },
    {
      "metadata": {
        "id": "trBHaiTEAkY8",
        "colab_type": "code",
        "colab": {}
      },
      "cell_type": "code",
      "source": [
        "#paras \n",
        "s0=100\n",
        "v0=0.04\n",
        "r=0.05\n",
        "kappa=1.2\n",
        "theta=0.04\n",
        "xi=0.3\n",
        "rho=0.5\n",
        "otype=1\n",
        "K=100\n",
        "T=1\n",
        "market_price=15;"
      ],
      "execution_count": 0,
      "outputs": []
    },
    {
      "metadata": {
        "id": "en13ATZ8BTHi",
        "colab_type": "code",
        "colab": {}
      },
      "cell_type": "code",
      "source": [
        "def Phi(u, s0, v0, T, r, kappa, theta, xi, rho):\n",
        "  gamma = np.sqrt(((xi**2) * (u**2 + 1j*u)) + ((kappa - 1j*rho*xi*u)**2))  # 1j means i\n",
        "  factor1 = np.exp((1j*u*np.log(s0)) + (1j*u*r*T) + ((kappa*theta*T*(kappa - (1j*rho*xi*u)))/ (xi**2)))\n",
        "  factor2 = (np.cosh(gamma*T/2) + ((kappa-1j*rho*xi*u)/gamma)*np.sinh(gamma*T/2))**(2*kappa*theta/(xi**2))\n",
        "  coth = np.cosh(gamma*T/2) / np.sinh(gamma*T/2) # since numpy has no attribute coth\n",
        "  factor3 = np.exp(-(u**2 + 1j*u)*v0/(gamma*coth + kappa - 1j*rho*xi*u))\n",
        "  return factor1 / factor2 * factor3"
      ],
      "execution_count": 0,
      "outputs": []
    },
    {
      "metadata": {
        "id": "8xX6qmndBa3-",
        "colab_type": "code",
        "colab": {}
      },
      "cell_type": "code",
      "source": [
        "def Re1(u, s0, v0, T, r, kappa, theta, xi, rho):\n",
        "  return (np.exp(-1j*np.log(K/s0)*u)*Phi(u-1j, s0, v0, T, r, kappa, theta, xi, rho)/(1j*u*Phi(-1j, s0, v0, T, r, kappa, theta, xi, rho))).real"
      ],
      "execution_count": 0,
      "outputs": []
    },
    {
      "metadata": {
        "id": "mvbKi2HIBbBV",
        "colab_type": "code",
        "colab": {}
      },
      "cell_type": "code",
      "source": [
        "def Re2(u, s0, v0, T, r, kappa, theta, xi, rho):\n",
        "  return (np.exp(-1j*np.log(K/s0)*u)*Phi(u, s0, v0, T, r, kappa, theta, xi, rho)/(1j*u)).real"
      ],
      "execution_count": 0,
      "outputs": []
    },
    {
      "metadata": {
        "id": "WPTMhH0JBf68",
        "colab_type": "code",
        "colab": {}
      },
      "cell_type": "code",
      "source": [
        "I1=1/2+(1/np.pi)*integrate.quad(lambda u:Re1(u, s0, v0, T, r, kappa, theta, xi, rho),0,1000)[0]\n",
        "I2=1/2+(1/np.pi)*integrate.quad(lambda u:Re2(u, s0, v0, T, r, kappa, theta, xi, rho),0,1000)[0]"
      ],
      "execution_count": 0,
      "outputs": []
    },
    {
      "metadata": {
        "id": "xX21utivBgCj",
        "colab_type": "code",
        "colab": {
          "base_uri": "https://localhost:8080/",
          "height": 34
        },
        "outputId": "cc0374df-aefd-4000-cc6f-ee539e55aa2d"
      },
      "cell_type": "code",
      "source": [
        "Price= (s0*I1)-(K*(np.exp(-r*T))*I2)\n",
        "print('Fourier Transform of BSM price is '+ str(Price))"
      ],
      "execution_count": 45,
      "outputs": [
        {
          "output_type": "stream",
          "text": [
            "Fourier Transform of BSM price is 4.877057549989402\n"
          ],
          "name": "stdout"
        }
      ]
    },
    {
      "metadata": {
        "id": "eGKuinPwBqAk",
        "colab_type": "code",
        "colab": {
          "base_uri": "https://localhost:8080/",
          "height": 34
        },
        "outputId": "f5e5bd65-fd2f-4b35-99b0-3b413eccaaa8"
      },
      "cell_type": "code",
      "source": [
        "vanillaoption=VanillaOption(otype, K, T, market_price)\n",
        "gbm=Gbm_1d(s0, r, xi*np.sqrt(v0))\n",
        "price=gbm.bsm_price(vanillaoption)\n",
        "print('european call option price is '+ str(price))"
      ],
      "execution_count": 48,
      "outputs": [
        {
          "output_type": "stream",
          "text": [
            "european call option price is 10.317923528899087\n"
          ],
          "name": "stdout"
        }
      ]
    }
  ]
}