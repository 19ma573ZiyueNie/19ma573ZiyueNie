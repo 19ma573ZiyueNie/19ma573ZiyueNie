{
  "nbformat": 4,
  "nbformat_minor": 0,
  "metadata": {
    "colab": {
      "name": "hw8_1.ipynb",
      "version": "0.3.2",
      "provenance": [],
      "include_colab_link": true
    },
    "kernelspec": {
      "name": "python3",
      "display_name": "Python 3"
    }
  },
  "cells": [
    {
      "cell_type": "markdown",
      "metadata": {
        "id": "view-in-github",
        "colab_type": "text"
      },
      "source": [
        "<a href=\"https://colab.research.google.com/github/ZiyueNie/19ma573ZiyueNie/blob/master/src/hw8_1.ipynb\" target=\"_parent\"><img src=\"https://colab.research.google.com/assets/colab-badge.svg\" alt=\"Open In Colab\"/></a>"
      ]
    },
    {
      "metadata": {
        "id": "MHNAZgo9kW_P",
        "colab_type": "text"
      },
      "cell_type": "markdown",
      "source": [
        "**1.Find characteristic function of $W_t$**\n",
        "<br>Since $W_t$ is a standard Brownian Motion, then we have $W_t\\sim \\mathcal N(0,t)$ \n",
        "$$\n",
        "\\begin{align*}\n",
        "\\phi_t(u)\n",
        "&=E[e^{iuW_t}] \\\\\n",
        "&=\\int^{\\infty}_{-\\infty}e^{iux}\\frac{1}{\\sqrt{2\\pi t}}e^{-\\frac{x^2}{2t}} dx \\\\\n",
        "&=\\frac{1}{\\sqrt{2\\pi t}}\\int^{\\infty}_{-\\infty}e^{-\\frac{(x-iut)^2}{2t}}e^{-\\frac{u^2t}{2}} dx \\\\\n",
        "&=e^{-\\frac{u^2t}{2}}\n",
        "\\end{align*}\n",
        "$$"
      ]
    },
    {
      "metadata": {
        "id": "0EXVs0ApsKVu",
        "colab_type": "text"
      },
      "cell_type": "markdown",
      "source": [
        "**2.Use the explicit formula to find BSM call price**"
      ]
    },
    {
      "metadata": {
        "id": "FKWUCDUbnv81",
        "colab_type": "code",
        "colab": {
          "base_uri": "https://localhost:8080/",
          "height": 140
        },
        "outputId": "ea055488-516f-48ed-ba70-bea1b3da0aba"
      },
      "cell_type": "code",
      "source": [
        "!git clone https://github.com/ZiyueNie/19ma573ZiyueNie"
      ],
      "execution_count": 1,
      "outputs": [
        {
          "output_type": "stream",
          "text": [
            "Cloning into '19ma573ZiyueNie'...\n",
            "remote: Enumerating objects: 119, done.\u001b[K\n",
            "remote: Counting objects: 100% (119/119), done.\u001b[K\n",
            "remote: Compressing objects: 100% (119/119), done.\u001b[K\n",
            "remote: Total 420 (delta 46), reused 0 (delta 0), pack-reused 301\u001b[K\n",
            "Receiving objects: 100% (420/420), 583.37 KiB | 2.35 MiB/s, done.\n",
            "Resolving deltas: 100% (168/168), done.\n"
          ],
          "name": "stdout"
        }
      ]
    },
    {
      "metadata": {
        "id": "7NU4Fxwmslo9",
        "colab_type": "code",
        "colab": {
          "base_uri": "https://localhost:8080/",
          "height": 34
        },
        "outputId": "b1191068-e691-41ef-ae53-d38bc2588a4a"
      },
      "cell_type": "code",
      "source": [
        "cd 19ma573ZiyueNie/src/"
      ],
      "execution_count": 2,
      "outputs": [
        {
          "output_type": "stream",
          "text": [
            "/content/19ma573ZiyueNie/src\n"
          ],
          "name": "stdout"
        }
      ]
    },
    {
      "metadata": {
        "id": "Z1YpMJwBsl1Q",
        "colab_type": "code",
        "colab": {}
      },
      "cell_type": "code",
      "source": [
        "import numpy as np\n",
        "import matplotlib.pyplot as plt\n",
        "import scipy.stats as ss\n",
        "import scipy.optimize as so\n",
        "import scipy.integrate as integrate\n",
        "from contract_v01 import VanillaOption\n",
        "from sde_1d_v01 import *\n"
      ],
      "execution_count": 0,
      "outputs": []
    },
    {
      "metadata": {
        "id": "vA6OH3sdsl_u",
        "colab_type": "code",
        "colab": {}
      },
      "cell_type": "code",
      "source": [
        "#paras \n",
        "S0=100\n",
        "r=0.0475\n",
        "sigma=0.2\n",
        "otype=1\n",
        "K=110\n",
        "T=1;"
      ],
      "execution_count": 0,
      "outputs": []
    },
    {
      "metadata": {
        "id": "T--BlKhAtXCt",
        "colab_type": "code",
        "colab": {
          "base_uri": "https://localhost:8080/",
          "height": 34
        },
        "outputId": "bb3f9c90-6c8f-4f43-b2ed-e872978e2431"
      },
      "cell_type": "code",
      "source": [
        "gbm=Gbm_1d(S0,r,sigma)\n",
        "vanillaoption=VanillaOption(otype,K,T)\n",
        "price=gbm.bsm_price(vanillaoption)\n",
        "print('BSM price of european call option is '+str(price))"
      ],
      "execution_count": 10,
      "outputs": [
        {
          "output_type": "stream",
          "text": [
            "BSM price of european call option is 5.943273183452838\n"
          ],
          "name": "stdout"
        }
      ]
    },
    {
      "metadata": {
        "id": "DYX77P8WwHpJ",
        "colab_type": "text"
      },
      "cell_type": "markdown",
      "source": [
        "**3.Use Fourier transform method to find out the same BSM call price**"
      ]
    },
    {
      "metadata": {
        "id": "fNLhl2IuqP5U",
        "colab_type": "text"
      },
      "cell_type": "markdown",
      "source": [
        "According to the reference by Chiu, we know that\n",
        "$$\n",
        "C = S_{0}I_{1} - Ke^{-rT}I_{2}\n",
        "$$\n",
        "where\n",
        "$$\n",
        "I_{1}=\\frac{1}{2} + \\frac{1}{\\pi}\\int_{0}^{\\infty}Re(\\frac{e^{-iu\\log(K/S_0)}\\phi(u-i)}{iu\\phi(-i)})du=\\frac{1}{2} + \\frac{1}{\\pi} \\int_{0}^{\\infty} \\frac{\\sin(d_{1}t)}{t}e^{-\\frac{t^{2}}{2}}dt\n",
        "$$\n",
        "\n",
        "$$\n",
        "I_{2}=\\frac{1}{2} + \\frac{1}{\\pi}\\int_{0}^{\\infty}Re(\\frac{e^{-iu\\log(K/S_0)}\\phi(u)}{iu})du=\\frac{1}{2} + \\frac{1}{\\pi} \\int_{0}^{\\infty}\\frac{\\sin (d_{2}t)}{t}e^{-\\frac{t^{2}}{2}}dt\n",
        "$$\n",
        "and\n",
        "$$d_{1} = \\frac{\\log(\\frac{S_{0}}{K}) + (r + \\frac{\\sigma^{2}}{2})T}{\\sigma\\sqrt{T}}$$\n",
        "\n",
        "$$d_{2} = \\frac{\\log(\\frac{S_0}{K})+(r-\\frac{\\sigma^{2}}{2})T}{\\sigma \\sqrt{T}}$$"
      ]
    },
    {
      "metadata": {
        "id": "DdfNOi-0wZ6q",
        "colab_type": "code",
        "colab": {
          "base_uri": "https://localhost:8080/",
          "height": 34
        },
        "outputId": "9c0cd0fc-acb8-40d3-db97-7b4ae52ac53f"
      },
      "cell_type": "code",
      "source": [
        "d1=(np.log(S0/K)+((r+((sigma**2)/2))*T))/(sigma*np.sqrt(T))\n",
        "d2=(np.log(S0/K)+((r-((sigma**2)/2))*T))/(sigma*np.sqrt(T))\n",
        "I1=0.5+(1/np.pi)*integrate.quad(lambda t: ((np.sin(d1*t))/t)*np.exp(-(t**2)/2),0,np.inf)[0]\n",
        "I2=0.5+(1/np.pi)*integrate.quad(lambda t: ((np.sin(d2*t))/t)*np.exp(-(t**2)/2),0,np.inf)[0]\n",
        "C=(S0*I1)-(K*(np.exp(-r*T))*I2)\n",
        "print('BSM call price by fourier transform is '+ str(C))"
      ],
      "execution_count": 15,
      "outputs": [
        {
          "output_type": "stream",
          "text": [
            "BSM call price by fourier transform is 5.943273183452845\n"
          ],
          "name": "stdout"
        }
      ]
    },
    {
      "metadata": {
        "id": "kwRTZipsyx5r",
        "colab_type": "code",
        "colab": {}
      },
      "cell_type": "code",
      "source": [
        ""
      ],
      "execution_count": 0,
      "outputs": []
    }
  ]
}