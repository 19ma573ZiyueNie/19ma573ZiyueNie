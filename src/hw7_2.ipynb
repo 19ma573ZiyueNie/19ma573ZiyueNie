{
  "nbformat": 4,
  "nbformat_minor": 0,
  "metadata": {
    "colab": {
      "name": "hw7_2.ipynb",
      "version": "0.3.2",
      "provenance": [],
      "include_colab_link": true
    },
    "kernelspec": {
      "name": "python3",
      "display_name": "Python 3"
    }
  },
  "cells": [
    {
      "cell_type": "markdown",
      "metadata": {
        "id": "view-in-github",
        "colab_type": "text"
      },
      "source": [
        "<a href=\"https://colab.research.google.com/github/ZiyueNie/19ma573ZiyueNie/blob/master/src/hw7_2.ipynb\" target=\"_parent\"><img src=\"https://colab.research.google.com/assets/colab-badge.svg\" alt=\"Open In Colab\"/></a>"
      ]
    },
    {
      "metadata": {
        "id": "kqbUG7uCHDlU",
        "colab_type": "code",
        "colab": {
          "base_uri": "https://localhost:8080/",
          "height": 140
        },
        "outputId": "c6494872-ce1a-47b4-b1ae-17094a4613f2"
      },
      "cell_type": "code",
      "source": [
        "!git clone https://github.com/ZiyueNie/19ma573ZiyueNie"
      ],
      "execution_count": 2,
      "outputs": [
        {
          "output_type": "stream",
          "text": [
            "Cloning into '19ma573ZiyueNie'...\n",
            "remote: Enumerating objects: 103, done.\u001b[K\n",
            "remote: Counting objects: 100% (103/103), done.\u001b[K\n",
            "remote: Compressing objects: 100% (103/103), done.\u001b[K\n",
            "remote: Total 404 (delta 39), reused 0 (delta 0), pack-reused 301\u001b[K\n",
            "Receiving objects: 100% (404/404), 555.16 KiB | 15.42 MiB/s, done.\n",
            "Resolving deltas: 100% (161/161), done.\n"
          ],
          "name": "stdout"
        }
      ]
    },
    {
      "metadata": {
        "id": "LUorldTkHINI",
        "colab_type": "code",
        "colab": {
          "base_uri": "https://localhost:8080/",
          "height": 34
        },
        "outputId": "4b181a8a-82f9-4ee4-e02e-5f9cc7951825"
      },
      "cell_type": "code",
      "source": [
        "cd 19ma573ZiyueNie/src/"
      ],
      "execution_count": 3,
      "outputs": [
        {
          "output_type": "stream",
          "text": [
            "/content/19ma573ZiyueNie/src\n"
          ],
          "name": "stdout"
        }
      ]
    },
    {
      "metadata": {
        "id": "qtwXV_PsHIVt",
        "colab_type": "code",
        "colab": {}
      },
      "cell_type": "code",
      "source": [
        "import numpy as np\n",
        "import matplotlib.pyplot as plt\n",
        "import scipy.stats as ss\n",
        "import scipy.optimize as so\n",
        "from contract_v01 import VanillaOption\n",
        "from sde_1d_v01 import *"
      ],
      "execution_count": 0,
      "outputs": []
    },
    {
      "metadata": {
        "id": "yvl5VmXOHIdy",
        "colab_type": "code",
        "colab": {}
      },
      "cell_type": "code",
      "source": [
        "def payoff(S,K,H):  # define knock in payoff\n",
        "  return 1000*(S[-1]>K)*(min(S)<H)"
      ],
      "execution_count": 0,
      "outputs": []
    },
    {
      "metadata": {
        "id": "_Z0CdR_nHIlz",
        "colab_type": "code",
        "colab": {}
      },
      "cell_type": "code",
      "source": [
        "n=1000\n",
        "T=0.25\n",
        "m=50\n",
        "def MC(n,m):\n",
        "  gbm=Gbm_1d(init_state =95., drift_ratio = .05, vol_ratio = .15)\n",
        "  #stock=[]\n",
        "  F=[]\n",
        "  for i in range(n):\n",
        "    t,w=BM_gen(0,0.25,m)\n",
        "    #stock.append(gbm.S_price(w,t))\n",
        "    stock=gbm.S_price(w,t)\n",
        "    F.append(payoff(stock,96,85))\n",
        "  F_average=np.mean(F)\n",
        "  return F_average"
      ],
      "execution_count": 0,
      "outputs": []
    },
    {
      "metadata": {
        "id": "l4OloSAeLmJ8",
        "colab_type": "code",
        "colab": {}
      },
      "cell_type": "code",
      "source": [
        "def Run(k):\n",
        "  F_=[]\n",
        "  for i in range(k):\n",
        "    F_.append(MC(1000,50))\n",
        "  return F_\n"
      ],
      "execution_count": 0,
      "outputs": []
    },
    {
      "metadata": {
        "id": "Cc9KsD72P5gY",
        "colab_type": "code",
        "colab": {}
      },
      "cell_type": "code",
      "source": [
        "F_new=Run(1000)\n",
        "F_new\n",
        "mean=np.mean(F_new)\n",
        "price=np.exp(-0.05*0.25)*mean\n",
        "MSE=np.mean((np.array(F_new)-mean)**2)\n",
        "price\n",
        "MSE\n",
        "print('Mean is %f'%mean)\n",
        "print('Price is %f' %Price)\n",
        "print('MSE is %f'%MSE)\n",
        "print('95%'+' CI is (%f,%f)'%(mean-1.96*np.sqrt(MSE),mean+1.96*np.sqrt(MSE)))"
      ],
      "execution_count": 0,
      "outputs": []
    },
    {
      "metadata": {
        "id": "EOYBHIiaiQfM",
        "colab_type": "code",
        "colab": {}
      },
      "cell_type": "code",
      "source": [
        ""
      ],
      "execution_count": 0,
      "outputs": []
    }
  ]
}