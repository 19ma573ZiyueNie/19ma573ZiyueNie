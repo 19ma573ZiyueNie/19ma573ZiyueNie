{
  "nbformat": 4,
  "nbformat_minor": 0,
  "metadata": {
    "colab": {
      "name": "hw7_1.ipynb",
      "version": "0.3.2",
      "provenance": [],
      "include_colab_link": true
    },
    "kernelspec": {
      "name": "python3",
      "display_name": "Python 3"
    }
  },
  "cells": [
    {
      "cell_type": "markdown",
      "metadata": {
        "id": "view-in-github",
        "colab_type": "text"
      },
      "source": [
        "<a href=\"https://colab.research.google.com/github/ZiyueNie/19ma573ZiyueNie/blob/master/src/hw7_1.ipynb\" target=\"_parent\"><img src=\"https://colab.research.google.com/assets/colab-badge.svg\" alt=\"Open In Colab\"/></a>"
      ]
    },
    {
      "metadata": {
        "id": "1VOeZ6OEFdn4",
        "colab_type": "code",
        "colab": {
          "base_uri": "https://localhost:8080/",
          "height": 34
        },
        "outputId": "abf32884-9f8d-45c4-cd86-3117f2ebaec5"
      },
      "cell_type": "code",
      "source": [
        "!git clone https://github.com/ZiyueNie/19ma573ZiyueNie"
      ],
      "execution_count": 1,
      "outputs": [
        {
          "output_type": "stream",
          "text": [
            "fatal: destination path '19ma573ZiyueNie' already exists and is not an empty directory.\n"
          ],
          "name": "stdout"
        }
      ]
    },
    {
      "metadata": {
        "id": "aBEeckInHcWz",
        "colab_type": "code",
        "colab": {
          "base_uri": "https://localhost:8080/",
          "height": 34
        },
        "outputId": "5d8b7b36-fe49-45fe-e104-443237abdeea"
      },
      "cell_type": "code",
      "source": [
        "cd 19ma573ZiyueNie/src/"
      ],
      "execution_count": 2,
      "outputs": [
        {
          "output_type": "stream",
          "text": [
            "/content/19ma573ZiyueNie/src\n"
          ],
          "name": "stdout"
        }
      ]
    },
    {
      "metadata": {
        "id": "cCahvvawHcr5",
        "colab_type": "code",
        "colab": {}
      },
      "cell_type": "code",
      "source": [
        "import numpy as np\n",
        "import matplotlib.pyplot as plt\n",
        "import scipy.stats as ss\n",
        "import scipy.optimize as so\n",
        "from contract_v01 import VanillaOption\n",
        "from sde_1d_v01 import *"
      ],
      "execution_count": 0,
      "outputs": []
    },
    {
      "metadata": {
        "id": "y4u2KOCjHh6P",
        "colab_type": "code",
        "colab": {}
      },
      "cell_type": "code",
      "source": [
        "def bsm_option_payoff_generators(num_step,num_paths):\n",
        "  gbm=Gbm_1d(init_state = 100., drift_ratio = .0475, vol_ratio = .2)\n",
        "  stock=[]\n",
        "  stock_payoff=[]\n",
        "  European_call_payoff=[]\n",
        "  Geometric_Asian_call_payoff=[]\n",
        "  Arithmetric_Asian_call_payoff=[]\n",
        "  for i in range(num_paths):\n",
        "    w,t=BM_gen(0.,1,num_step)\n",
        "    stock.append(gbm.S_price(w,t))\n",
        "  for s in stock:\n",
        "    stock_payoff.append(s[-1]-100)\n",
        "    vani_option=VanillaOption(1,110,1,10)\n",
        "    European_call_payoff.append(vani_option.payoff(s[-1]))\n",
        "    Geo_Asian_price=1\n",
        "    Arith_Asian_price=0\n",
        "    for i in s:\n",
        "      Geo_Asian_price=Geo_Asian_price*(i**(1/(num_step+1)))\n",
        "      Arith_Asian_price=Arith_Asian_price+i/(num_step+1)\n",
        "    Geometric_Asian_call_payoff.append(max(Geo_Asian_price-100,0))\n",
        "    Arithmetric_Asian_call_payoff.append(max(Arith_Asian_price-100,0))\n",
        "    \n",
        "  return stock_payoff, European_call_payoff, Geometric_Asian_call_payoff,Arithmetric_Asian_call_payoff"
      ],
      "execution_count": 0,
      "outputs": []
    },
    {
      "metadata": {
        "id": "-H_yWfuE2UfV",
        "colab_type": "code",
        "colab": {}
      },
      "cell_type": "code",
      "source": [
        "stk,ec,gac,aac=bsm_option_payoff_generators(4,100)\n"
      ],
      "execution_count": 0,
      "outputs": []
    },
    {
      "metadata": {
        "id": "XsJ_n0Ne51Eq",
        "colab_type": "code",
        "colab": {
          "base_uri": "https://localhost:8080/",
          "height": 1049
        },
        "outputId": "27df0f48-812e-4453-f86f-288d2eeff6c8"
      },
      "cell_type": "code",
      "source": [
        "plt.plot(aac,stk,'ro')\n",
        "plt.xlabel('aac')\n",
        "plt.ylabel('stk')\n",
        "plt.show()\n",
        "plt.plot(aac,ec,'ro')\n",
        "plt.xlabel('aac')\n",
        "plt.ylabel('ec')\n",
        "plt.show()\n",
        "plt.plot(aac,gac,'ro')\n",
        "plt.xlabel('aac')\n",
        "plt.ylabel('gac')\n",
        "plt.show()"
      ],
      "execution_count": 6,
      "outputs": [
        {
          "output_type": "display_data",
          "data": {
            "image/png": "[encoded data removed]",
            "text/plain": [
              "<Figure size 576x396 with 1 Axes>"
            ]
          },
          "metadata": {
            "tags": []
          }
        },
        {
          "output_type": "display_data",
          "data": {
            "image/png": "[encoded data removed]",
            "text/plain": [
              "<Figure size 576x396 with 1 Axes>"
            ]
          },
          "metadata": {
            "tags": []
          }
        },
        {
          "output_type": "display_data",
          "data": {
            "image/png": "[encoded data removed]",
            "text/plain": [
              "<Figure size 576x396 with 1 Axes>"
            ]
          },
          "metadata": {
            "tags": []
          }
        }
      ]
    },
    {
      "metadata": {
        "id": "imVVOYyy7Kow",
        "colab_type": "text"
      },
      "cell_type": "markdown",
      "source": [
        "gac is highly correlated to aac"
      ]
    },
    {
      "metadata": {
        "id": "aiJOR-7AMYoL",
        "colab_type": "code",
        "colab": {}
      },
      "cell_type": "code",
      "source": [
        ""
      ],
      "execution_count": 0,
      "outputs": []
    }
  ]
}