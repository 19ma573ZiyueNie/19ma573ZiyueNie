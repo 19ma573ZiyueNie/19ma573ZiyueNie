{
  "nbformat": 4,
  "nbformat_minor": 0,
  "metadata": {
    "colab": {
      "name": "hw7_1.ipynb",
      "version": "0.3.2",
      "provenance": [],
      "include_colab_link": true
    },
    "kernelspec": {
      "name": "python3",
      "display_name": "Python 3"
    }
  },
  "cells": [
    {
      "cell_type": "markdown",
      "metadata": {
        "id": "view-in-github",
        "colab_type": "text"
      },
      "source": [
        "<a href=\"https://colab.research.google.com/github/ZiyueNie/19ma573ZiyueNie/blob/master/src/hw7_1.ipynb\" target=\"_parent\"><img src=\"https://colab.research.google.com/assets/colab-badge.svg\" alt=\"Open In Colab\"/></a>"
      ]
    },
    {
      "metadata": {
        "id": "1VOeZ6OEFdn4",
        "colab_type": "code",
        "colab": {
          "base_uri": "https://localhost:8080/",
          "height": 140
        },
        "outputId": "a7a80d2d-bc00-4f6f-9d9a-a25b7ac681a8"
      },
      "cell_type": "code",
      "source": [
        "!git clone https://github.com/ZiyueNie/19ma573ZiyueNie"
      ],
      "execution_count": 1,
      "outputs": [
        {
          "output_type": "stream",
          "text": [
            "Cloning into '19ma573ZiyueNie'...\n",
            "remote: Enumerating objects: 99, done.\u001b[K\n",
            "remote: Counting objects: 100% (99/99), done.\u001b[K\n",
            "remote: Compressing objects: 100% (99/99), done.\u001b[K\n",
            "remote: Total 400 (delta 38), reused 0 (delta 0), pack-reused 301\u001b[K\n",
            "Receiving objects: 100% (400/400), 527.71 KiB | 2.09 MiB/s, done.\n",
            "Resolving deltas: 100% (160/160), done.\n"
          ],
          "name": "stdout"
        }
      ]
    },
    {
      "metadata": {
        "id": "aBEeckInHcWz",
        "colab_type": "code",
        "colab": {
          "base_uri": "https://localhost:8080/",
          "height": 34
        },
        "outputId": "6c0060df-592c-4147-9aea-3a6b575af9bd"
      },
      "cell_type": "code",
      "source": [
        "cd 19ma573ZiyueNie/src/"
      ],
      "execution_count": 2,
      "outputs": [
        {
          "output_type": "stream",
          "text": [
            "/content/19ma573ZiyueNie/src\n"
          ],
          "name": "stdout"
        }
      ]
    },
    {
      "metadata": {
        "id": "cCahvvawHcr5",
        "colab_type": "code",
        "colab": {}
      },
      "cell_type": "code",
      "source": [
        "import numpy as np\n",
        "import matplotlib.pyplot as plt\n",
        "import scipy.stats as ss\n",
        "import scipy.optimize as so\n",
        "from contract_v01 import VanillaOption\n",
        "from sde_1d_v01 import *"
      ],
      "execution_count": 0,
      "outputs": []
    },
    {
      "metadata": {
        "id": "y4u2KOCjHh6P",
        "colab_type": "code",
        "colab": {}
      },
      "cell_type": "code",
      "source": [
        "def bsm_option_payoff_generators(num_step,num_paths):\n",
        "  gbm=Gbm_1d(init_state = 100., drift_ratio = .0475, vol_ratio = .2)\n",
        "  stock=[]\n",
        "  stock_payoff=[]\n",
        "  European_call_payoff=[]\n",
        "  Geometric_Asian_call_payoff=[]\n",
        "  Arithmetric_Asian_call_payoff=[]\n",
        "  for i in range(num_paths):\n",
        "    t,w=BM_gen(0.,1,num_step)\n",
        "    stock.append(gbm.S_price(w,t))\n",
        "  for s in stock:\n",
        "    stock_payoff.append(s[-1]-100)\n",
        "    vani_option=VanillaOption(1,110,1,10)\n",
        "    European_call_payoff.append(vani_option.payoff(s[-1]))\n",
        "    Geo_Asian_price=1\n",
        "    Arith_Asian_price=0\n",
        "    for i in s:\n",
        "      Geo_Asian_price=Geo_Asian_price*(i**(1/(num_step+1)))\n",
        "      Arith_Asian_price=Arith_Asian_price+i/(num_step+1)\n",
        "    Geometric_Asian_call_payoff.append(max(Geo_Asian_price-100,0))\n",
        "    Arithmetric_Asian_call_payoff.append(max(Arith_Asian_price-100,0))\n",
        "    \n",
        "  return stock_payoff, European_call_payoff, Geometric_Asian_call_payoff,Arithmetric_Asian_call_payoff"
      ],
      "execution_count": 0,
      "outputs": []
    },
    {
      "metadata": {
        "id": "-H_yWfuE2UfV",
        "colab_type": "code",
        "colab": {}
      },
      "cell_type": "code",
      "source": [
        "stk,ec,gac,aac=bsm_option_payoff_generators(4,100)\n"
      ],
      "execution_count": 0,
      "outputs": []
    },
    {
      "metadata": {
        "id": "XsJ_n0Ne51Eq",
        "colab_type": "code",
        "colab": {
          "base_uri": "https://localhost:8080/",
          "height": 1049
        },
        "outputId": "fa7e1b7f-80db-47e8-801e-1920f5558bce"
      },
      "cell_type": "code",
      "source": [
        "plt.plot(aac,stk,'ro')\n",
        "plt.xlabel('aac')\n",
        "plt.ylabel('stk')\n",
        "plt.show()\n",
        "plt.plot(aac,ec,'ro')\n",
        "plt.xlabel('aac')\n",
        "plt.ylabel('ec')\n",
        "plt.show()\n",
        "plt.plot(aac,gac,'ro')\n",
        "plt.xlabel('aac')\n",
        "plt.ylabel('gac')\n",
        "plt.show()"
      ],
      "execution_count": 61,
      "outputs": [
        {
          "output_type": "display_data",
          "data": {
            "image/png": "[encoded data removed]",
            "text/plain": [
              "<Figure size 576x396 with 1 Axes>"
            ]
          },
          "metadata": {
            "tags": []
          }
        },
        {
          "output_type": "display_data",
          "data": {
            "image/png": "[encoded data removed]",
            "text/plain": [
              "<Figure size 576x396 with 1 Axes>"
            ]
          },
          "metadata": {
            "tags": []
          }
        },
        {
          "output_type": "display_data",
          "data": {
            "image/png": "[encoded data removed]",
            "text/plain": [
              "<Figure size 576x396 with 1 Axes>"
            ]
          },
          "metadata": {
            "tags": []
          }
        }
      ]
    },
    {
      "metadata": {
        "id": "imVVOYyy7Kow",
        "colab_type": "text"
      },
      "cell_type": "markdown",
      "source": [
        "gac is highly correlated to aac"
      ]
    },
    {
      "metadata": {
        "id": "aiJOR-7AMYoL",
        "colab_type": "code",
        "colab": {}
      },
      "cell_type": "code",
      "source": [
        ""
      ],
      "execution_count": 0,
      "outputs": []
    }
  ]
}