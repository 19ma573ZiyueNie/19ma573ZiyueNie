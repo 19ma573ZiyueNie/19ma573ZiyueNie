{
  "nbformat": 4,
  "nbformat_minor": 0,
  "metadata": {
    "colab": {
      "name": "hw6_1.ipynb",
      "version": "0.3.2",
      "provenance": [],
      "include_colab_link": true
    },
    "kernelspec": {
      "name": "python3",
      "display_name": "Python 3"
    }
  },
  "cells": [
    {
      "cell_type": "markdown",
      "metadata": {
        "id": "view-in-github",
        "colab_type": "text"
      },
      "source": [
        "<a href=\"https://colab.research.google.com/github/ZiyueNie/19ma573ZiyueNie/blob/master/src/hw6_1.ipynb\" target=\"_parent\"><img src=\"https://colab.research.google.com/assets/colab-badge.svg\" alt=\"Open In Colab\"/></a>"
      ]
    },
    {
      "metadata": {
        "id": "8NK7rthxub-0",
        "colab_type": "text"
      },
      "cell_type": "markdown",
      "source": [
        "Consider\n",
        "$$\\alpha=\\int_{0}^{1}h(x)dx$$\n",
        "where\n",
        "$$h(x) = 100\\cdot I_{(0,\\frac{1}{100}]}(x)+1\\cdot I_{(\\frac{1}{100},1)}(x)$$\n",
        "Generate\n",
        "$$\\{iid \\   Y_{i}\\sim U(0,1):i=1,2,...,n\\}$$\n",
        "\n",
        "Compute\n",
        "$$\\{iid\\   X_{i}=h(Y_i):i=1,2,...,n\\}$$"
      ]
    },
    {
      "metadata": {
        "id": "U2Y1jqoOuJGx",
        "colab_type": "code",
        "colab": {}
      },
      "cell_type": "code",
      "source": [
        "import numpy as np\n",
        "import matplotlib.pyplot as plt\n",
        "import scipy.stats as ss"
      ],
      "execution_count": 0,
      "outputs": []
    },
    {
      "metadata": {
        "id": "syHeW16OvMB1",
        "colab_type": "code",
        "outputId": "25e74dad-2d0e-4d74-df71-202b443854ef",
        "colab": {
          "base_uri": "https://localhost:8080/",
          "height": 35
        }
      },
      "cell_type": "code",
      "source": [
        "def h(y):\n",
        "  if y>0.01:\n",
        "   return 1\n",
        "  else:\n",
        "   return 100\n",
        "  \n",
        "def omc_integral(n):\n",
        "  Y=np.random.uniform(0,1,n)\n",
        "  X=[]\n",
        "  for Y_i in Y:\n",
        "    X.append(h(Y_i))\n",
        "  X_ave=np.mean(X)\n",
        "  return X_ave\n",
        "#g=omc_integral(10000)\n",
        "#print(g)\n",
        "\n"
      ],
      "execution_count": 0,
      "outputs": [
        {
          "output_type": "stream",
          "text": [
            "2.1781\n"
          ],
          "name": "stdout"
        }
      ]
    },
    {
      "metadata": {
        "id": "WR1gMinO5gGJ",
        "colab_type": "code",
        "outputId": "c0afa392-3531-4cb0-e451-57210134894f",
        "colab": {
          "base_uri": "https://localhost:8080/",
          "height": 104
        }
      },
      "cell_type": "code",
      "source": [
        "\n",
        "m=100 #fix m =100\n",
        "alpha_ij=[]\n",
        "for i in range(5,10):\n",
        "  alpha_i=[]\n",
        "  for j in range(m): #run m times of omc_integral(n=2^i)\n",
        "    alpha_i.append(omc_integral(2**i))\n",
        "  alpha_ij.append(alpha_i) #store it into alpha_ij\n",
        "#Compute standard deviation of alpha_ij, save it to sigma_i\n",
        "sigma_i=[]\n",
        "for alpha_i in alpha_ij:\n",
        "  sigma_i.append(np.std(alpha_i))\n"
      ],
      "execution_count": 0,
      "outputs": [
        {
          "output_type": "execute_result",
          "data": {
            "text/plain": [
              "[1.7661492308037703,\n",
              " 1.292265707654462,\n",
              " 0.9240878995230497,\n",
              " 0.7324722638916817,\n",
              " 0.42299324452301756]"
            ]
          },
          "metadata": {
            "tags": []
          },
          "execution_count": 10
        }
      ]
    },
    {
      "metadata": {
        "id": "GZfRBeLy8fkA",
        "colab_type": "code",
        "outputId": "9299c71c-b8f6-487d-e5a5-da75736abc2b",
        "colab": {
          "base_uri": "https://localhost:8080/",
          "height": 365
        }
      },
      "cell_type": "code",
      "source": [
        "xx=[i for i in range(5,10)]\n",
        "yy=-np.log2(sigma_i) #RMSE\n",
        "plt.plot(xx,yy)\n",
        "out = ss.linregress(xx,yy)\n",
        "print('----->>>the convergence order is ' + str(out[0]))"
      ],
      "execution_count": 0,
      "outputs": [
        {
          "output_type": "stream",
          "text": [
            "----->>>the convergence order is 0.49428581441782243\n"
          ],
          "name": "stdout"
        },
        {
          "output_type": "display_data",
          "data": {
            "image/png": "[encoded data removed]",
            "text/plain": [
              "<Figure size 576x396 with 1 Axes>"
            ]
          },
          "metadata": {
            "tags": []
          }
        }
      ]
    },
    {
      "metadata": {
        "id": "PzodXb1svMus",
        "colab_type": "text"
      },
      "cell_type": "markdown",
      "source": [
        ""
      ]
    }
  ]
}