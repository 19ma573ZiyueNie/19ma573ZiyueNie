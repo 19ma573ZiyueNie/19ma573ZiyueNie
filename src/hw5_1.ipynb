{
  "nbformat": 4,
  "nbformat_minor": 0,
  "metadata": {
    "colab": {
      "name": "hw5_1.ipynb",
      "version": "0.3.2",
      "provenance": [],
      "include_colab_link": true
    },
    "kernelspec": {
      "name": "python3",
      "display_name": "Python 3"
    }
  },
  "cells": [
    {
      "cell_type": "markdown",
      "metadata": {
        "id": "view-in-github",
        "colab_type": "text"
      },
      "source": [
        "<a href=\"https://colab.research.google.com/github/ZiyueNie/19ma573ZiyueNie/blob/master/src/hw5_1.ipynb\" target=\"_parent\"><img src=\"https://colab.research.google.com/assets/colab-badge.svg\" alt=\"Open In Colab\"/></a>"
      ]
    },
    {
      "metadata": {
        "id": "E2kxGLrB4zIC",
        "colab_type": "text"
      },
      "cell_type": "markdown",
      "source": [
        "Given i.i.d $\\{\\alpha_i: i\\in 1, 2, \\ldots, N\\}$, we use \n",
        "$$\\bar \\alpha = \\frac 1 N \\sum_{i=1}^N \\alpha_i$$\n",
        "as its estimator of the mean $\\mathbb E[\\alpha_1]$ \n",
        "and \n",
        "$$\\beta_N = \\frac 1 N \\sum_{i=1}^N (\\alpha_i -\\bar \\alpha)^2$$\n",
        "as the estimator of $Var(\\alpha_1)$.\n",
        "\n",
        "\n",
        "Suppose $\\alpha_1\\in L^2$, then \n",
        "- Prove $\\beta_N$ is biased.\n",
        "- Prove that $\\beta_N$ is consistent in $L^2$.\n",
        "- Can you propose an unbiased estimator?\n"
      ]
    },
    {
      "metadata": {
        "id": "xlqO_PvMhp6a",
        "colab_type": "text"
      },
      "cell_type": "markdown",
      "source": [
        "# **Proof**\n"
      ]
    },
    {
      "metadata": {
        "id": "2h2en2GEh4CN",
        "colab_type": "text"
      },
      "cell_type": "markdown",
      "source": [
        " **(1)** "
      ]
    },
    {
      "metadata": {
        "id": "1K6Z1ADKiBit",
        "colab_type": "text"
      },
      "cell_type": "markdown",
      "source": [
        "To prove $\\beta_N$ is biased, we need to show  $E[\\beta_N] \\neq Var(\\alpha_1) $,    let $E[\\alpha_1]=\\mu$\n",
        "\n",
        "<br>Since$$\n",
        "\\begin{align*}\n",
        "& E[\\beta_N]= E[\\frac 1 N \\sum_{i=1}^N (\\alpha_i -\\bar \\alpha)^2]         \\\\\n",
        "&=E[\\frac 1 N \\sum_{i=1}^N ((\\alpha_i -\\mu)-(\\bar \\alpha-\\mu))^2] \\\\\n",
        "&=E[\\frac 1 N \\sum_{i=1}^N ((\\alpha_i -\\mu)^2+(\\bar \\alpha-\\mu)^2-2(\\alpha_i -\\mu)(\\bar \\alpha-\\mu))]  \\qquad (1)\n",
        "\\end{align*}  $$\n",
        "since $$\n",
        "\\begin{align*}\n",
        "& \\quad E[\\frac 1 N \\sum_{i=1}^N (\\alpha_i -\\mu)] \\\\\n",
        "&=E[(\\frac 1 N \\sum_{i=1}^N \\alpha_i) -\\mu] \\\\\n",
        "&=E[\\bar \\alpha-\\mu]\n",
        "\\end{align*} $$ \n",
        "<br>\n",
        "then $$\n",
        "\\begin{align*} \n",
        "& (1)= E[\\frac 1 N \\sum_{i=1}^N (\\alpha_i -\\mu)^2]+E[\\frac 1 N \\sum_{i=1}^N (\\bar \\alpha -\\mu)^2]- E[\\frac 2 N \\sum_{i=1}^N (\\bar \\alpha -\\mu)^2]     \\\\\n",
        "&\\quad =E[\\frac 1 N \\sum_{i=1}^N (\\alpha_i -\\mu)^2]-E[\\frac 1 N \\sum_{i=1}^N (\\bar \\alpha -\\mu)^2]  \\\\\n",
        "&\\quad =E[\\frac 1 N \\sum_{i=1}^N (\\alpha_i -\\mu)^2]-E[(\\bar \\alpha -\\mu)^2]  \\\\\n",
        "&\\quad =Var(\\alpha_1)-Var(\\bar \\alpha) \\\\\n",
        "&\\quad =Var(\\alpha_1)-Var(\\frac 1 N \\sum_{i=1}^N\\alpha_i) \\\\\n",
        "&\\quad =Var(\\alpha_1)-\\frac {1}{N^2}\\sum_{i=1}^NVar(\\alpha_i) \\\\\n",
        "&\\quad =Var(\\alpha_1)-\\frac {1}{N}Var(\\alpha_1) \\\\\n",
        "&\\quad =\\frac {N-1}{N}Var(\\alpha_1) \\\\\n",
        "&\\quad\\neq Var(\\alpha_1)\n",
        "\\end{align*} $$\n",
        "<br>\n",
        "therefore,  $\\beta_N$ is biased"
      ]
    },
    {
      "metadata": {
        "id": "LzTb4KRAsOts",
        "colab_type": "text"
      },
      "cell_type": "markdown",
      "source": [
        "**(2)**"
      ]
    },
    {
      "metadata": {
        "id": "b_kzz3u8zypB",
        "colab_type": "text"
      },
      "cell_type": "markdown",
      "source": [
        "\\begin{align*}\n",
        "& \\quad E[|\\beta_N-\\sigma^2|^2]\\\\\n",
        "&=E[\\beta_N^2+\\sigma^4-2\\beta_N\\sigma^2] \\\\\n",
        "&=E^2[\\beta_N]+\\sigma^4-2\\sigma^2E[\\beta_N] \\\\\n",
        "&=(\\frac{N-1}{N})^2\\sigma^4+Var(\\beta_N)+\\sigma^4-\\frac{2(N-1)}{N}\\sigma^4 \\qquad(1)\\\\\n",
        "\\end{align*}  \n",
        "When $\\alpha_1,\\alpha_2,\\alpha_3...\\sim N(\\mu,\\sigma^2)$, then \n",
        "<br> $$\n",
        "\\begin{align*} \n",
        "& N\\beta_N=\\sum_{i=1}^N (\\alpha_i -\\bar \\alpha)^2 \\\\\n",
        "& \\qquad=\\sum_{i=1}^N \\alpha_i^2-n\\bar\\alpha^2 \\\\\n",
        "&\\qquad=\\sum_{i=1}^N y_i^2-y_1^2\\\\\n",
        "&\\qquad=\\sum_{i=2}^N y_i^2\\\\\n",
        "\\end{align*}  $$\n",
        "so $$\\frac{N\\beta_N}{\\sigma^2}=\\sum_{i=2}^N(\\frac{y_i}{\\sigma})^2 \\sim \\chi^2(N-1)$$\n",
        "$$Var(\\frac{N\\beta_N}{\\sigma^2})=2(N-1)$$\n",
        "$$Var(\\beta_N)=\\frac{2(N-1)}{N^2}\\sigma^4 \\to0$$\n",
        "<br>\n",
        "then, $(1)\\to 0$, therefore, $\\beta_N$ is consistent in $L^2$"
      ]
    },
    {
      "metadata": {
        "id": "EsS8IYYKsn12",
        "colab_type": "text"
      },
      "cell_type": "markdown",
      "source": [
        "**(3)**"
      ]
    },
    {
      "metadata": {
        "id": "DJWFUNtA0pgw",
        "colab_type": "text"
      },
      "cell_type": "markdown",
      "source": [
        "Since $$E[\\beta_N] =\\frac {N-1}{N}Var(\\alpha_1)$$\n",
        "<br>\n",
        "Let $$ \\quad \\qquad \\hat \\beta_N=\\frac {N}{N-1}\\beta_N=\\frac {1}{N-1} \\sum_{i=1}^N (\\alpha_i -\\bar \\alpha)^2$$ \n",
        "<br>\n",
        "then we have $$ \\quad E[\\hat \\beta_N]=\\frac {N}{N-1}E[\\beta_N]=Var(\\alpha_1)$$\n",
        "<br>\n",
        "therefore, $\\hat \\beta_N$ is an unbiased estimator."
      ]
    }
  ]
}