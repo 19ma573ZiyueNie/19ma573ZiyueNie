{
  "nbformat": 4,
  "nbformat_minor": 0,
  "metadata": {
    "colab": {
      "name": "hw11_1.ipynb",
      "version": "0.3.2",
      "provenance": [],
      "include_colab_link": true
    },
    "kernelspec": {
      "name": "python3",
      "display_name": "Python 3"
    }
  },
  "cells": [
    {
      "cell_type": "markdown",
      "metadata": {
        "id": "view-in-github",
        "colab_type": "text"
      },
      "source": [
        "<a href=\"https://colab.research.google.com/github/ZiyueNie/19ma573ZiyueNie/blob/master/src/hw11_1.ipynb\" target=\"_parent\"><img src=\"https://colab.research.google.com/assets/colab-badge.svg\" alt=\"Open In Colab\"/></a>"
      ]
    },
    {
      "metadata": {
        "id": "C8LoVqTcl9M3",
        "colab_type": "code",
        "colab": {
          "base_uri": "https://localhost:8080/",
          "height": 140
        },
        "outputId": "bd01828c-8db5-4bd3-94cd-dbabc98039e2"
      },
      "cell_type": "code",
      "source": [
        "!git clone https://github.com/ZiyueNie/19ma573ZiyueNie"
      ],
      "execution_count": 1,
      "outputs": [
        {
          "output_type": "stream",
          "text": [
            "Cloning into '19ma573ZiyueNie'...\n",
            "remote: Enumerating objects: 179, done.\u001b[K\n",
            "remote: Counting objects: 100% (179/179), done.\u001b[K\n",
            "remote: Compressing objects: 100% (179/179), done.\u001b[K\n",
            "remote: Total 480 (delta 68), reused 0 (delta 0), pack-reused 301\u001b[K\n",
            "Receiving objects: 100% (480/480), 767.28 KiB | 3.06 MiB/s, done.\n",
            "Resolving deltas: 100% (190/190), done.\n"
          ],
          "name": "stdout"
        }
      ]
    },
    {
      "metadata": {
        "id": "rOi-85N4mXgQ",
        "colab_type": "code",
        "colab": {
          "base_uri": "https://localhost:8080/",
          "height": 34
        },
        "outputId": "1d049c63-bf1f-46da-ef41-aca87944f742"
      },
      "cell_type": "code",
      "source": [
        "cd 19ma573ZiyueNie/src/"
      ],
      "execution_count": 2,
      "outputs": [
        {
          "output_type": "stream",
          "text": [
            "/content/19ma573ZiyueNie/src\n"
          ],
          "name": "stdout"
        }
      ]
    },
    {
      "metadata": {
        "id": "tB3a8tRLmXoh",
        "colab_type": "code",
        "colab": {}
      },
      "cell_type": "code",
      "source": [
        "import numpy as np\n",
        "import matplotlib.pyplot as plt\n",
        "import scipy.stats as ss\n",
        "import scipy.optimize as so\n",
        "from contract_v01 import VanillaOption\n",
        "from sde_1d_v01 import *"
      ],
      "execution_count": 0,
      "outputs": []
    },
    {
      "metadata": {
        "id": "ebzop-3rmmFP",
        "colab_type": "code",
        "colab": {
          "base_uri": "https://localhost:8080/",
          "height": 34
        },
        "outputId": "cd027dda-e5cb-41b3-94f4-691ca3f5ba4e"
      },
      "cell_type": "code",
      "source": [
        "S0=100\n",
        "r=0.05\n",
        "sigma=0.2\n",
        "otype=1\n",
        "K=100\n",
        "T=1\n",
        "gbm=Gbm_1d(init_state =S0, drift_ratio =r, vol_ratio =sigma)\n",
        "option=VanillaOption(otype=otype,strike=strike,maturity=T)\n",
        "BSM=gbm.bsm_price(option)\n",
        "print(BSM)\n"
      ],
      "execution_count": 67,
      "outputs": [
        {
          "output_type": "stream",
          "text": [
            "10.450583572185565\n"
          ],
          "name": "stdout"
        }
      ]
    },
    {
      "metadata": {
        "id": "HdaxjKhr-6Ve",
        "colab_type": "text"
      },
      "cell_type": "markdown",
      "source": [
        "BTCS:\n",
        "$$u_{j}^{n-1} = pu_{j+1}^{n} + (1-p)u_{j-1}^{n}$$\n",
        "with$$p  =\\frac{1 + \\hat r \\sqrt{\\Delta t}}{2\\sigma}$$\n",
        "$$\\hat r = r - \\frac{1}{2}\\sigma^{2}$$\n",
        "CRR model:\n",
        "$$V_T(j)=max \\lbrace S_T-K,0 \\rbrace$$\n",
        "$$V_{n-1}(j)=\\frac{1}{1+r}(\\hat p V_{n}(j+1)+\\hat q V_{n}(j) ) \\quad 0<n \\le T$$\n",
        "$$\\hat p =\\frac{e^{r\\Delta t}-e^{-\\sigma \\sqrt{\\Delta t} }}{e^{\\sigma \\sqrt{\\Delta t} }-e^{-\\sigma \\sqrt{\\Delta t} }}$$ $$\\hat q=1-\\hat p$$\n",
        "since$$\\hat p=\\frac{1+r-d}{u-d}$$\n",
        "so $$u=e^{\\sigma \\sqrt{\\Delta t} }=e^{\\Delta x }$$\n",
        "$$d=e^{-\\Delta x }$$\n",
        "$$1+r=e^{r\\Delta t}$$\n",
        "$$S_T=S_0*u^j*d^{N-j}$$\n"
      ]
    },
    {
      "metadata": {
        "id": "1rGmhyt_Hqg8",
        "colab_type": "code",
        "colab": {}
      },
      "cell_type": "code",
      "source": [
        "def CRR(N):\n",
        "  dt=T/N\n",
        "  dx=sigma*np.sqrt(dt)\n",
        "  u=np.exp(dx)\n",
        "  d=1/(u)\n",
        "  p_hat=(np.exp(r*dt)-d)/(u-d)\n",
        "  V_N=np.zeros(N+1)\n",
        "  \n",
        "  for j in range(N+1):\n",
        "    V_N[j]=max(S0*u**j*d**(N-j)-K,0)\n",
        "  n=N\n",
        "  V_n=np.zeros(N+1)\n",
        "  while n >0:\n",
        "    for j in range(n):\n",
        "      V_n[j]=np.exp(-r*dt)*(p_hat*V_N[j+1]+(1-p_hat)*V_N[j]) #p_hat from tree model\n",
        "    n=n-1\n",
        "    V_N=V_n\n",
        "  \n",
        "  return V_N[0]"
      ],
      "execution_count": 0,
      "outputs": []
    },
    {
      "metadata": {
        "id": "GiIAZVxspCAE",
        "colab_type": "code",
        "colab": {
          "base_uri": "https://localhost:8080/",
          "height": 34
        },
        "outputId": "8cf2cc68-7c90-4c3c-e35b-dd7d5330c47d"
      },
      "cell_type": "code",
      "source": [
        "print(CRR(2000))\n"
      ],
      "execution_count": 49,
      "outputs": [
        {
          "output_type": "stream",
          "text": [
            "10.449583775457942\n"
          ],
          "name": "stdout"
        }
      ]
    },
    {
      "metadata": {
        "id": "3tpZP72GSdxE",
        "colab_type": "code",
        "colab": {}
      },
      "cell_type": "code",
      "source": [
        "def CRR_btcs(N):\n",
        "  dt=T/N\n",
        "  dx=sigma*np.sqrt(dt)\n",
        "  u=np.exp(dx)\n",
        "  d=1/(u)\n",
        "  r_hat = r-0.5*(sigma**2)\n",
        "  p=(sigma+(r_hat*np.sqrt(dt)))/(2*sigma)\n",
        "  V_N=np.zeros(N+1)\n",
        "  \n",
        "  for j in range(N+1):\n",
        "    V_N[j]=max(S0*u**j*d**(N-j)-K,0)\n",
        "  n=N\n",
        "  V_n=np.zeros(N+1)\n",
        "  while n >0:\n",
        "    for j in range(n):\n",
        "      V_n[j]=np.exp(-r*dt)*(p*V_N[j+1]+(1-p)*V_N[j]) #p from btcs\n",
        "    n=n-1\n",
        "    V_N=V_n\n",
        "  \n",
        "  return V_N[0]"
      ],
      "execution_count": 0,
      "outputs": []
    },
    {
      "metadata": {
        "id": "1oIA9vwdTJ6v",
        "colab_type": "code",
        "colab": {
          "base_uri": "https://localhost:8080/",
          "height": 34
        },
        "outputId": "0c40d6ac-1bd8-49d0-93c4-887079f1ac24"
      },
      "cell_type": "code",
      "source": [
        "print(CRR_btcs(2000))"
      ],
      "execution_count": 51,
      "outputs": [
        {
          "output_type": "stream",
          "text": [
            "10.44955246588764\n"
          ],
          "name": "stdout"
        }
      ]
    },
    {
      "metadata": {
        "id": "3hTy_5eOL1EM",
        "colab_type": "code",
        "colab": {
          "base_uri": "https://localhost:8080/",
          "height": 287
        },
        "outputId": "80b19521-eea7-443f-d902-2c4a5604a9f9"
      },
      "cell_type": "code",
      "source": [
        "k=np.linspace(0,49,50)\n",
        "crr_20=[]\n",
        "crr_25=[]\n",
        "bsm=[]\n",
        "for i in range(0,50):\n",
        "  crr_20.append(CRR(10+20*i))\n",
        "  crr_25.append(CRR(10+25*i))\n",
        "  bsm.append(BSM)\n",
        "plt.plot(k,crr_20)\n",
        "plt.plot(k,crr_25)\n",
        "plt.plot(k,bsm)\n",
        "plt.legend([\"N=10+20k\", \"N=10+25k\", \"BSM Price\"])\n"
      ],
      "execution_count": 70,
      "outputs": [
        {
          "output_type": "execute_result",
          "data": {
            "text/plain": [
              "<matplotlib.legend.Legend at 0x7fd23aa029e8>"
            ]
          },
          "metadata": {
            "tags": []
          },
          "execution_count": 70
        },
        {
          "output_type": "display_data",
          "data": {
            "image/png": "[encoded data removed]",
            "text/plain": [
              "<Figure size 432x288 with 1 Axes>"
            ]
          },
          "metadata": {
            "tags": []
          }
        }
      ]
    },
    {
      "metadata": {
        "id": "vbDoEvSGfufq",
        "colab_type": "text"
      },
      "cell_type": "markdown",
      "source": [
        "From the graph,we can see N=10+20K converges smoothly ,N=10+25K vibrates in a decreasing amplitude but still converge to the BSM price. "
      ]
    },
    {
      "metadata": {
        "id": "_EmzU0_FPyka",
        "colab_type": "code",
        "colab": {}
      },
      "cell_type": "code",
      "source": [
        ""
      ],
      "execution_count": 0,
      "outputs": []
    }
  ]
}