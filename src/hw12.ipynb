{
  "nbformat": 4,
  "nbformat_minor": 0,
  "metadata": {
    "colab": {
      "name": "hw12.ipynb",
      "version": "0.3.2",
      "provenance": [],
      "include_colab_link": true
    },
    "kernelspec": {
      "name": "python3",
      "display_name": "Python 3"
    }
  },
  "cells": [
    {
      "cell_type": "markdown",
      "metadata": {
        "id": "view-in-github",
        "colab_type": "text"
      },
      "source": [
        "<a href=\"https://colab.research.google.com/github/ZiyueNie/19ma573ZiyueNie/blob/master/src/hw12.ipynb\" target=\"_parent\"><img src=\"https://colab.research.google.com/assets/colab-badge.svg\" alt=\"Open In Colab\"/></a>"
      ]
    },
    {
      "metadata": {
        "id": "ZBwDdi-bX83W",
        "colab_type": "text"
      },
      "cell_type": "markdown",
      "source": [
        "Asset\n",
        "$$S_t=S_0e^{\\hat \\mu t+\\sigma W_t}$$\n",
        "Option payoff(Digital put)\n",
        "$$h(S_T)=I(S_T<S_0e^{-b})$$\n",
        "Forward price\n",
        "$$V=E^Q[h(S_T)]$$\n",
        "Paras $$ r=0.03, \\quad \\sigma=0.2$$ $$\\hat \\mu=r-\\frac{\\sigma ^2}{2}=0.01$$ $$T=1,\\quad b=0.39$$\n",
        "Exact price\n",
        "$$V=E^Q[I(S_T<S_0e^{-b})]=E^Q[I(W_1<-2)]=Q(W_1<-2)=0.02275$$"
      ]
    },
    {
      "metadata": {
        "id": "btFmNWz5aqq3",
        "colab_type": "text"
      },
      "cell_type": "markdown",
      "source": [
        "OMC by exact sampling\n",
        "$$V\\sim \\hat V_{10}=\\frac{1}{10}\\sum _{i=1} ^{10}I(Z_i<-2)$$, where $Z_i\\sim \\mathcal N(0,1), iid$"
      ]
    },
    {
      "metadata": {
        "id": "tYONxPlmX7IB",
        "colab_type": "code",
        "colab": {}
      },
      "cell_type": "code",
      "source": [
        ""
      ],
      "execution_count": 0,
      "outputs": []
    }
  ]
}