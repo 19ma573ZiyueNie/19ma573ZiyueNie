{
  "nbformat": 4,
  "nbformat_minor": 0,
  "metadata": {
    "colab": {
      "name": "hw12.ipynb",
      "version": "0.3.2",
      "provenance": [],
      "include_colab_link": true
    },
    "kernelspec": {
      "name": "python3",
      "display_name": "Python 3"
    }
  },
  "cells": [
    {
      "cell_type": "markdown",
      "metadata": {
        "id": "view-in-github",
        "colab_type": "text"
      },
      "source": [
        "<a href=\"https://colab.research.google.com/github/ZiyueNie/19ma573ZiyueNie/blob/master/src/hw12.ipynb\" target=\"_parent\"><img src=\"https://colab.research.google.com/assets/colab-badge.svg\" alt=\"Open In Colab\"/></a>"
      ]
    },
    {
      "metadata": {
        "id": "ZBwDdi-bX83W",
        "colab_type": "text"
      },
      "cell_type": "markdown",
      "source": [
        "Asset\n",
        "$$S_t=S_0e^{\\hat \\mu t+\\sigma W_t}$$\n",
        "Option payoff(Digital put)\n",
        "$$h(S_T)=I(S_T<S_0e^{-b})$$\n",
        "Forward price\n",
        "$$V=E^Q[h(S_T)]$$\n",
        "Paras $$ r=0.03, \\quad \\sigma=0.2$$ $$\\hat \\mu=r-\\frac{\\sigma ^2}{2}=0.01$$ $$T=1,\\quad b=0.39$$\n",
        "Exact price\n",
        "$$V=E^Q[I(S_T<S_0e^{-b})]=E^Q[I(W_1<-2)]=Q(W_1<-2)=0.02275$$"
      ]
    },
    {
      "metadata": {
        "id": "btFmNWz5aqq3",
        "colab_type": "text"
      },
      "cell_type": "markdown",
      "source": [
        "OMC by exact sampling\n",
        "$$V\\sim \\hat V_{10}=\\frac{1}{10}\\sum _{i=1} ^{10}I(Z_i<-2)$$, where $Z_i\\sim \\mathcal N(0,1), iid$"
      ]
    },
    {
      "metadata": {
        "id": "tYONxPlmX7IB",
        "colab_type": "code",
        "colab": {}
      },
      "cell_type": "code",
      "source": [
        "import numpy as np\n",
        "from scipy.optimize import fmin"
      ],
      "execution_count": 0,
      "outputs": []
    },
    {
      "metadata": {
        "id": "QbhT5CDaYku_",
        "colab_type": "text"
      },
      "cell_type": "markdown",
      "source": [
        "1.Find $E[\\hat V_{10}^2  ]$ for OMC"
      ]
    },
    {
      "metadata": {
        "id": "NY4NKQaRYc-H",
        "colab_type": "code",
        "colab": {}
      },
      "cell_type": "code",
      "source": [
        "def omc(n):\n",
        "  V_10_square=[]\n",
        "  for j in range(n):\n",
        "    V_10=0\n",
        "    for i in range(10):\n",
        "      z=np.random.normal(0,1)\n",
        "      if z<-2:\n",
        "        V_10=V_10+1/10\n",
        "    V_10_square.append(V_10**2)\n",
        "  return np.mean(V_10_square)\n",
        " \n",
        "  \n"
      ],
      "execution_count": 0,
      "outputs": []
    },
    {
      "metadata": {
        "id": "tyQWfWgMhK8N",
        "colab_type": "code",
        "colab": {
          "base_uri": "https://localhost:8080/",
          "height": 34
        },
        "outputId": "b38eff22-0b8d-44a5-8100-c9726e178db3"
      },
      "cell_type": "code",
      "source": [
        "omc(1000)\n",
        "\n"
      ],
      "execution_count": 26,
      "outputs": [
        {
          "output_type": "execute_result",
          "data": {
            "text/plain": [
              "0.0027320000000000005"
            ]
          },
          "metadata": {
            "tags": []
          },
          "execution_count": 26
        }
      ]
    },
    {
      "metadata": {
        "id": "N7YydQWQjz8p",
        "colab_type": "text"
      },
      "cell_type": "markdown",
      "source": [
        "2.Find  $E[\\hat V_{10}^2  ]$ for important sampling"
      ]
    },
    {
      "metadata": {
        "id": "0b62_UwvlkTg",
        "colab_type": "code",
        "colab": {}
      },
      "cell_type": "code",
      "source": [
        "def IS(n,b):\n",
        "  V_10_square=[]\n",
        "  for j in range(n):\n",
        "    V_10=0\n",
        "    for i in range(10):\n",
        "      x=np.random.normal(-b,1)\n",
        "      if x<-2:\n",
        "        V_10=V_10+np.exp(x*b)/10\n",
        "    V_10_square.append((V_10*np.exp(b**2/2))**2)\n",
        "  return np.mean(V_10_square)\n",
        "  \n",
        "    "
      ],
      "execution_count": 0,
      "outputs": []
    },
    {
      "metadata": {
        "id": "E7U7eMBidDGP",
        "colab_type": "code",
        "colab": {
          "base_uri": "https://localhost:8080/",
          "height": 34
        },
        "outputId": "1b42db2c-9d86-472d-fc4c-d09dbb8b3d14"
      },
      "cell_type": "code",
      "source": [
        "IS(1000,2)"
      ],
      "execution_count": 37,
      "outputs": [
        {
          "output_type": "execute_result",
          "data": {
            "text/plain": [
              "0.00065511850773885"
            ]
          },
          "metadata": {
            "tags": []
          },
          "execution_count": 37
        }
      ]
    },
    {
      "metadata": {
        "id": "YaVFTYUGpoCK",
        "colab_type": "code",
        "colab": {}
      },
      "cell_type": "code",
      "source": [
        "def error(n,b):\n",
        "  return np.abs(IS(n,b)-0.02275)"
      ],
      "execution_count": 0,
      "outputs": []
    },
    {
      "metadata": {
        "id": "QSTsoGPrdEu5",
        "colab_type": "code",
        "colab": {}
      },
      "cell_type": "code",
      "source": [
        "#min_b=fmin(error,2,args=(1000))[0]"
      ],
      "execution_count": 0,
      "outputs": []
    },
    {
      "metadata": {
        "id": "OLBTZuMlqcF0",
        "colab_type": "code",
        "colab": {}
      },
      "cell_type": "code",
      "source": [
        ""
      ],
      "execution_count": 0,
      "outputs": []
    }
  ]
}