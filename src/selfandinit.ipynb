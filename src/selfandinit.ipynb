{
  "nbformat": 4,
  "nbformat_minor": 0,
  "metadata": {
    "colab": {
      "name": "selfandinit.ipynb",
      "version": "0.3.2",
      "provenance": [],
      "include_colab_link": true
    },
    "kernelspec": {
      "name": "python3",
      "display_name": "Python 3"
    }
  },
  "cells": [
    {
      "cell_type": "markdown",
      "metadata": {
        "id": "view-in-github",
        "colab_type": "text"
      },
      "source": [
        "<a href=\"https://colab.research.google.com/github/ZiyueNie/19ma573ZiyueNie/blob/master/src/selfandinit.ipynb\" target=\"_parent\"><img src=\"https://colab.research.google.com/assets/colab-badge.svg\" alt=\"Open In Colab\"/></a>"
      ]
    },
    {
      "metadata": {
        "id": "XfBA0HrYp8kt",
        "colab_type": "code",
        "colab": {}
      },
      "cell_type": "code",
      "source": [
        "#name='zoe'; #定义一个全局变量\n",
        "\n",
        "class Person:\n",
        "   #name=\"class global name\" #类变量\n",
        "  name='nie'\n",
        "  \n",
        "  def __init__(self, newPersonName):\n",
        "     \n",
        "      self.name=newPersonName #全局变量\n",
        "      #name=newPersonName #局部变量\n",
        "\n",
        "  def sayYourName(self):\n",
        "      print(\"My person name is\" +self.name) #由后面调用 如果前面定义是name，则此处直接调用的是Person.name,nie\n",
        "      #print(\"My actual name is\" +name) #zoe"
      ],
      "execution_count": 0,
      "outputs": []
    },
    {
      "metadata": {
        "id": "36cLz93DrLij",
        "colab_type": "code",
        "outputId": "bf25a631-63ca-427e-c3db-099ad4fa7d80",
        "colab": {
          "base_uri": "https://localhost:8080/",
          "height": 35
        }
      },
      "cell_type": "code",
      "source": [
        "#def test():此处可以不用定义一个函数\n",
        "  aa=Person('Zoe')\n",
        "  aa.sayYourName()"
      ],
      "execution_count": 0,
      "outputs": [
        {
          "output_type": "stream",
          "text": [
            "My person name isZoe\n"
          ],
          "name": "stdout"
        }
      ]
    },
    {
      "metadata": {
        "id": "JuelQBxMtuiv",
        "colab_type": "code",
        "outputId": "82b604be-c46f-4f4c-a39f-285fd03ce123",
        "colab": {
          "base_uri": "https://localhost:8080/",
          "height": 35
        }
      },
      "cell_type": "code",
      "source": [
        "test()"
      ],
      "execution_count": 0,
      "outputs": [
        {
          "output_type": "stream",
          "text": [
            "My actual name iszoe\n"
          ],
          "name": "stdout"
        }
      ]
    },
    {
      "metadata": {
        "id": "KdanXqx7vlsZ",
        "colab_type": "code",
        "colab": {}
      },
      "cell_type": "code",
      "source": [
        ""
      ],
      "execution_count": 0,
      "outputs": []
    }
  ]
}