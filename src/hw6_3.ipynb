{
  "nbformat": 4,
  "nbformat_minor": 0,
  "metadata": {
    "colab": {
      "name": "hw6_3.ipynb",
      "version": "0.3.2",
      "provenance": [],
      "include_colab_link": true
    },
    "kernelspec": {
      "name": "python3",
      "display_name": "Python 3"
    }
  },
  "cells": [
    {
      "cell_type": "markdown",
      "metadata": {
        "id": "view-in-github",
        "colab_type": "text"
      },
      "source": [
        "<a href=\"https://colab.research.google.com/github/ZiyueNie/19ma573ZiyueNie/blob/master/src/hw6_3.ipynb\" target=\"_parent\"><img src=\"https://colab.research.google.com/assets/colab-badge.svg\" alt=\"Open In Colab\"/></a>"
      ]
    },
    {
      "metadata": {
        "id": "J6k2thr3dPlQ",
        "colab_type": "code",
        "colab": {
          "base_uri": "https://localhost:8080/",
          "height": 139
        },
        "outputId": "cea1f717-2985-4c7e-af6e-f9c7ac6a523b"
      },
      "cell_type": "code",
      "source": [
        "!git clone https://github.com/ZiyueNie/19ma573ZiyueNie"
      ],
      "execution_count": 36,
      "outputs": [
        {
          "output_type": "stream",
          "text": [
            "Cloning into '19ma573ZiyueNie'...\n",
            "remote: Enumerating objects: 67, done.\u001b[K\n",
            "remote: Counting objects: 100% (67/67), done.\u001b[K\n",
            "remote: Compressing objects: 100% (67/67), done.\u001b[K\n",
            "remote: Total 368 (delta 26), reused 0 (delta 0), pack-reused 301\u001b[K\n",
            "Receiving objects: 100% (368/368), 491.79 KiB | 1.95 MiB/s, done.\n",
            "Resolving deltas: 100% (148/148), done.\n"
          ],
          "name": "stdout"
        }
      ]
    },
    {
      "metadata": {
        "id": "8a8DncUhdTb8",
        "colab_type": "code",
        "colab": {
          "base_uri": "https://localhost:8080/",
          "height": 35
        },
        "outputId": "1f1230ad-a3f8-4850-8983-6701eb8891f2"
      },
      "cell_type": "code",
      "source": [
        "cd 19ma573ZiyueNie/src/"
      ],
      "execution_count": 37,
      "outputs": [
        {
          "output_type": "stream",
          "text": [
            "/content/19ma573ZiyueNie/src/19ma573ZiyueNie/src\n"
          ],
          "name": "stdout"
        }
      ]
    },
    {
      "metadata": {
        "id": "nc9UNfgcdWyS",
        "colab_type": "code",
        "colab": {}
      },
      "cell_type": "code",
      "source": [
        "import numpy as np\n",
        "import matplotlib.pyplot as plt\n",
        "import scipy.stats as ss\n",
        "import scipy.optimize as so\n",
        "from contract_v01 import VanillaOption\n",
        "from sde_1d_v01 import *"
      ],
      "execution_count": 0,
      "outputs": []
    },
    {
      "metadata": {
        "id": "gPT2QmkCdrPO",
        "colab_type": "code",
        "colab": {}
      },
      "cell_type": "code",
      "source": [
        "# parameters\n",
        "s0=100\n",
        "sigma=0.20\n",
        "r=0.0475\n",
        "K=110\n",
        "T=1\n",
        "otype=1\n",
        "num_step=5 "
      ],
      "execution_count": 0,
      "outputs": []
    },
    {
      "metadata": {
        "id": "2Y1u5Z6SWlUh",
        "colab_type": "code",
        "colab": {}
      },
      "cell_type": "code",
      "source": [
        "'''def BM_gen(T1, T2, n): #para: start time, end time, mesh numbr\n",
        "  t = np.linspace(T1, T2, num = n+1)\n",
        "  W = np.zeros(n+1)\n",
        "  #Run (3.2)\n",
        "  for i in range(n):\n",
        "    W[i+1] = W[i] + 1./np.sqrt(n) * np.random.normal()\n",
        "    \n",
        "  return t, W\n",
        "\n",
        "'''"
      ],
      "execution_count": 0,
      "outputs": []
    },
    {
      "metadata": {
        "id": "Dfc4ZjMhdx00",
        "colab_type": "code",
        "colab": {}
      },
      "cell_type": "code",
      "source": [
        "gbm=Gbm_1d(init_state = 100., drift_ratio = .0475, vol_ratio = .2)"
      ],
      "execution_count": 0,
      "outputs": []
    },
    {
      "metadata": {
        "id": "ZRv5U-sDdypV",
        "colab_type": "code",
        "colab": {
          "base_uri": "https://localhost:8080/",
          "height": 35
        },
        "outputId": "4667599e-9bb3-40ef-bf40-31280b1234d3"
      },
      "cell_type": "code",
      "source": [
        "## Compute the price of Arithmetic Asian call option\n",
        "AA_CP=bsm_arithmetic_asian_exact_sample(otype=1, strike=110, maturity=1, num_step=5, num_path=100000)\n",
        "print('Arithmetic Asian Call Option Price is ' + str(AA_CP))\n"
      ],
      "execution_count": 54,
      "outputs": [
        {
          "output_type": "stream",
          "text": [
            "Arithmetic Asian Call Option Price is 1.8914892525651255\n"
          ],
          "name": "stdout"
        }
      ]
    },
    {
      "metadata": {
        "id": "njBDvWgseHJL",
        "colab_type": "code",
        "colab": {
          "base_uri": "https://localhost:8080/",
          "height": 35
        },
        "outputId": "a60d2f23-a434-4252-d870-dfbd7953917e"
      },
      "cell_type": "code",
      "source": [
        "## Compute the price of Geomatric Asian call option \n",
        "GA_CP=gbm.bsm_geometric_asian_price(otype=1, strike=110, maturity=1, num_step=4)\n",
        "print('Geometric Asian Call Option Price is ' + str(float(GA_CP)))"
      ],
      "execution_count": 51,
      "outputs": [
        {
          "output_type": "stream",
          "text": [
            "Geometric Asian Call Option Price is 1.607164727431734\n"
          ],
          "name": "stdout"
        }
      ]
    },
    {
      "metadata": {
        "id": "ftkFIbgNkj1X",
        "colab_type": "code",
        "colab": {
          "base_uri": "https://localhost:8080/",
          "height": 35
        },
        "outputId": "78d95c4c-286c-4360-f391-1e79fda5b037"
      },
      "cell_type": "code",
      "source": [
        "## Compute the price of European call option \n",
        "vanilla_option=VanillaOption(otype = 1,strike = 110, maturity = 1, market_price = 100)\n",
        "EU_CP=gbm.bsm_price(vanilla_option)\n",
        "print('European Call Option Price is ' + str(Eu_Op))"
      ],
      "execution_count": 46,
      "outputs": [
        {
          "output_type": "stream",
          "text": [
            "European Call Option Price is 5.943273183452838\n"
          ],
          "name": "stdout"
        }
      ]
    },
    {
      "metadata": {
        "id": "xPRhKU0xnS0n",
        "colab_type": "text"
      },
      "cell_type": "markdown",
      "source": [
        "** Geometric Asian Call Option Price   <  Arithmetic Asian Call Option Price   <  European Call Option Price**"
      ]
    }
  ]
}