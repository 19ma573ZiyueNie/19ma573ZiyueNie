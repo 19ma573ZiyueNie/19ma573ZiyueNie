{
  "nbformat": 4,
  "nbformat_minor": 0,
  "metadata": {
    "colab": {
      "name": "hw8_3.ipynb",
      "version": "0.3.2",
      "provenance": [],
      "include_colab_link": true
    },
    "kernelspec": {
      "name": "python3",
      "display_name": "Python 3"
    }
  },
  "cells": [
    {
      "cell_type": "markdown",
      "metadata": {
        "id": "view-in-github",
        "colab_type": "text"
      },
      "source": [
        "<a href=\"https://colab.research.google.com/github/ZiyueNie/19ma573ZiyueNie/blob/master/src/hw8_3.ipynb\" target=\"_parent\"><img src=\"https://colab.research.google.com/assets/colab-badge.svg\" alt=\"Open In Colab\"/></a>"
      ]
    },
    {
      "metadata": {
        "id": "-arj31AyPbyP",
        "colab_type": "text"
      },
      "cell_type": "markdown",
      "source": [
        "**1.**Let $X_t=e^{iuW_t}$ ,for a standard Brownian Motion $W_t$. Find $\\phi(t)=E[X_t]$\n",
        "<br>Since $W_t$ is a standard Brownian Motion, then we have $W_t\\sim \\mathcal N(0,t)$ \n",
        "$$\n",
        "\\begin{align*}\n",
        "\\phi_t(u)\n",
        "&=E[e^{iuW_t}] \\\\\n",
        "&=\\int^{\\infty}_{-\\infty}e^{iux}\\frac{1}{\\sqrt{2\\pi t}}e^{-\\frac{x^2}{2t}} dx \\\\\n",
        "&=\\frac{1}{\\sqrt{2\\pi t}}\\int^{\\infty}_{-\\infty}e^{-\\frac{(x-iut)^2}{2t}}e^{-\\frac{u^2t}{2}} dx \\\\\n",
        "&=e^{-\\frac{u^2t}{2}}\n",
        "\\end{align*}\n",
        "$$"
      ]
    },
    {
      "metadata": {
        "id": "HjyYvqT4Qhug",
        "colab_type": "text"
      },
      "cell_type": "markdown",
      "source": [
        "**2.** Let $Y \\sim \\mathcal N(\\mu,\\sigma^2)$ be a random variable , prove that its characteristic function is $e^{iu\\mu-\\frac{1}{2}u^2\\sigma^2}$\n",
        "<br>Since $W_t$ is a standard Brownian Motion, then we have $W_t\\sim \\mathcal N(0,t)$ \n",
        "$$\n",
        "\\begin{align*}\n",
        "\\phi_t(u)\n",
        "&=E[e^{iuY}] \\\\\n",
        "&=\\int^{\\infty}_{-\\infty}e^{iux}\\frac{1}{\\sqrt{2\\pi \\sigma^2}}e^{-\\frac{(x-\\mu)^2}{2\\sigma^2}} dx \\\\\n",
        "&=\\frac{1}{\\sqrt{2\\pi \\sigma^2}}\\int^{\\infty}_{-\\infty}e^{-\\frac{[x-(\\mu+\\sigma^2iu)]^2}{2\\sigma^2}}e^{-\\frac{(\\mu+\\sigma^2iu)^2-\\mu^2}{2\\sigma^2}} dx \\\\\n",
        "&=e^{\\frac{(\\mu+\\sigma^2iu)^2-\\mu^2}{2\\sigma^2}} \\\\\n",
        "&=e^{\\frac{2\\sigma^2i\\mu u-\\sigma^4 u^2}{2\\sigma^2}} \\\\\n",
        "&=e^{i\\mu u-\\frac{\\sigma^2 u^2}{2}}\n",
        "\\end{align*}\n",
        "$$"
      ]
    }
  ]
}