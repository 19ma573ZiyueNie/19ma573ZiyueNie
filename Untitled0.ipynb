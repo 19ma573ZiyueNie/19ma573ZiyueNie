{
  "nbformat": 4,
  "nbformat_minor": 0,
  "metadata": {
    "colab": {
      "name": "Untitled0.ipynb",
      "version": "0.3.2",
      "provenance": [],
      "include_colab_link": true
    },
    "kernelspec": {
      "name": "python3",
      "display_name": "Python 3"
    }
  },
  "cells": [
    {
      "cell_type": "markdown",
      "metadata": {
        "id": "view-in-github",
        "colab_type": "text"
      },
      "source": [
        "<a href=\"https://colab.research.google.com/github/19ma573ZiyueNie/19ma573ZiyueNie/blob/master/Untitled0.ipynb\" target=\"_parent\"><img src=\"https://colab.research.google.com/assets/colab-badge.svg\" alt=\"Open In Colab\"/></a>"
      ]
    },
    {
      "metadata": {
        "id": "gIwYU6eJNutF",
        "colab_type": "code",
        "colab": {}
      },
      "cell_type": "code",
      "source": [
        "this is my first hello\n",
        "- item1\n",
        "\n"
      ],
      "execution_count": 0,
      "outputs": []
    },
    {
      "metadata": {
        "id": "OnGPpWAcO1qI",
        "colab_type": "text"
      },
      "cell_type": "markdown",
      "source": [
        "this is my first hello\n",
        "- item1\n",
        "- item2\n"
      ]
    },
    {
      "metadata": {
        "id": "g_f-aWB4PGlh",
        "colab_type": "code",
        "colab": {}
      },
      "cell_type": "code",
      "source": [
        "'''===========\n",
        "This is python code\n",
        "=============='''\n",
        "print('--->>> hello world! Here is the sin graph <<<-----')\n",
        "\n",
        "import numpy as np\n",
        "import matplotlib.pyplot as plt\n",
        "x = np.linspace(-3, 3, 100)\n",
        "plt.plot(x, np.sin(x));\n"
      ],
      "execution_count": 0,
      "outputs": []
    },
    {
      "metadata": {
        "id": "PFb_95-0On2o",
        "colab_type": "code",
        "colab": {}
      },
      "cell_type": "code",
      "source": [
        "this is my first hello\n",
        "- item1\n",
        "- item2\n",
        "\n"
      ],
      "execution_count": 0,
      "outputs": []
    },
    {
      "metadata": {
        "id": "uL-JTCxVOs7c",
        "colab_type": "code",
        "colab": {}
      },
      "cell_type": "code",
      "source": [
        ""
      ],
      "execution_count": 0,
      "outputs": []
    },
    {
      "metadata": {
        "id": "S2nbZBseN9LT",
        "colab_type": "text"
      },
      "cell_type": "markdown",
      "source": [
        "here is latex symbols:\n",
        "$$\n",
        "\\alpha+\\beta=\\gamma\n",
        "$$"
      ]
    }
  ]
}